{
 "cells": [
  {
   "cell_type": "code",
   "execution_count": 3,
   "id": "7b8bd0fe",
   "metadata": {},
   "outputs": [],
   "source": [
    "import re\n",
    "import pandas as pd\n",
    "import numpy as np\n",
    "import nltk\n",
    "from nltk.corpus import names\n",
    "from sklearn.model_selection import train_test_split"
   ]
  },
  {
   "cell_type": "code",
   "execution_count": 4,
   "id": "ab4d06c1",
   "metadata": {},
   "outputs": [],
   "source": [
    "demo = pd.read_excel(\"Sample Data.xlsx\")"
   ]
  },
  {
   "cell_type": "code",
   "execution_count": 6,
   "id": "5bb9cd7c",
   "metadata": {},
   "outputs": [
    {
     "data": {
      "text/html": [
       "<div>\n",
       "<style scoped>\n",
       "    .dataframe tbody tr th:only-of-type {\n",
       "        vertical-align: middle;\n",
       "    }\n",
       "\n",
       "    .dataframe tbody tr th {\n",
       "        vertical-align: top;\n",
       "    }\n",
       "\n",
       "    .dataframe thead th {\n",
       "        text-align: right;\n",
       "    }\n",
       "</style>\n",
       "<table border=\"1\" class=\"dataframe\">\n",
       "  <thead>\n",
       "    <tr style=\"text-align: right;\">\n",
       "      <th></th>\n",
       "      <th>LocalStudentID</th>\n",
       "      <th>USI</th>\n",
       "      <th>Name</th>\n",
       "      <th>Sex</th>\n",
       "      <th>CurrentGradeLevel</th>\n",
       "      <th>RaceEthnicity</th>\n",
       "      <th>IEP</th>\n",
       "      <th>AtRisk</th>\n",
       "    </tr>\n",
       "  </thead>\n",
       "  <tbody>\n",
       "    <tr>\n",
       "      <th>0</th>\n",
       "      <td>10001</td>\n",
       "      <td>2239664225</td>\n",
       "      <td>Palmer, Keke</td>\n",
       "      <td>Female</td>\n",
       "      <td>6</td>\n",
       "      <td>Hispanic/Latino</td>\n",
       "      <td>No IEP</td>\n",
       "      <td>Not At-Risk</td>\n",
       "    </tr>\n",
       "    <tr>\n",
       "      <th>1</th>\n",
       "      <td>10002</td>\n",
       "      <td>2650023531</td>\n",
       "      <td>Garson, Greer</td>\n",
       "      <td>Female</td>\n",
       "      <td>6</td>\n",
       "      <td>White</td>\n",
       "      <td>No IEP</td>\n",
       "      <td>At-Risk</td>\n",
       "    </tr>\n",
       "    <tr>\n",
       "      <th>2</th>\n",
       "      <td>10003</td>\n",
       "      <td>3441934847</td>\n",
       "      <td>Fonda, Henry</td>\n",
       "      <td>Male</td>\n",
       "      <td>6</td>\n",
       "      <td>White</td>\n",
       "      <td>IEP</td>\n",
       "      <td>At-Risk</td>\n",
       "    </tr>\n",
       "    <tr>\n",
       "      <th>3</th>\n",
       "      <td>10004</td>\n",
       "      <td>4716164342</td>\n",
       "      <td>Garbo, Greta</td>\n",
       "      <td>Female</td>\n",
       "      <td>6</td>\n",
       "      <td>White</td>\n",
       "      <td>No IEP</td>\n",
       "      <td>At-Risk</td>\n",
       "    </tr>\n",
       "    <tr>\n",
       "      <th>4</th>\n",
       "      <td>10005</td>\n",
       "      <td>3506382949</td>\n",
       "      <td>Baker, Josephine</td>\n",
       "      <td>Female</td>\n",
       "      <td>6</td>\n",
       "      <td>White</td>\n",
       "      <td>No IEP</td>\n",
       "      <td>Not At-Risk</td>\n",
       "    </tr>\n",
       "    <tr>\n",
       "      <th>...</th>\n",
       "      <td>...</td>\n",
       "      <td>...</td>\n",
       "      <td>...</td>\n",
       "      <td>...</td>\n",
       "      <td>...</td>\n",
       "      <td>...</td>\n",
       "      <td>...</td>\n",
       "      <td>...</td>\n",
       "    </tr>\n",
       "    <tr>\n",
       "      <th>421</th>\n",
       "      <td>10464</td>\n",
       "      <td>4750973818</td>\n",
       "      <td>Watson, Emma</td>\n",
       "      <td>Female</td>\n",
       "      <td>7</td>\n",
       "      <td>White</td>\n",
       "      <td>No IEP</td>\n",
       "      <td>At-Risk</td>\n",
       "    </tr>\n",
       "    <tr>\n",
       "      <th>422</th>\n",
       "      <td>10465</td>\n",
       "      <td>1447613002</td>\n",
       "      <td>Robbie, Margot</td>\n",
       "      <td>Female</td>\n",
       "      <td>8</td>\n",
       "      <td>White</td>\n",
       "      <td>No IEP</td>\n",
       "      <td>Not At-Risk</td>\n",
       "    </tr>\n",
       "    <tr>\n",
       "      <th>423</th>\n",
       "      <td>10466</td>\n",
       "      <td>8930493455</td>\n",
       "      <td>Woodley, Shailene</td>\n",
       "      <td>Female</td>\n",
       "      <td>8</td>\n",
       "      <td>Black or African American</td>\n",
       "      <td>No IEP</td>\n",
       "      <td>At-Risk</td>\n",
       "    </tr>\n",
       "    <tr>\n",
       "      <th>424</th>\n",
       "      <td>10467</td>\n",
       "      <td>4292757544</td>\n",
       "      <td>Morgan, Vanessa</td>\n",
       "      <td>Female</td>\n",
       "      <td>10</td>\n",
       "      <td>Black or African American</td>\n",
       "      <td>No IEP</td>\n",
       "      <td>Not At-Risk</td>\n",
       "    </tr>\n",
       "    <tr>\n",
       "      <th>425</th>\n",
       "      <td>10468</td>\n",
       "      <td>2768189192</td>\n",
       "      <td>Lovato, Demi</td>\n",
       "      <td>Female</td>\n",
       "      <td>8</td>\n",
       "      <td>Black or African American</td>\n",
       "      <td>No IEP</td>\n",
       "      <td>At-Risk</td>\n",
       "    </tr>\n",
       "  </tbody>\n",
       "</table>\n",
       "<p>426 rows × 8 columns</p>\n",
       "</div>"
      ],
      "text/plain": [
       "     LocalStudentID         USI               Name     Sex  CurrentGradeLevel  \\\n",
       "0             10001  2239664225       Palmer, Keke  Female                  6   \n",
       "1             10002  2650023531      Garson, Greer  Female                  6   \n",
       "2             10003  3441934847       Fonda, Henry    Male                  6   \n",
       "3             10004  4716164342       Garbo, Greta  Female                  6   \n",
       "4             10005  3506382949   Baker, Josephine  Female                  6   \n",
       "..              ...         ...                ...     ...                ...   \n",
       "421           10464  4750973818       Watson, Emma  Female                  7   \n",
       "422           10465  1447613002     Robbie, Margot  Female                  8   \n",
       "423           10466  8930493455  Woodley, Shailene  Female                  8   \n",
       "424           10467  4292757544    Morgan, Vanessa  Female                 10   \n",
       "425           10468  2768189192       Lovato, Demi  Female                  8   \n",
       "\n",
       "                 RaceEthnicity     IEP       AtRisk  \n",
       "0              Hispanic/Latino  No IEP  Not At-Risk  \n",
       "1                        White  No IEP      At-Risk  \n",
       "2                        White     IEP      At-Risk  \n",
       "3                        White  No IEP      At-Risk  \n",
       "4                        White  No IEP  Not At-Risk  \n",
       "..                         ...     ...          ...  \n",
       "421                      White  No IEP      At-Risk  \n",
       "422                      White  No IEP  Not At-Risk  \n",
       "423  Black or African American  No IEP      At-Risk  \n",
       "424  Black or African American  No IEP  Not At-Risk  \n",
       "425  Black or African American  No IEP      At-Risk  \n",
       "\n",
       "[426 rows x 8 columns]"
      ]
     },
     "execution_count": 6,
     "metadata": {},
     "output_type": "execute_result"
    }
   ],
   "source": [
    "demo"
   ]
  },
  {
   "cell_type": "markdown",
   "id": "8014884b",
   "metadata": {},
   "source": [
    "Initial thoughts upon viewing the database:\n",
    "\n",
    "LocalStudentID should be auto increment if this is the convention followed, unless this studentid is received from the school's database. \n",
    "\n",
    "USI - unique student identifier == primary key\n",
    "\n",
    "Name should be split by first name and last name\n",
    "\n",
    "Sex should only allow M or F, one character limit\n",
    "\n",
    "Current grade level, no 0's before number, ie. 08\n",
    "\n",
    "RaceEthnicity should be split into two different columns race and ethnicity are different\n",
    "\n",
    "Reconstruct how data is entered into the database.\n",
    "\n",
    "Create SQL tables with following statements:\n",
    "\n",
    "\n",
    "\n",
    "\n"
   ]
  },
  {
   "cell_type": "code",
   "execution_count": 18,
   "id": "0c0a0200",
   "metadata": {},
   "outputs": [
    {
     "data": {
      "text/plain": [
       "0"
      ]
     },
     "execution_count": 18,
     "metadata": {},
     "output_type": "execute_result"
    }
   ],
   "source": [
    "demo['LocalStudentID'].duplicated().sum() # columns are unique"
   ]
  },
  {
   "cell_type": "code",
   "execution_count": 17,
   "id": "e84cebf7",
   "metadata": {},
   "outputs": [
    {
     "data": {
      "text/plain": [
       "0"
      ]
     },
     "execution_count": 17,
     "metadata": {},
     "output_type": "execute_result"
    }
   ],
   "source": [
    "demo['USI'].duplicated().sum() # column is unique"
   ]
  },
  {
   "cell_type": "code",
   "execution_count": 20,
   "id": "df6c77ff",
   "metadata": {},
   "outputs": [
    {
     "data": {
      "text/plain": [
       "array(['Hispanic/Latino', 'White', 'Black or African American'],\n",
       "      dtype=object)"
      ]
     },
     "execution_count": 20,
     "metadata": {},
     "output_type": "execute_result"
    }
   ],
   "source": [
    "demo['RaceEthnicity'].unique()"
   ]
  },
  {
   "cell_type": "code",
   "execution_count": 21,
   "id": "dea90298",
   "metadata": {},
   "outputs": [
    {
     "data": {
      "text/plain": [
       "array(['Female', 'Male', 'M', 'F', 'IEP'], dtype=object)"
      ]
     },
     "execution_count": 21,
     "metadata": {},
     "output_type": "execute_result"
    }
   ],
   "source": [
    "demo['Sex'].unique() # too many values. Should be M or F"
   ]
  },
  {
   "cell_type": "code",
   "execution_count": 10,
   "id": "7ddb6027",
   "metadata": {},
   "outputs": [
    {
     "data": {
      "text/plain": [
       "0      10001\n",
       "1      10002\n",
       "2      10003\n",
       "3      10004\n",
       "4      10005\n",
       "       ...  \n",
       "421    10464\n",
       "422    10465\n",
       "423    10466\n",
       "424    10467\n",
       "425    10468\n",
       "Name: LocalStudentID, Length: 426, dtype: int64"
      ]
     },
     "execution_count": 10,
     "metadata": {},
     "output_type": "execute_result"
    }
   ],
   "source": [
    "demo['LocalStudentID']"
   ]
  },
  {
   "cell_type": "code",
   "execution_count": 7,
   "id": "60bb91cb",
   "metadata": {},
   "outputs": [
    {
     "data": {
      "text/plain": [
       "0           [Palmer,  Keke]\n",
       "1          [Garson,  Greer]\n",
       "2           [Fonda,  Henry]\n",
       "3           [Garbo,  Greta]\n",
       "4       [Baker,  Josephine]\n",
       "               ...         \n",
       "421         [Watson,  Emma]\n",
       "422       [Robbie,  Margot]\n",
       "423    [Woodley,  Shailene]\n",
       "424      [Morgan,  Vanessa]\n",
       "425         [Lovato,  Demi]\n",
       "Name: Name, Length: 426, dtype: object"
      ]
     },
     "execution_count": 7,
     "metadata": {},
     "output_type": "execute_result"
    }
   ],
   "source": [
    "demo['Name'].map(lambda x: x.split(','))"
   ]
  },
  {
   "cell_type": "code",
   "execution_count": 15,
   "id": "a81fa268",
   "metadata": {},
   "outputs": [],
   "source": [
    "demo[['FirstName', 'LastName']] = demo.Name.str.split(',', expand = True)"
   ]
  },
  {
   "cell_type": "code",
   "execution_count": 24,
   "id": "ac0289d6",
   "metadata": {},
   "outputs": [
    {
     "data": {
      "text/plain": [
       "array(['Female', 'Male', 'M', 'F', 'IEP'], dtype=object)"
      ]
     },
     "execution_count": 24,
     "metadata": {},
     "output_type": "execute_result"
    }
   ],
   "source": [
    "demo['Sex'].unique()"
   ]
  },
  {
   "cell_type": "code",
   "execution_count": 6,
   "id": "9d665461",
   "metadata": {},
   "outputs": [],
   "source": [
    "#replace Female with F and Male to M\n",
    "#replace anything that is not F or M with np.nan\n",
    "\n",
    "def correct_sex(df):\n",
    "    df['Sex'].replace({'Female':'F', 'female':'F',\n",
    "                       'Male':'M', 'male':'M' }, inplace = True)\n",
    "    indexs_to_change = df[(df['Sex'] != 'F' ) & ( df['Sex'] != 'M')].loc[:, 'Sex'].index\n",
    "    df.loc[indexs_to_change, 'Sex'] = np.nan\n",
    "    return indexs_to_change\n",
    "idxs = correct_sex(demo)\n",
    "#demo[(demo['Sex'] != 'F' ) & ( demo['Sex'] != 'M')].loc[:, 'Sex'].index\n",
    "#demo.loc[201,'Sex'] = np.nan"
   ]
  },
  {
   "cell_type": "code",
   "execution_count": 7,
   "id": "5211addc",
   "metadata": {},
   "outputs": [],
   "source": [
    "#split first and last name into seperate columns\n",
    "\n",
    "def splitFirstNameLastName(df):\n",
    "    df[['LastName', 'FirstName']] = df.Name.str.split(',',  expand = True)\n",
    "    df.loc[:, 'LastName'] = df.loc[:, 'LastName'].map(lambda x: x.strip())\n",
    "    df.loc[:, 'FirstName'] = df.loc[:, 'FirstName'].map(lambda x: x.strip())        \n",
    "\n",
    "splitFirstNameLastName(demo)\n",
    "\n",
    "def inputSex(df, index_to_change):\n",
    "    male_names = names.words('male.txt')\n",
    "    female_names = names.words('female.txt')\n",
    "    for idx in index_to_change:\n",
    "        if df.loc[idx, 'FirstName'] in male_names:\n",
    "            df.loc[idx, 'Sex'] = 'M'\n",
    "        elif df.loc[idx, 'FirstName'] in female_names:\n",
    "            df.loc[idx, 'Sex'] = 'F'\n",
    "            \n",
    "inputSex(demo, idxs)"
   ]
  },
  {
   "cell_type": "code",
   "execution_count": 43,
   "id": "b355e2bd",
   "metadata": {},
   "outputs": [
    {
     "data": {
      "text/plain": [
       "'F'"
      ]
     },
     "execution_count": 43,
     "metadata": {},
     "output_type": "execute_result"
    }
   ],
   "source": [
    "demo.loc[201, 'Sex']"
   ]
  },
  {
   "cell_type": "code",
   "execution_count": 10,
   "id": "b22bb835",
   "metadata": {},
   "outputs": [
    {
     "data": {
      "text/plain": [
       "['Sex']"
      ]
     },
     "execution_count": 10,
     "metadata": {},
     "output_type": "execute_result"
    }
   ],
   "source": []
  },
  {
   "cell_type": "code",
   "execution_count": 31,
   "id": "a1507265",
   "metadata": {},
   "outputs": [
    {
     "name": "stdout",
     "output_type": "stream",
     "text": [
      "201\n"
     ]
    }
   ],
   "source": [
    "for idx in idxs:\n",
    "    print (idx)"
   ]
  },
  {
   "cell_type": "code",
   "execution_count": 34,
   "id": "c2630a7f",
   "metadata": {},
   "outputs": [
    {
     "data": {
      "text/plain": [
       "' Greer'"
      ]
     },
     "execution_count": 34,
     "metadata": {},
     "output_type": "execute_result"
    }
   ],
   "source": [
    "demo.loc[1,'FirstName']"
   ]
  },
  {
   "cell_type": "code",
   "execution_count": 36,
   "id": "6cc3b00d",
   "metadata": {},
   "outputs": [
    {
     "data": {
      "text/plain": [
       "'Greer'"
      ]
     },
     "execution_count": 36,
     "metadata": {},
     "output_type": "execute_result"
    }
   ],
   "source": [
    "demo['FirstName'].map(lambda x: x.strip())"
   ]
  },
  {
   "cell_type": "code",
   "execution_count": 21,
   "id": "099dd543",
   "metadata": {},
   "outputs": [
    {
     "data": {
      "text/plain": [
       "LocalStudentID       0\n",
       "USI                  0\n",
       "Name                 0\n",
       "Sex                  1\n",
       "CurrentGradeLevel    0\n",
       "RaceEthnicity        0\n",
       "IEP                  0\n",
       "AtRisk               0\n",
       "dtype: int64"
      ]
     },
     "execution_count": 21,
     "metadata": {},
     "output_type": "execute_result"
    }
   ],
   "source": [
    "demo.isna().sum()"
   ]
  },
  {
   "cell_type": "code",
   "execution_count": 4,
   "id": "f02e4da9",
   "metadata": {},
   "outputs": [],
   "source": [
    "male_names = names.words('male.txt')\n",
    "female_name = names.words('female.txt')"
   ]
  },
  {
   "cell_type": "code",
   "execution_count": 17,
   "id": "93302c6f",
   "metadata": {},
   "outputs": [
    {
     "data": {
      "text/plain": [
       "Int64Index([201], dtype='int64')"
      ]
     },
     "execution_count": 17,
     "metadata": {},
     "output_type": "execute_result"
    }
   ],
   "source": [
    "idxs"
   ]
  },
  {
   "cell_type": "code",
   "execution_count": 72,
   "id": "769f816c",
   "metadata": {},
   "outputs": [
    {
     "data": {
      "text/plain": [
       "array([ 6,  8, 10,  9, 12, 11,  7], dtype=int64)"
      ]
     },
     "execution_count": 72,
     "metadata": {},
     "output_type": "execute_result"
    }
   ],
   "source": [
    "#pandas has already handled the 07 and 09 cases\n",
    "\n",
    "demo['CurrentGradeLevel'].unique()"
   ]
  },
  {
   "cell_type": "code",
   "execution_count": 76,
   "id": "44c4bb6e",
   "metadata": {},
   "outputs": [
    {
     "data": {
      "text/plain": [
       "0                Hispanic/Latino\n",
       "1                          White\n",
       "2                          White\n",
       "3                          White\n",
       "4                          White\n",
       "                 ...            \n",
       "421                        White\n",
       "422                        White\n",
       "423    Black or African American\n",
       "424    Black or African American\n",
       "425    Black or African American\n",
       "Name: RaceEthnicity, Length: 426, dtype: object"
      ]
     },
     "execution_count": 76,
     "metadata": {},
     "output_type": "execute_result"
    }
   ],
   "source": [
    "#check to see if race and ethnicity should be different\n",
    "demo['RaceEthnicity']"
   ]
  },
  {
   "cell_type": "code",
   "execution_count": 79,
   "id": "fee2175a",
   "metadata": {},
   "outputs": [
    {
     "data": {
      "text/plain": [
       "array(['No IEP', 'IEP'], dtype=object)"
      ]
     },
     "execution_count": 79,
     "metadata": {},
     "output_type": "execute_result"
    }
   ],
   "source": [
    "#looks clean\n",
    "demo['IEP'].unique()"
   ]
  },
  {
   "cell_type": "code",
   "execution_count": 82,
   "id": "ec47a55f",
   "metadata": {},
   "outputs": [
    {
     "data": {
      "text/plain": [
       "array(['Not At-Risk', 'At-Risk'], dtype=object)"
      ]
     },
     "execution_count": 82,
     "metadata": {},
     "output_type": "execute_result"
    }
   ],
   "source": [
    "#looks clean\n",
    "demo['AtRisk'].unique()"
   ]
  },
  {
   "cell_type": "code",
   "execution_count": 44,
   "id": "faf08793",
   "metadata": {},
   "outputs": [
    {
     "data": {
      "text/html": [
       "<div>\n",
       "<style scoped>\n",
       "    .dataframe tbody tr th:only-of-type {\n",
       "        vertical-align: middle;\n",
       "    }\n",
       "\n",
       "    .dataframe tbody tr th {\n",
       "        vertical-align: top;\n",
       "    }\n",
       "\n",
       "    .dataframe thead th {\n",
       "        text-align: right;\n",
       "    }\n",
       "</style>\n",
       "<table border=\"1\" class=\"dataframe\">\n",
       "  <thead>\n",
       "    <tr style=\"text-align: right;\">\n",
       "      <th></th>\n",
       "      <th>LocalStudentID</th>\n",
       "      <th>USI</th>\n",
       "      <th>Name</th>\n",
       "      <th>Sex</th>\n",
       "      <th>CurrentGradeLevel</th>\n",
       "      <th>RaceEthnicity</th>\n",
       "      <th>IEP</th>\n",
       "      <th>AtRisk</th>\n",
       "      <th>LastName</th>\n",
       "      <th>FirstName</th>\n",
       "    </tr>\n",
       "  </thead>\n",
       "  <tbody>\n",
       "    <tr>\n",
       "      <th>0</th>\n",
       "      <td>10001</td>\n",
       "      <td>2239664225</td>\n",
       "      <td>Palmer, Keke</td>\n",
       "      <td>F</td>\n",
       "      <td>6</td>\n",
       "      <td>Hispanic/Latino</td>\n",
       "      <td>No IEP</td>\n",
       "      <td>Not At-Risk</td>\n",
       "      <td>Palmer</td>\n",
       "      <td>Keke</td>\n",
       "    </tr>\n",
       "    <tr>\n",
       "      <th>1</th>\n",
       "      <td>10002</td>\n",
       "      <td>2650023531</td>\n",
       "      <td>Garson, Greer</td>\n",
       "      <td>F</td>\n",
       "      <td>6</td>\n",
       "      <td>White</td>\n",
       "      <td>No IEP</td>\n",
       "      <td>At-Risk</td>\n",
       "      <td>Garson</td>\n",
       "      <td>Greer</td>\n",
       "    </tr>\n",
       "    <tr>\n",
       "      <th>2</th>\n",
       "      <td>10003</td>\n",
       "      <td>3441934847</td>\n",
       "      <td>Fonda, Henry</td>\n",
       "      <td>M</td>\n",
       "      <td>6</td>\n",
       "      <td>White</td>\n",
       "      <td>IEP</td>\n",
       "      <td>At-Risk</td>\n",
       "      <td>Fonda</td>\n",
       "      <td>Henry</td>\n",
       "    </tr>\n",
       "    <tr>\n",
       "      <th>3</th>\n",
       "      <td>10004</td>\n",
       "      <td>4716164342</td>\n",
       "      <td>Garbo, Greta</td>\n",
       "      <td>F</td>\n",
       "      <td>6</td>\n",
       "      <td>White</td>\n",
       "      <td>No IEP</td>\n",
       "      <td>At-Risk</td>\n",
       "      <td>Garbo</td>\n",
       "      <td>Greta</td>\n",
       "    </tr>\n",
       "    <tr>\n",
       "      <th>4</th>\n",
       "      <td>10005</td>\n",
       "      <td>3506382949</td>\n",
       "      <td>Baker, Josephine</td>\n",
       "      <td>F</td>\n",
       "      <td>6</td>\n",
       "      <td>White</td>\n",
       "      <td>No IEP</td>\n",
       "      <td>Not At-Risk</td>\n",
       "      <td>Baker</td>\n",
       "      <td>Josephine</td>\n",
       "    </tr>\n",
       "    <tr>\n",
       "      <th>...</th>\n",
       "      <td>...</td>\n",
       "      <td>...</td>\n",
       "      <td>...</td>\n",
       "      <td>...</td>\n",
       "      <td>...</td>\n",
       "      <td>...</td>\n",
       "      <td>...</td>\n",
       "      <td>...</td>\n",
       "      <td>...</td>\n",
       "      <td>...</td>\n",
       "    </tr>\n",
       "    <tr>\n",
       "      <th>421</th>\n",
       "      <td>10464</td>\n",
       "      <td>4750973818</td>\n",
       "      <td>Watson, Emma</td>\n",
       "      <td>F</td>\n",
       "      <td>7</td>\n",
       "      <td>White</td>\n",
       "      <td>No IEP</td>\n",
       "      <td>At-Risk</td>\n",
       "      <td>Watson</td>\n",
       "      <td>Emma</td>\n",
       "    </tr>\n",
       "    <tr>\n",
       "      <th>422</th>\n",
       "      <td>10465</td>\n",
       "      <td>1447613002</td>\n",
       "      <td>Robbie, Margot</td>\n",
       "      <td>F</td>\n",
       "      <td>8</td>\n",
       "      <td>White</td>\n",
       "      <td>No IEP</td>\n",
       "      <td>Not At-Risk</td>\n",
       "      <td>Robbie</td>\n",
       "      <td>Margot</td>\n",
       "    </tr>\n",
       "    <tr>\n",
       "      <th>423</th>\n",
       "      <td>10466</td>\n",
       "      <td>8930493455</td>\n",
       "      <td>Woodley, Shailene</td>\n",
       "      <td>F</td>\n",
       "      <td>8</td>\n",
       "      <td>Black or African American</td>\n",
       "      <td>No IEP</td>\n",
       "      <td>At-Risk</td>\n",
       "      <td>Woodley</td>\n",
       "      <td>Shailene</td>\n",
       "    </tr>\n",
       "    <tr>\n",
       "      <th>424</th>\n",
       "      <td>10467</td>\n",
       "      <td>4292757544</td>\n",
       "      <td>Morgan, Vanessa</td>\n",
       "      <td>F</td>\n",
       "      <td>10</td>\n",
       "      <td>Black or African American</td>\n",
       "      <td>No IEP</td>\n",
       "      <td>Not At-Risk</td>\n",
       "      <td>Morgan</td>\n",
       "      <td>Vanessa</td>\n",
       "    </tr>\n",
       "    <tr>\n",
       "      <th>425</th>\n",
       "      <td>10468</td>\n",
       "      <td>2768189192</td>\n",
       "      <td>Lovato, Demi</td>\n",
       "      <td>F</td>\n",
       "      <td>8</td>\n",
       "      <td>Black or African American</td>\n",
       "      <td>No IEP</td>\n",
       "      <td>At-Risk</td>\n",
       "      <td>Lovato</td>\n",
       "      <td>Demi</td>\n",
       "    </tr>\n",
       "  </tbody>\n",
       "</table>\n",
       "<p>426 rows × 10 columns</p>\n",
       "</div>"
      ],
      "text/plain": [
       "     LocalStudentID         USI               Name Sex  CurrentGradeLevel  \\\n",
       "0             10001  2239664225       Palmer, Keke   F                  6   \n",
       "1             10002  2650023531      Garson, Greer   F                  6   \n",
       "2             10003  3441934847       Fonda, Henry   M                  6   \n",
       "3             10004  4716164342       Garbo, Greta   F                  6   \n",
       "4             10005  3506382949   Baker, Josephine   F                  6   \n",
       "..              ...         ...                ...  ..                ...   \n",
       "421           10464  4750973818       Watson, Emma   F                  7   \n",
       "422           10465  1447613002     Robbie, Margot   F                  8   \n",
       "423           10466  8930493455  Woodley, Shailene   F                  8   \n",
       "424           10467  4292757544    Morgan, Vanessa   F                 10   \n",
       "425           10468  2768189192       Lovato, Demi   F                  8   \n",
       "\n",
       "                 RaceEthnicity     IEP       AtRisk LastName  FirstName  \n",
       "0              Hispanic/Latino  No IEP  Not At-Risk   Palmer       Keke  \n",
       "1                        White  No IEP      At-Risk   Garson      Greer  \n",
       "2                        White     IEP      At-Risk    Fonda      Henry  \n",
       "3                        White  No IEP      At-Risk    Garbo      Greta  \n",
       "4                        White  No IEP  Not At-Risk    Baker  Josephine  \n",
       "..                         ...     ...          ...      ...        ...  \n",
       "421                      White  No IEP      At-Risk   Watson       Emma  \n",
       "422                      White  No IEP  Not At-Risk   Robbie     Margot  \n",
       "423  Black or African American  No IEP      At-Risk  Woodley   Shailene  \n",
       "424  Black or African American  No IEP  Not At-Risk   Morgan    Vanessa  \n",
       "425  Black or African American  No IEP      At-Risk   Lovato       Demi  \n",
       "\n",
       "[426 rows x 10 columns]"
      ]
     },
     "execution_count": 44,
     "metadata": {},
     "output_type": "execute_result"
    }
   ],
   "source": [
    "demo"
   ]
  },
  {
   "cell_type": "code",
   "execution_count": 337,
   "id": "377a08f5",
   "metadata": {},
   "outputs": [],
   "source": [
    "scores = pd.read_excel(\"Sample Data.xlsx\", sheet_name=1)"
   ]
  },
  {
   "cell_type": "code",
   "execution_count": 12,
   "id": "f9311189",
   "metadata": {},
   "outputs": [
    {
     "data": {
      "text/html": [
       "<div>\n",
       "<style scoped>\n",
       "    .dataframe tbody tr th:only-of-type {\n",
       "        vertical-align: middle;\n",
       "    }\n",
       "\n",
       "    .dataframe tbody tr th {\n",
       "        vertical-align: top;\n",
       "    }\n",
       "\n",
       "    .dataframe thead th {\n",
       "        text-align: right;\n",
       "    }\n",
       "</style>\n",
       "<table border=\"1\" class=\"dataframe\">\n",
       "  <thead>\n",
       "    <tr style=\"text-align: right;\">\n",
       "      <th></th>\n",
       "      <th>StudentID</th>\n",
       "      <th>Season Year</th>\n",
       "      <th>Test Date</th>\n",
       "      <th>Mathematics Score</th>\n",
       "      <th>Mathematics Met Growth Target</th>\n",
       "      <th>Reading Score</th>\n",
       "      <th>Reading Met Growth Target</th>\n",
       "    </tr>\n",
       "  </thead>\n",
       "  <tbody>\n",
       "    <tr>\n",
       "      <th>0</th>\n",
       "      <td>10313</td>\n",
       "      <td>Fall 2020-2021</td>\n",
       "      <td>2020-09-15</td>\n",
       "      <td>215</td>\n",
       "      <td>Yes</td>\n",
       "      <td>467.0</td>\n",
       "      <td>Yes</td>\n",
       "    </tr>\n",
       "    <tr>\n",
       "      <th>1</th>\n",
       "      <td>10314</td>\n",
       "      <td>Fall 2020-2021</td>\n",
       "      <td>2020-09-15</td>\n",
       "      <td>223</td>\n",
       "      <td>No</td>\n",
       "      <td>203.0</td>\n",
       "      <td>No</td>\n",
       "    </tr>\n",
       "    <tr>\n",
       "      <th>2</th>\n",
       "      <td>10315</td>\n",
       "      <td>Fall 2020-2021</td>\n",
       "      <td>2020-09-15</td>\n",
       "      <td>332</td>\n",
       "      <td>Yes*</td>\n",
       "      <td>280.0</td>\n",
       "      <td>Yes*</td>\n",
       "    </tr>\n",
       "    <tr>\n",
       "      <th>3</th>\n",
       "      <td>10316</td>\n",
       "      <td>Fall 2020-2021</td>\n",
       "      <td>2020-09-15</td>\n",
       "      <td>493</td>\n",
       "      <td>No*</td>\n",
       "      <td>339.0</td>\n",
       "      <td>No*</td>\n",
       "    </tr>\n",
       "    <tr>\n",
       "      <th>4</th>\n",
       "      <td>10317</td>\n",
       "      <td>Fall 2020-2021</td>\n",
       "      <td>2020-09-15</td>\n",
       "      <td>500</td>\n",
       "      <td>No*</td>\n",
       "      <td>208.0</td>\n",
       "      <td>No*</td>\n",
       "    </tr>\n",
       "    <tr>\n",
       "      <th>...</th>\n",
       "      <td>...</td>\n",
       "      <td>...</td>\n",
       "      <td>...</td>\n",
       "      <td>...</td>\n",
       "      <td>...</td>\n",
       "      <td>...</td>\n",
       "      <td>...</td>\n",
       "    </tr>\n",
       "    <tr>\n",
       "      <th>421</th>\n",
       "      <td>4927244715</td>\n",
       "      <td>Fall 2020-2021</td>\n",
       "      <td>2020-09-15</td>\n",
       "      <td>452</td>\n",
       "      <td>Yes*</td>\n",
       "      <td>343.0</td>\n",
       "      <td>Yes*</td>\n",
       "    </tr>\n",
       "    <tr>\n",
       "      <th>422</th>\n",
       "      <td>3569491602</td>\n",
       "      <td>Fall 2020-2021</td>\n",
       "      <td>2020-09-15</td>\n",
       "      <td>216</td>\n",
       "      <td>No*</td>\n",
       "      <td>459.0</td>\n",
       "      <td>No*</td>\n",
       "    </tr>\n",
       "    <tr>\n",
       "      <th>423</th>\n",
       "      <td>6808742534</td>\n",
       "      <td>Fall 2020-2021</td>\n",
       "      <td>2020-09-15</td>\n",
       "      <td>259</td>\n",
       "      <td>Yes</td>\n",
       "      <td>359.0</td>\n",
       "      <td>Yes</td>\n",
       "    </tr>\n",
       "    <tr>\n",
       "      <th>424</th>\n",
       "      <td>5759461002</td>\n",
       "      <td>Fall 2020-2021</td>\n",
       "      <td>2020-09-15</td>\n",
       "      <td>436</td>\n",
       "      <td>Yes</td>\n",
       "      <td>214.0</td>\n",
       "      <td>Yes</td>\n",
       "    </tr>\n",
       "    <tr>\n",
       "      <th>425</th>\n",
       "      <td>1303857013</td>\n",
       "      <td>Fall 2020-2021</td>\n",
       "      <td>2020-09-15</td>\n",
       "      <td>270</td>\n",
       "      <td>Yes</td>\n",
       "      <td>NaN</td>\n",
       "      <td>Yes</td>\n",
       "    </tr>\n",
       "  </tbody>\n",
       "</table>\n",
       "<p>426 rows × 7 columns</p>\n",
       "</div>"
      ],
      "text/plain": [
       "      StudentID     Season Year  Test Date  Mathematics Score  \\\n",
       "0         10313  Fall 2020-2021 2020-09-15                215   \n",
       "1         10314  Fall 2020-2021 2020-09-15                223   \n",
       "2         10315  Fall 2020-2021 2020-09-15                332   \n",
       "3         10316  Fall 2020-2021 2020-09-15                493   \n",
       "4         10317  Fall 2020-2021 2020-09-15                500   \n",
       "..          ...             ...        ...                ...   \n",
       "421  4927244715  Fall 2020-2021 2020-09-15                452   \n",
       "422  3569491602  Fall 2020-2021 2020-09-15                216   \n",
       "423  6808742534  Fall 2020-2021 2020-09-15                259   \n",
       "424  5759461002  Fall 2020-2021 2020-09-15                436   \n",
       "425  1303857013  Fall 2020-2021 2020-09-15                270   \n",
       "\n",
       "    Mathematics Met Growth Target  Reading Score Reading Met Growth Target  \n",
       "0                             Yes          467.0                       Yes  \n",
       "1                              No          203.0                        No  \n",
       "2                            Yes*          280.0                      Yes*  \n",
       "3                             No*          339.0                       No*  \n",
       "4                             No*          208.0                       No*  \n",
       "..                            ...            ...                       ...  \n",
       "421                          Yes*          343.0                      Yes*  \n",
       "422                           No*          459.0                       No*  \n",
       "423                           Yes          359.0                       Yes  \n",
       "424                           Yes          214.0                       Yes  \n",
       "425                           Yes            NaN                       Yes  \n",
       "\n",
       "[426 rows x 7 columns]"
      ]
     },
     "execution_count": 12,
     "metadata": {},
     "output_type": "execute_result"
    }
   ],
   "source": [
    "scores"
   ]
  },
  {
   "cell_type": "code",
   "execution_count": 245,
   "id": "491a9ef0",
   "metadata": {},
   "outputs": [
    {
     "data": {
      "text/plain": [
       "1"
      ]
     },
     "execution_count": 245,
     "metadata": {},
     "output_type": "execute_result"
    }
   ],
   "source": [
    "#we have one intance where we have duplicates\n",
    "scores['StudentID'].duplicated().sum()"
   ]
  },
  {
   "cell_type": "code",
   "execution_count": 327,
   "id": "cf2a8d2f",
   "metadata": {},
   "outputs": [
    {
     "data": {
      "text/plain": [
       "2"
      ]
     },
     "execution_count": 327,
     "metadata": {},
     "output_type": "execute_result"
    }
   ],
   "source": [
    "scores['StudentID'].duplicated().sum()"
   ]
  },
  {
   "cell_type": "code",
   "execution_count": 343,
   "id": "50bc5781",
   "metadata": {},
   "outputs": [],
   "source": [
    "duplicate = scores[scores.StudentID.duplicated()]"
   ]
  },
  {
   "cell_type": "code",
   "execution_count": 331,
   "id": "9f87c230",
   "metadata": {},
   "outputs": [],
   "source": [
    "dup_indices = duplicate.index.values.tolist()"
   ]
  },
  {
   "cell_type": "code",
   "execution_count": 332,
   "id": "0002b19b",
   "metadata": {},
   "outputs": [],
   "source": [
    "dup_ids = duplicate['StudentID'].tolist()"
   ]
  },
  {
   "cell_type": "code",
   "execution_count": 234,
   "id": "d0b11b6d",
   "metadata": {},
   "outputs": [
    {
     "data": {
      "text/plain": [
       "140    10465\n",
       "Name: StudentID, dtype: int64"
      ]
     },
     "execution_count": 234,
     "metadata": {},
     "output_type": "execute_result"
    }
   ],
   "source": [
    "dup_param"
   ]
  },
  {
   "cell_type": "code",
   "execution_count": 247,
   "id": "7e2c254f",
   "metadata": {},
   "outputs": [
    {
     "data": {
      "text/plain": [
       "140    10465\n",
       "Name: StudentID, dtype: int64"
      ]
     },
     "execution_count": 247,
     "metadata": {},
     "output_type": "execute_result"
    }
   ],
   "source": [
    "duplicate['StudentID'] + 1"
   ]
  },
  {
   "cell_type": "code",
   "execution_count": 303,
   "id": "298193c1",
   "metadata": {},
   "outputs": [
    {
     "data": {
      "text/plain": [
       "True"
      ]
     },
     "execution_count": 303,
     "metadata": {},
     "output_type": "execute_result"
    }
   ],
   "source": [
    "dup_ids[0] + 1 < scores.loc[dup_indices[idx] + 1, 'StudentID']"
   ]
  },
  {
   "cell_type": "code",
   "execution_count": 322,
   "id": "f4ac3257",
   "metadata": {},
   "outputs": [
    {
     "data": {
      "text/plain": [
       "10464.0"
      ]
     },
     "execution_count": 322,
     "metadata": {},
     "output_type": "execute_result"
    }
   ],
   "source": [
    "duplicate.loc[dup_indices[0],'StudentID']"
   ]
  },
  {
   "cell_type": "code",
   "execution_count": 348,
   "id": "efa685f6",
   "metadata": {},
   "outputs": [
    {
     "name": "stderr",
     "output_type": "stream",
     "text": [
      "<ipython-input-348-c238b2ac6878>:12: SettingWithCopyWarning: \n",
      "A value is trying to be set on a copy of a slice from a DataFrame.\n",
      "Try using .loc[row_indexer,col_indexer] = value instead\n",
      "\n",
      "See the caveats in the documentation: https://pandas.pydata.org/pandas-docs/stable/user_guide/indexing.html#returning-a-view-versus-a-copy\n",
      "  duplicate['StudentID'] = duplicate['StudentID'] + 1\n"
     ]
    }
   ],
   "source": [
    " indices_to_fix = []\n",
    "    #find duplicates\n",
    "duplicate_df = scores[scores.StudentID.duplicated()]\n",
    "    \n",
    "dup_indices = duplicate.index.values.tolist()\n",
    "    \n",
    "dup_ids = duplicate['StudentID'].tolist()\n",
    "    \n",
    "    #for each duplicate\n",
    "for idx, dup_id in enumerate(dup_ids):\n",
    "    if dup_id + 1 < scores.loc[dup_indices[idx] + 1, 'StudentID']:\n",
    "        duplicate['StudentID'] = duplicate['StudentID'] + 1\n",
    "     \n",
    "       # scores.append(duplicate, inplace = True)"
   ]
  },
  {
   "cell_type": "code",
   "execution_count": 356,
   "id": "6cd9317d",
   "metadata": {},
   "outputs": [],
   "source": [
    "dup_fix_df = pd.concat([scores,duplicate]).reset_index()"
   ]
  },
  {
   "cell_type": "code",
   "execution_count": 364,
   "id": "4c51d3fa",
   "metadata": {},
   "outputs": [
    {
     "data": {
      "text/html": [
       "<div>\n",
       "<style scoped>\n",
       "    .dataframe tbody tr th:only-of-type {\n",
       "        vertical-align: middle;\n",
       "    }\n",
       "\n",
       "    .dataframe tbody tr th {\n",
       "        vertical-align: top;\n",
       "    }\n",
       "\n",
       "    .dataframe thead th {\n",
       "        text-align: right;\n",
       "    }\n",
       "</style>\n",
       "<table border=\"1\" class=\"dataframe\">\n",
       "  <thead>\n",
       "    <tr style=\"text-align: right;\">\n",
       "      <th></th>\n",
       "      <th>index</th>\n",
       "      <th>StudentID</th>\n",
       "      <th>Season Year</th>\n",
       "      <th>Test Date</th>\n",
       "      <th>Mathematics Score</th>\n",
       "      <th>Mathematics Met Growth Target</th>\n",
       "      <th>Reading Score</th>\n",
       "      <th>Reading Met Growth Target</th>\n",
       "    </tr>\n",
       "  </thead>\n",
       "  <tbody>\n",
       "    <tr>\n",
       "      <th>0</th>\n",
       "      <td>0</td>\n",
       "      <td>10313</td>\n",
       "      <td>Fall 2020-2021</td>\n",
       "      <td>2020-09-15</td>\n",
       "      <td>215</td>\n",
       "      <td>Yes</td>\n",
       "      <td>467.0</td>\n",
       "      <td>Yes</td>\n",
       "    </tr>\n",
       "    <tr>\n",
       "      <th>1</th>\n",
       "      <td>1</td>\n",
       "      <td>10314</td>\n",
       "      <td>Fall 2020-2021</td>\n",
       "      <td>2020-09-15</td>\n",
       "      <td>223</td>\n",
       "      <td>No</td>\n",
       "      <td>203.0</td>\n",
       "      <td>No</td>\n",
       "    </tr>\n",
       "    <tr>\n",
       "      <th>2</th>\n",
       "      <td>2</td>\n",
       "      <td>10315</td>\n",
       "      <td>Fall 2020-2021</td>\n",
       "      <td>2020-09-15</td>\n",
       "      <td>332</td>\n",
       "      <td>Yes*</td>\n",
       "      <td>280.0</td>\n",
       "      <td>Yes*</td>\n",
       "    </tr>\n",
       "    <tr>\n",
       "      <th>3</th>\n",
       "      <td>3</td>\n",
       "      <td>10316</td>\n",
       "      <td>Fall 2020-2021</td>\n",
       "      <td>2020-09-15</td>\n",
       "      <td>493</td>\n",
       "      <td>No*</td>\n",
       "      <td>339.0</td>\n",
       "      <td>No*</td>\n",
       "    </tr>\n",
       "    <tr>\n",
       "      <th>4</th>\n",
       "      <td>4</td>\n",
       "      <td>10317</td>\n",
       "      <td>Fall 2020-2021</td>\n",
       "      <td>2020-09-15</td>\n",
       "      <td>500</td>\n",
       "      <td>No*</td>\n",
       "      <td>208.0</td>\n",
       "      <td>No*</td>\n",
       "    </tr>\n",
       "    <tr>\n",
       "      <th>...</th>\n",
       "      <td>...</td>\n",
       "      <td>...</td>\n",
       "      <td>...</td>\n",
       "      <td>...</td>\n",
       "      <td>...</td>\n",
       "      <td>...</td>\n",
       "      <td>...</td>\n",
       "      <td>...</td>\n",
       "    </tr>\n",
       "    <tr>\n",
       "      <th>422</th>\n",
       "      <td>422</td>\n",
       "      <td>3569491602</td>\n",
       "      <td>Fall 2020-2021</td>\n",
       "      <td>2020-09-15</td>\n",
       "      <td>216</td>\n",
       "      <td>No*</td>\n",
       "      <td>459.0</td>\n",
       "      <td>No*</td>\n",
       "    </tr>\n",
       "    <tr>\n",
       "      <th>423</th>\n",
       "      <td>423</td>\n",
       "      <td>6808742534</td>\n",
       "      <td>Fall 2020-2021</td>\n",
       "      <td>2020-09-15</td>\n",
       "      <td>259</td>\n",
       "      <td>Yes</td>\n",
       "      <td>359.0</td>\n",
       "      <td>Yes</td>\n",
       "    </tr>\n",
       "    <tr>\n",
       "      <th>424</th>\n",
       "      <td>424</td>\n",
       "      <td>5759461002</td>\n",
       "      <td>Fall 2020-2021</td>\n",
       "      <td>2020-09-15</td>\n",
       "      <td>436</td>\n",
       "      <td>Yes</td>\n",
       "      <td>214.0</td>\n",
       "      <td>Yes</td>\n",
       "    </tr>\n",
       "    <tr>\n",
       "      <th>425</th>\n",
       "      <td>425</td>\n",
       "      <td>1303857013</td>\n",
       "      <td>Fall 2020-2021</td>\n",
       "      <td>2020-09-15</td>\n",
       "      <td>270</td>\n",
       "      <td>Yes</td>\n",
       "      <td>NaN</td>\n",
       "      <td>Yes</td>\n",
       "    </tr>\n",
       "    <tr>\n",
       "      <th>426</th>\n",
       "      <td>140</td>\n",
       "      <td>10465</td>\n",
       "      <td>Fall 2020-2021</td>\n",
       "      <td>2020-09-21</td>\n",
       "      <td>344</td>\n",
       "      <td>No*</td>\n",
       "      <td>455.0</td>\n",
       "      <td>No*</td>\n",
       "    </tr>\n",
       "  </tbody>\n",
       "</table>\n",
       "<p>426 rows × 8 columns</p>\n",
       "</div>"
      ],
      "text/plain": [
       "     index   StudentID     Season Year  Test Date  Mathematics Score  \\\n",
       "0        0       10313  Fall 2020-2021 2020-09-15                215   \n",
       "1        1       10314  Fall 2020-2021 2020-09-15                223   \n",
       "2        2       10315  Fall 2020-2021 2020-09-15                332   \n",
       "3        3       10316  Fall 2020-2021 2020-09-15                493   \n",
       "4        4       10317  Fall 2020-2021 2020-09-15                500   \n",
       "..     ...         ...             ...        ...                ...   \n",
       "422    422  3569491602  Fall 2020-2021 2020-09-15                216   \n",
       "423    423  6808742534  Fall 2020-2021 2020-09-15                259   \n",
       "424    424  5759461002  Fall 2020-2021 2020-09-15                436   \n",
       "425    425  1303857013  Fall 2020-2021 2020-09-15                270   \n",
       "426    140       10465  Fall 2020-2021 2020-09-21                344   \n",
       "\n",
       "    Mathematics Met Growth Target  Reading Score Reading Met Growth Target  \n",
       "0                             Yes          467.0                       Yes  \n",
       "1                              No          203.0                        No  \n",
       "2                            Yes*          280.0                      Yes*  \n",
       "3                             No*          339.0                       No*  \n",
       "4                             No*          208.0                       No*  \n",
       "..                            ...            ...                       ...  \n",
       "422                           No*          459.0                       No*  \n",
       "423                           Yes          359.0                       Yes  \n",
       "424                           Yes          214.0                       Yes  \n",
       "425                           Yes            NaN                       Yes  \n",
       "426                           No*          455.0                       No*  \n",
       "\n",
       "[426 rows x 8 columns]"
      ]
     },
     "execution_count": 364,
     "metadata": {},
     "output_type": "execute_result"
    }
   ],
   "source": [
    "dup_fix_df.drop_duplicates(subset = ['StudentID'], keep = 'first')"
   ]
  },
  {
   "cell_type": "code",
   "execution_count": 367,
   "id": "5d948b3b",
   "metadata": {},
   "outputs": [
    {
     "data": {
      "text/html": [
       "<div>\n",
       "<style scoped>\n",
       "    .dataframe tbody tr th:only-of-type {\n",
       "        vertical-align: middle;\n",
       "    }\n",
       "\n",
       "    .dataframe tbody tr th {\n",
       "        vertical-align: top;\n",
       "    }\n",
       "\n",
       "    .dataframe thead th {\n",
       "        text-align: right;\n",
       "    }\n",
       "</style>\n",
       "<table border=\"1\" class=\"dataframe\">\n",
       "  <thead>\n",
       "    <tr style=\"text-align: right;\">\n",
       "      <th></th>\n",
       "      <th>index</th>\n",
       "      <th>StudentID</th>\n",
       "      <th>Season Year</th>\n",
       "      <th>Test Date</th>\n",
       "      <th>Mathematics Score</th>\n",
       "      <th>Mathematics Met Growth Target</th>\n",
       "      <th>Reading Score</th>\n",
       "      <th>Reading Met Growth Target</th>\n",
       "    </tr>\n",
       "  </thead>\n",
       "  <tbody>\n",
       "    <tr>\n",
       "      <th>0</th>\n",
       "      <td>0</td>\n",
       "      <td>10313</td>\n",
       "      <td>Fall 2020-2021</td>\n",
       "      <td>2020-09-15</td>\n",
       "      <td>215</td>\n",
       "      <td>Yes</td>\n",
       "      <td>467.0</td>\n",
       "      <td>Yes</td>\n",
       "    </tr>\n",
       "    <tr>\n",
       "      <th>1</th>\n",
       "      <td>1</td>\n",
       "      <td>10314</td>\n",
       "      <td>Fall 2020-2021</td>\n",
       "      <td>2020-09-15</td>\n",
       "      <td>223</td>\n",
       "      <td>No</td>\n",
       "      <td>203.0</td>\n",
       "      <td>No</td>\n",
       "    </tr>\n",
       "    <tr>\n",
       "      <th>2</th>\n",
       "      <td>2</td>\n",
       "      <td>10315</td>\n",
       "      <td>Fall 2020-2021</td>\n",
       "      <td>2020-09-15</td>\n",
       "      <td>332</td>\n",
       "      <td>Yes*</td>\n",
       "      <td>280.0</td>\n",
       "      <td>Yes*</td>\n",
       "    </tr>\n",
       "    <tr>\n",
       "      <th>3</th>\n",
       "      <td>3</td>\n",
       "      <td>10316</td>\n",
       "      <td>Fall 2020-2021</td>\n",
       "      <td>2020-09-15</td>\n",
       "      <td>493</td>\n",
       "      <td>No*</td>\n",
       "      <td>339.0</td>\n",
       "      <td>No*</td>\n",
       "    </tr>\n",
       "    <tr>\n",
       "      <th>4</th>\n",
       "      <td>4</td>\n",
       "      <td>10317</td>\n",
       "      <td>Fall 2020-2021</td>\n",
       "      <td>2020-09-15</td>\n",
       "      <td>500</td>\n",
       "      <td>No*</td>\n",
       "      <td>208.0</td>\n",
       "      <td>No*</td>\n",
       "    </tr>\n",
       "    <tr>\n",
       "      <th>...</th>\n",
       "      <td>...</td>\n",
       "      <td>...</td>\n",
       "      <td>...</td>\n",
       "      <td>...</td>\n",
       "      <td>...</td>\n",
       "      <td>...</td>\n",
       "      <td>...</td>\n",
       "      <td>...</td>\n",
       "    </tr>\n",
       "    <tr>\n",
       "      <th>422</th>\n",
       "      <td>422</td>\n",
       "      <td>3569491602</td>\n",
       "      <td>Fall 2020-2021</td>\n",
       "      <td>2020-09-15</td>\n",
       "      <td>216</td>\n",
       "      <td>No*</td>\n",
       "      <td>459.0</td>\n",
       "      <td>No*</td>\n",
       "    </tr>\n",
       "    <tr>\n",
       "      <th>423</th>\n",
       "      <td>423</td>\n",
       "      <td>6808742534</td>\n",
       "      <td>Fall 2020-2021</td>\n",
       "      <td>2020-09-15</td>\n",
       "      <td>259</td>\n",
       "      <td>Yes</td>\n",
       "      <td>359.0</td>\n",
       "      <td>Yes</td>\n",
       "    </tr>\n",
       "    <tr>\n",
       "      <th>424</th>\n",
       "      <td>424</td>\n",
       "      <td>5759461002</td>\n",
       "      <td>Fall 2020-2021</td>\n",
       "      <td>2020-09-15</td>\n",
       "      <td>436</td>\n",
       "      <td>Yes</td>\n",
       "      <td>214.0</td>\n",
       "      <td>Yes</td>\n",
       "    </tr>\n",
       "    <tr>\n",
       "      <th>425</th>\n",
       "      <td>425</td>\n",
       "      <td>1303857013</td>\n",
       "      <td>Fall 2020-2021</td>\n",
       "      <td>2020-09-15</td>\n",
       "      <td>270</td>\n",
       "      <td>Yes</td>\n",
       "      <td>NaN</td>\n",
       "      <td>Yes</td>\n",
       "    </tr>\n",
       "    <tr>\n",
       "      <th>426</th>\n",
       "      <td>140</td>\n",
       "      <td>10465</td>\n",
       "      <td>Fall 2020-2021</td>\n",
       "      <td>2020-09-21</td>\n",
       "      <td>344</td>\n",
       "      <td>No*</td>\n",
       "      <td>455.0</td>\n",
       "      <td>No*</td>\n",
       "    </tr>\n",
       "  </tbody>\n",
       "</table>\n",
       "<p>427 rows × 8 columns</p>\n",
       "</div>"
      ],
      "text/plain": [
       "     index   StudentID     Season Year  Test Date  Mathematics Score  \\\n",
       "0        0       10313  Fall 2020-2021 2020-09-15                215   \n",
       "1        1       10314  Fall 2020-2021 2020-09-15                223   \n",
       "2        2       10315  Fall 2020-2021 2020-09-15                332   \n",
       "3        3       10316  Fall 2020-2021 2020-09-15                493   \n",
       "4        4       10317  Fall 2020-2021 2020-09-15                500   \n",
       "..     ...         ...             ...        ...                ...   \n",
       "422    422  3569491602  Fall 2020-2021 2020-09-15                216   \n",
       "423    423  6808742534  Fall 2020-2021 2020-09-15                259   \n",
       "424    424  5759461002  Fall 2020-2021 2020-09-15                436   \n",
       "425    425  1303857013  Fall 2020-2021 2020-09-15                270   \n",
       "426    140       10465  Fall 2020-2021 2020-09-21                344   \n",
       "\n",
       "    Mathematics Met Growth Target  Reading Score Reading Met Growth Target  \n",
       "0                             Yes          467.0                       Yes  \n",
       "1                              No          203.0                        No  \n",
       "2                            Yes*          280.0                      Yes*  \n",
       "3                             No*          339.0                       No*  \n",
       "4                             No*          208.0                       No*  \n",
       "..                            ...            ...                       ...  \n",
       "422                           No*          459.0                       No*  \n",
       "423                           Yes          359.0                       Yes  \n",
       "424                           Yes          214.0                       Yes  \n",
       "425                           Yes            NaN                       Yes  \n",
       "426                           No*          455.0                       No*  \n",
       "\n",
       "[427 rows x 8 columns]"
      ]
     },
     "execution_count": 367,
     "metadata": {},
     "output_type": "execute_result"
    }
   ],
   "source": [
    "def fixDuplicates(scores):\n",
    "    \n",
    "    duplicate_df = scores[scores.StudentID.duplicated()]\n",
    "    \n",
    "    dup_indices = duplicate.index.values.tolist()\n",
    "    \n",
    "    dup_ids = duplicate['StudentID'].tolist()\n",
    "    \n",
    "    #for each duplicate\n",
    "    for idx, dup_id in enumerate(dup_ids):\n",
    "        if dup_id + 1 < scores.loc[dup_indices[idx] + 1, 'StudentID']:\n",
    "            duplicate['StudentID'] = duplicate['StudentID'] + 1\n",
    "            \n",
    "    scores = pd.concat([scores,duplicate]).reset_index()\n",
    "    \n",
    "    scores.drop_duplicates(subset = ['StudentID'], keep = 'first', inplace = True)\n",
    "    \n",
    "fixDuplicates(scores)"
   ]
  },
  {
   "cell_type": "code",
   "execution_count": 368,
   "id": "58f0bf28",
   "metadata": {},
   "outputs": [
    {
     "data": {
      "text/html": [
       "<div>\n",
       "<style scoped>\n",
       "    .dataframe tbody tr th:only-of-type {\n",
       "        vertical-align: middle;\n",
       "    }\n",
       "\n",
       "    .dataframe tbody tr th {\n",
       "        vertical-align: top;\n",
       "    }\n",
       "\n",
       "    .dataframe thead th {\n",
       "        text-align: right;\n",
       "    }\n",
       "</style>\n",
       "<table border=\"1\" class=\"dataframe\">\n",
       "  <thead>\n",
       "    <tr style=\"text-align: right;\">\n",
       "      <th></th>\n",
       "      <th>StudentID</th>\n",
       "      <th>Season Year</th>\n",
       "      <th>Test Date</th>\n",
       "      <th>Mathematics Score</th>\n",
       "      <th>Mathematics Met Growth Target</th>\n",
       "      <th>Reading Score</th>\n",
       "      <th>Reading Met Growth Target</th>\n",
       "    </tr>\n",
       "  </thead>\n",
       "  <tbody>\n",
       "    <tr>\n",
       "      <th>0</th>\n",
       "      <td>10313</td>\n",
       "      <td>Fall 2020-2021</td>\n",
       "      <td>2020-09-15</td>\n",
       "      <td>215</td>\n",
       "      <td>Yes</td>\n",
       "      <td>467.0</td>\n",
       "      <td>Yes</td>\n",
       "    </tr>\n",
       "    <tr>\n",
       "      <th>1</th>\n",
       "      <td>10314</td>\n",
       "      <td>Fall 2020-2021</td>\n",
       "      <td>2020-09-15</td>\n",
       "      <td>223</td>\n",
       "      <td>No</td>\n",
       "      <td>203.0</td>\n",
       "      <td>No</td>\n",
       "    </tr>\n",
       "    <tr>\n",
       "      <th>2</th>\n",
       "      <td>10315</td>\n",
       "      <td>Fall 2020-2021</td>\n",
       "      <td>2020-09-15</td>\n",
       "      <td>332</td>\n",
       "      <td>Yes*</td>\n",
       "      <td>280.0</td>\n",
       "      <td>Yes*</td>\n",
       "    </tr>\n",
       "    <tr>\n",
       "      <th>3</th>\n",
       "      <td>10316</td>\n",
       "      <td>Fall 2020-2021</td>\n",
       "      <td>2020-09-15</td>\n",
       "      <td>493</td>\n",
       "      <td>No*</td>\n",
       "      <td>339.0</td>\n",
       "      <td>No*</td>\n",
       "    </tr>\n",
       "    <tr>\n",
       "      <th>4</th>\n",
       "      <td>10317</td>\n",
       "      <td>Fall 2020-2021</td>\n",
       "      <td>2020-09-15</td>\n",
       "      <td>500</td>\n",
       "      <td>No*</td>\n",
       "      <td>208.0</td>\n",
       "      <td>No*</td>\n",
       "    </tr>\n",
       "    <tr>\n",
       "      <th>...</th>\n",
       "      <td>...</td>\n",
       "      <td>...</td>\n",
       "      <td>...</td>\n",
       "      <td>...</td>\n",
       "      <td>...</td>\n",
       "      <td>...</td>\n",
       "      <td>...</td>\n",
       "    </tr>\n",
       "    <tr>\n",
       "      <th>421</th>\n",
       "      <td>4927244715</td>\n",
       "      <td>Fall 2020-2021</td>\n",
       "      <td>2020-09-15</td>\n",
       "      <td>452</td>\n",
       "      <td>Yes*</td>\n",
       "      <td>343.0</td>\n",
       "      <td>Yes*</td>\n",
       "    </tr>\n",
       "    <tr>\n",
       "      <th>422</th>\n",
       "      <td>3569491602</td>\n",
       "      <td>Fall 2020-2021</td>\n",
       "      <td>2020-09-15</td>\n",
       "      <td>216</td>\n",
       "      <td>No*</td>\n",
       "      <td>459.0</td>\n",
       "      <td>No*</td>\n",
       "    </tr>\n",
       "    <tr>\n",
       "      <th>423</th>\n",
       "      <td>6808742534</td>\n",
       "      <td>Fall 2020-2021</td>\n",
       "      <td>2020-09-15</td>\n",
       "      <td>259</td>\n",
       "      <td>Yes</td>\n",
       "      <td>359.0</td>\n",
       "      <td>Yes</td>\n",
       "    </tr>\n",
       "    <tr>\n",
       "      <th>424</th>\n",
       "      <td>5759461002</td>\n",
       "      <td>Fall 2020-2021</td>\n",
       "      <td>2020-09-15</td>\n",
       "      <td>436</td>\n",
       "      <td>Yes</td>\n",
       "      <td>214.0</td>\n",
       "      <td>Yes</td>\n",
       "    </tr>\n",
       "    <tr>\n",
       "      <th>425</th>\n",
       "      <td>1303857013</td>\n",
       "      <td>Fall 2020-2021</td>\n",
       "      <td>2020-09-15</td>\n",
       "      <td>270</td>\n",
       "      <td>Yes</td>\n",
       "      <td>NaN</td>\n",
       "      <td>Yes</td>\n",
       "    </tr>\n",
       "  </tbody>\n",
       "</table>\n",
       "<p>426 rows × 7 columns</p>\n",
       "</div>"
      ],
      "text/plain": [
       "      StudentID     Season Year  Test Date  Mathematics Score  \\\n",
       "0         10313  Fall 2020-2021 2020-09-15                215   \n",
       "1         10314  Fall 2020-2021 2020-09-15                223   \n",
       "2         10315  Fall 2020-2021 2020-09-15                332   \n",
       "3         10316  Fall 2020-2021 2020-09-15                493   \n",
       "4         10317  Fall 2020-2021 2020-09-15                500   \n",
       "..          ...             ...        ...                ...   \n",
       "421  4927244715  Fall 2020-2021 2020-09-15                452   \n",
       "422  3569491602  Fall 2020-2021 2020-09-15                216   \n",
       "423  6808742534  Fall 2020-2021 2020-09-15                259   \n",
       "424  5759461002  Fall 2020-2021 2020-09-15                436   \n",
       "425  1303857013  Fall 2020-2021 2020-09-15                270   \n",
       "\n",
       "    Mathematics Met Growth Target  Reading Score Reading Met Growth Target  \n",
       "0                             Yes          467.0                       Yes  \n",
       "1                              No          203.0                        No  \n",
       "2                            Yes*          280.0                      Yes*  \n",
       "3                             No*          339.0                       No*  \n",
       "4                             No*          208.0                       No*  \n",
       "..                            ...            ...                       ...  \n",
       "421                          Yes*          343.0                      Yes*  \n",
       "422                           No*          459.0                       No*  \n",
       "423                           Yes          359.0                       Yes  \n",
       "424                           Yes          214.0                       Yes  \n",
       "425                           Yes            NaN                       Yes  \n",
       "\n",
       "[426 rows x 7 columns]"
      ]
     },
     "execution_count": 368,
     "metadata": {},
     "output_type": "execute_result"
    }
   ],
   "source": [
    "scores"
   ]
  },
  {
   "cell_type": "code",
   "execution_count": 275,
   "id": "b6b51cf5",
   "metadata": {},
   "outputs": [
    {
     "data": {
      "text/html": [
       "<div>\n",
       "<style scoped>\n",
       "    .dataframe tbody tr th:only-of-type {\n",
       "        vertical-align: middle;\n",
       "    }\n",
       "\n",
       "    .dataframe tbody tr th {\n",
       "        vertical-align: top;\n",
       "    }\n",
       "\n",
       "    .dataframe thead th {\n",
       "        text-align: right;\n",
       "    }\n",
       "</style>\n",
       "<table border=\"1\" class=\"dataframe\">\n",
       "  <thead>\n",
       "    <tr style=\"text-align: right;\">\n",
       "      <th></th>\n",
       "      <th>StudentID</th>\n",
       "      <th>Season Year</th>\n",
       "      <th>Test Date</th>\n",
       "      <th>Mathematics Score</th>\n",
       "      <th>Mathematics Met Growth Target</th>\n",
       "      <th>Reading Score</th>\n",
       "      <th>Reading Met Growth Target</th>\n",
       "    </tr>\n",
       "  </thead>\n",
       "  <tbody>\n",
       "    <tr>\n",
       "      <th>140</th>\n",
       "      <td>10464</td>\n",
       "      <td>Fall 2020-2021</td>\n",
       "      <td>2020-09-21</td>\n",
       "      <td>344</td>\n",
       "      <td>No*</td>\n",
       "      <td>455.0</td>\n",
       "      <td>No*</td>\n",
       "    </tr>\n",
       "  </tbody>\n",
       "</table>\n",
       "</div>"
      ],
      "text/plain": [
       "     StudentID     Season Year  Test Date  Mathematics Score  \\\n",
       "140      10464  Fall 2020-2021 2020-09-21                344   \n",
       "\n",
       "    Mathematics Met Growth Target  Reading Score Reading Met Growth Target  \n",
       "140                           No*          455.0                       No*  "
      ]
     },
     "execution_count": 275,
     "metadata": {},
     "output_type": "execute_result"
    }
   ],
   "source": [
    "scores[scores.StudentID.duplicated()]"
   ]
  },
  {
   "cell_type": "code",
   "execution_count": 381,
   "id": "4ebe7434",
   "metadata": {},
   "outputs": [],
   "source": [
    "scores.reset_index(inplace = True)\n",
    "demo.reset_index(inplace = True)\n",
    "\n",
    "def splitStudentIDAndUSI(scores, demo):\n",
    "    # capture USI in StudentID column\n",
    "    indexes_to_correct_id = scores[scores['StudentID'].astype('str').map(len) > 6].index\n",
    "    \n",
    "    # create column USI \n",
    "    scores.loc[indexes_to_correct_id,'USI'] = scores.loc[indexes_to_correct_id, 'StudentID']\n",
    "    \n",
    "    # set StudentID as index\n",
    "    scores.set_index('StudentID', inplace = True)\n",
    "    \n",
    "    # capture indexes(StudentIDs) I need\n",
    "    index = scores['USI'].index[scores['USI'].apply(np.isnan)]\n",
    "    \n",
    "    #set index for demo table\n",
    "    demo.set_index('LocalStudentID', inplace = True)\n",
    "    \n",
    "    # use demo table to capture USI using scores's StudentIDs\n",
    "    fill_usi = demo.loc[index, 'USI']\n",
    "    \n",
    "    #reset index\n",
    "    scores.reset_index(inplace = True)\n",
    "    \n",
    "    #drop duplicates, we will take care of this duplicate in the future\n",
    "    scores.drop_duplicates(subset = ['StudentID'], inplace = True)\n",
    "    \n",
    "    scores.set_index('StudentID',inplace = True)\n",
    "    \n",
    "    # fillna USI values using scores's StudentIDS\n",
    "    scores.loc[fill_usi.index, 'USI'] = fill_usi\n",
    "    \n",
    "    # int64\n",
    "    scores.loc[:, 'USI'] = scores['USI'].astype('int64')\n",
    "    \n",
    "splitStudentIDAndUSI(scores, demo)\n",
    "    "
   ]
  },
  {
   "cell_type": "code",
   "execution_count": 326,
   "id": "0e5e67ed",
   "metadata": {},
   "outputs": [],
   "source": [
    "scores.reset_index(inplace = True)"
   ]
  },
  {
   "cell_type": "code",
   "execution_count": 384,
   "id": "26eea0f3",
   "metadata": {},
   "outputs": [
    {
     "data": {
      "text/plain": [
       "Season Year                       0\n",
       "Test Date                         0\n",
       "Mathematics Score                 0\n",
       "Mathematics Met Growth Target    10\n",
       "Reading Score                     1\n",
       "Reading Met Growth Target        10\n",
       "USI                               0\n",
       "dtype: int64"
      ]
     },
     "execution_count": 384,
     "metadata": {},
     "output_type": "execute_result"
    }
   ],
   "source": [
    "scores.isna().sum()"
   ]
  },
  {
   "cell_type": "code",
   "execution_count": 371,
   "id": "c53bdeba",
   "metadata": {},
   "outputs": [],
   "source": [
    "def findWrongUSIValues(df):\n",
    "    \n",
    "    #find USI values that are not equal to length of 10\n",
    "    wrong_usi = scores[scores['USI'].astype('str').map(len) != 10]['USI']\n",
    "    \n",
    "    return wrong_usi"
   ]
  },
  {
   "cell_type": "code",
   "execution_count": 386,
   "id": "31e1967f",
   "metadata": {},
   "outputs": [],
   "source": [
    "def correctUSIInScores(scores, demo):\n",
    "    \n",
    "    wrong = findWrongUSIValues(scores)\n",
    "    correct_usi_vals = []\n",
    "    wrong_usi_vals = findWrongUSIValues(scores).astype(str)\n",
    "    wrong_usi_vals_list = wrong_usi_vals.to_list()\n",
    "    for val in wrong_usi_vals_list:\n",
    "        correct_usi_vals.append(demo[demo['USI'].astype('str').str.contains(val)]['USI'])\n",
    "    \n",
    "    \n",
    "    for val in correct_usi_vals:\n",
    "        scores['USI'].replace(wrong.values, val, inplace = True)\n",
    "        \n",
    "correctUSIInScores(scores, demo)"
   ]
  },
  {
   "cell_type": "code",
   "execution_count": 86,
   "id": "1dd0b60f",
   "metadata": {},
   "outputs": [
    {
     "data": {
      "text/plain": [
       "Int64Index([2239664255, 2650023533, 4716164342, 3506382949, 8574797805,\n",
       "            3701316756, 6214190681, 7375670549, 5698036464, 4773697868,\n",
       "            ...\n",
       "            7456423463, 1194235087, 2725957932, 9152686266, 9059353048,\n",
       "            4927244715, 3569491602, 6808742534, 5759461002, 1303857013],\n",
       "           dtype='int64', name='StudentID', length=281)"
      ]
     },
     "execution_count": 86,
     "metadata": {},
     "output_type": "execute_result"
    }
   ],
   "source": [
    "idxs_missing_student_ids = scores[scores.index.astype(str).map(len) == 10].index"
   ]
  },
  {
   "cell_type": "code",
   "execution_count": 391,
   "id": "6a28a5cd",
   "metadata": {},
   "outputs": [
    {
     "data": {
      "text/html": [
       "<div>\n",
       "<style scoped>\n",
       "    .dataframe tbody tr th:only-of-type {\n",
       "        vertical-align: middle;\n",
       "    }\n",
       "\n",
       "    .dataframe tbody tr th {\n",
       "        vertical-align: top;\n",
       "    }\n",
       "\n",
       "    .dataframe thead th {\n",
       "        text-align: right;\n",
       "    }\n",
       "</style>\n",
       "<table border=\"1\" class=\"dataframe\">\n",
       "  <thead>\n",
       "    <tr style=\"text-align: right;\">\n",
       "      <th></th>\n",
       "      <th>index</th>\n",
       "      <th>USI</th>\n",
       "      <th>Name</th>\n",
       "      <th>Sex</th>\n",
       "      <th>CurrentGradeLevel</th>\n",
       "      <th>RaceEthnicity</th>\n",
       "      <th>IEP</th>\n",
       "      <th>AtRisk</th>\n",
       "      <th>LastName</th>\n",
       "      <th>FirstName</th>\n",
       "    </tr>\n",
       "    <tr>\n",
       "      <th>LocalStudentID</th>\n",
       "      <th></th>\n",
       "      <th></th>\n",
       "      <th></th>\n",
       "      <th></th>\n",
       "      <th></th>\n",
       "      <th></th>\n",
       "      <th></th>\n",
       "      <th></th>\n",
       "      <th></th>\n",
       "      <th></th>\n",
       "    </tr>\n",
       "  </thead>\n",
       "  <tbody>\n",
       "    <tr>\n",
       "      <th>10001</th>\n",
       "      <td>0</td>\n",
       "      <td>2239664225</td>\n",
       "      <td>Palmer, Keke</td>\n",
       "      <td>F</td>\n",
       "      <td>6</td>\n",
       "      <td>Hispanic/Latino</td>\n",
       "      <td>No IEP</td>\n",
       "      <td>Not At-Risk</td>\n",
       "      <td>Palmer</td>\n",
       "      <td>Keke</td>\n",
       "    </tr>\n",
       "    <tr>\n",
       "      <th>10002</th>\n",
       "      <td>1</td>\n",
       "      <td>2650023531</td>\n",
       "      <td>Garson, Greer</td>\n",
       "      <td>F</td>\n",
       "      <td>6</td>\n",
       "      <td>White</td>\n",
       "      <td>No IEP</td>\n",
       "      <td>At-Risk</td>\n",
       "      <td>Garson</td>\n",
       "      <td>Greer</td>\n",
       "    </tr>\n",
       "    <tr>\n",
       "      <th>10003</th>\n",
       "      <td>2</td>\n",
       "      <td>3441934847</td>\n",
       "      <td>Fonda, Henry</td>\n",
       "      <td>M</td>\n",
       "      <td>6</td>\n",
       "      <td>White</td>\n",
       "      <td>IEP</td>\n",
       "      <td>At-Risk</td>\n",
       "      <td>Fonda</td>\n",
       "      <td>Henry</td>\n",
       "    </tr>\n",
       "    <tr>\n",
       "      <th>10004</th>\n",
       "      <td>3</td>\n",
       "      <td>4716164342</td>\n",
       "      <td>Garbo, Greta</td>\n",
       "      <td>F</td>\n",
       "      <td>6</td>\n",
       "      <td>White</td>\n",
       "      <td>No IEP</td>\n",
       "      <td>At-Risk</td>\n",
       "      <td>Garbo</td>\n",
       "      <td>Greta</td>\n",
       "    </tr>\n",
       "    <tr>\n",
       "      <th>10005</th>\n",
       "      <td>4</td>\n",
       "      <td>3506382949</td>\n",
       "      <td>Baker, Josephine</td>\n",
       "      <td>F</td>\n",
       "      <td>6</td>\n",
       "      <td>White</td>\n",
       "      <td>No IEP</td>\n",
       "      <td>Not At-Risk</td>\n",
       "      <td>Baker</td>\n",
       "      <td>Josephine</td>\n",
       "    </tr>\n",
       "    <tr>\n",
       "      <th>...</th>\n",
       "      <td>...</td>\n",
       "      <td>...</td>\n",
       "      <td>...</td>\n",
       "      <td>...</td>\n",
       "      <td>...</td>\n",
       "      <td>...</td>\n",
       "      <td>...</td>\n",
       "      <td>...</td>\n",
       "      <td>...</td>\n",
       "      <td>...</td>\n",
       "    </tr>\n",
       "    <tr>\n",
       "      <th>10464</th>\n",
       "      <td>421</td>\n",
       "      <td>4750973818</td>\n",
       "      <td>Watson, Emma</td>\n",
       "      <td>F</td>\n",
       "      <td>7</td>\n",
       "      <td>White</td>\n",
       "      <td>No IEP</td>\n",
       "      <td>At-Risk</td>\n",
       "      <td>Watson</td>\n",
       "      <td>Emma</td>\n",
       "    </tr>\n",
       "    <tr>\n",
       "      <th>10465</th>\n",
       "      <td>422</td>\n",
       "      <td>1447613002</td>\n",
       "      <td>Robbie, Margot</td>\n",
       "      <td>F</td>\n",
       "      <td>8</td>\n",
       "      <td>White</td>\n",
       "      <td>No IEP</td>\n",
       "      <td>Not At-Risk</td>\n",
       "      <td>Robbie</td>\n",
       "      <td>Margot</td>\n",
       "    </tr>\n",
       "    <tr>\n",
       "      <th>10466</th>\n",
       "      <td>423</td>\n",
       "      <td>8930493455</td>\n",
       "      <td>Woodley, Shailene</td>\n",
       "      <td>F</td>\n",
       "      <td>8</td>\n",
       "      <td>Black or African American</td>\n",
       "      <td>No IEP</td>\n",
       "      <td>At-Risk</td>\n",
       "      <td>Woodley</td>\n",
       "      <td>Shailene</td>\n",
       "    </tr>\n",
       "    <tr>\n",
       "      <th>10467</th>\n",
       "      <td>424</td>\n",
       "      <td>4292757544</td>\n",
       "      <td>Morgan, Vanessa</td>\n",
       "      <td>F</td>\n",
       "      <td>10</td>\n",
       "      <td>Black or African American</td>\n",
       "      <td>No IEP</td>\n",
       "      <td>Not At-Risk</td>\n",
       "      <td>Morgan</td>\n",
       "      <td>Vanessa</td>\n",
       "    </tr>\n",
       "    <tr>\n",
       "      <th>10468</th>\n",
       "      <td>425</td>\n",
       "      <td>2768189192</td>\n",
       "      <td>Lovato, Demi</td>\n",
       "      <td>F</td>\n",
       "      <td>8</td>\n",
       "      <td>Black or African American</td>\n",
       "      <td>No IEP</td>\n",
       "      <td>At-Risk</td>\n",
       "      <td>Lovato</td>\n",
       "      <td>Demi</td>\n",
       "    </tr>\n",
       "  </tbody>\n",
       "</table>\n",
       "<p>426 rows × 10 columns</p>\n",
       "</div>"
      ],
      "text/plain": [
       "                index         USI               Name Sex  CurrentGradeLevel  \\\n",
       "LocalStudentID                                                                \n",
       "10001               0  2239664225       Palmer, Keke   F                  6   \n",
       "10002               1  2650023531      Garson, Greer   F                  6   \n",
       "10003               2  3441934847       Fonda, Henry   M                  6   \n",
       "10004               3  4716164342       Garbo, Greta   F                  6   \n",
       "10005               4  3506382949   Baker, Josephine   F                  6   \n",
       "...               ...         ...                ...  ..                ...   \n",
       "10464             421  4750973818       Watson, Emma   F                  7   \n",
       "10465             422  1447613002     Robbie, Margot   F                  8   \n",
       "10466             423  8930493455  Woodley, Shailene   F                  8   \n",
       "10467             424  4292757544    Morgan, Vanessa   F                 10   \n",
       "10468             425  2768189192       Lovato, Demi   F                  8   \n",
       "\n",
       "                            RaceEthnicity     IEP       AtRisk LastName  \\\n",
       "LocalStudentID                                                            \n",
       "10001                     Hispanic/Latino  No IEP  Not At-Risk   Palmer   \n",
       "10002                               White  No IEP      At-Risk   Garson   \n",
       "10003                               White     IEP      At-Risk    Fonda   \n",
       "10004                               White  No IEP      At-Risk    Garbo   \n",
       "10005                               White  No IEP  Not At-Risk    Baker   \n",
       "...                                   ...     ...          ...      ...   \n",
       "10464                               White  No IEP      At-Risk   Watson   \n",
       "10465                               White  No IEP  Not At-Risk   Robbie   \n",
       "10466           Black or African American  No IEP      At-Risk  Woodley   \n",
       "10467           Black or African American  No IEP  Not At-Risk   Morgan   \n",
       "10468           Black or African American  No IEP      At-Risk   Lovato   \n",
       "\n",
       "                FirstName  \n",
       "LocalStudentID             \n",
       "10001                Keke  \n",
       "10002               Greer  \n",
       "10003               Henry  \n",
       "10004               Greta  \n",
       "10005           Josephine  \n",
       "...                   ...  \n",
       "10464                Emma  \n",
       "10465              Margot  \n",
       "10466            Shailene  \n",
       "10467             Vanessa  \n",
       "10468                Demi  \n",
       "\n",
       "[426 rows x 10 columns]"
      ]
     },
     "execution_count": 391,
     "metadata": {},
     "output_type": "execute_result"
    }
   ],
   "source": [
    "demo"
   ]
  },
  {
   "cell_type": "code",
   "execution_count": 393,
   "id": "722ea86f",
   "metadata": {},
   "outputs": [],
   "source": [
    "#USI in studentid column\n",
    "find_student_ids_df = scores[scores.index.astype(str).map(len) == 10]"
   ]
  },
  {
   "cell_type": "code",
   "execution_count": 402,
   "id": "82dda12a",
   "metadata": {},
   "outputs": [],
   "source": [
    "demo.reset_index(inplace = True)"
   ]
  },
  {
   "cell_type": "code",
   "execution_count": 403,
   "id": "eeaf5768",
   "metadata": {},
   "outputs": [],
   "source": [
    "scores.reset_index(inplace = True)"
   ]
  },
  {
   "cell_type": "code",
   "execution_count": 404,
   "id": "4dd4e10f",
   "metadata": {},
   "outputs": [],
   "source": [
    "demo.set_index(['USI'], inplace = True)\n",
    "scores.set_index(['USI'], inplace = True)"
   ]
  },
  {
   "cell_type": "code",
   "execution_count": 418,
   "id": "99b79d7a",
   "metadata": {},
   "outputs": [
    {
     "data": {
      "text/html": [
       "<div>\n",
       "<style scoped>\n",
       "    .dataframe tbody tr th:only-of-type {\n",
       "        vertical-align: middle;\n",
       "    }\n",
       "\n",
       "    .dataframe tbody tr th {\n",
       "        vertical-align: top;\n",
       "    }\n",
       "\n",
       "    .dataframe thead th {\n",
       "        text-align: right;\n",
       "    }\n",
       "</style>\n",
       "<table border=\"1\" class=\"dataframe\">\n",
       "  <thead>\n",
       "    <tr style=\"text-align: right;\">\n",
       "      <th></th>\n",
       "      <th>StudentID</th>\n",
       "      <th>Season Year</th>\n",
       "      <th>Test Date</th>\n",
       "      <th>Mathematics Score</th>\n",
       "      <th>Mathematics Met Growth Target</th>\n",
       "      <th>Reading Score</th>\n",
       "      <th>Reading Met Growth Target</th>\n",
       "    </tr>\n",
       "  </thead>\n",
       "  <tbody>\n",
       "    <tr>\n",
       "      <th>140</th>\n",
       "      <td>10465</td>\n",
       "      <td>Fall 2020-2021</td>\n",
       "      <td>2020-09-21</td>\n",
       "      <td>344</td>\n",
       "      <td>No*</td>\n",
       "      <td>455.0</td>\n",
       "      <td>No*</td>\n",
       "    </tr>\n",
       "  </tbody>\n",
       "</table>\n",
       "</div>"
      ],
      "text/plain": [
       "     StudentID     Season Year  Test Date  Mathematics Score  \\\n",
       "140      10465  Fall 2020-2021 2020-09-21                344   \n",
       "\n",
       "    Mathematics Met Growth Target  Reading Score Reading Met Growth Target  \n",
       "140                           No*          455.0                       No*  "
      ]
     },
     "execution_count": 418,
     "metadata": {},
     "output_type": "execute_result"
    }
   ],
   "source": [
    "duplicate"
   ]
  },
  {
   "cell_type": "code",
   "execution_count": 424,
   "id": "c8cc5d1d",
   "metadata": {},
   "outputs": [],
   "source": [
    "left_joined_df = demo.merge(scores, how = 'left', right_index=True, left_index=True)"
   ]
  },
  {
   "cell_type": "code",
   "execution_count": 461,
   "id": "0996a231",
   "metadata": {},
   "outputs": [
    {
     "data": {
      "text/html": [
       "<div>\n",
       "<style scoped>\n",
       "    .dataframe tbody tr th:only-of-type {\n",
       "        vertical-align: middle;\n",
       "    }\n",
       "\n",
       "    .dataframe tbody tr th {\n",
       "        vertical-align: top;\n",
       "    }\n",
       "\n",
       "    .dataframe thead th {\n",
       "        text-align: right;\n",
       "    }\n",
       "</style>\n",
       "<table border=\"1\" class=\"dataframe\">\n",
       "  <thead>\n",
       "    <tr style=\"text-align: right;\">\n",
       "      <th></th>\n",
       "      <th>LocalStudentID</th>\n",
       "      <th>index</th>\n",
       "      <th>Name</th>\n",
       "      <th>Sex</th>\n",
       "      <th>CurrentGradeLevel</th>\n",
       "      <th>RaceEthnicity</th>\n",
       "      <th>IEP</th>\n",
       "      <th>AtRisk</th>\n",
       "      <th>LastName</th>\n",
       "      <th>FirstName</th>\n",
       "      <th>StudentID</th>\n",
       "      <th>Season Year</th>\n",
       "      <th>Test Date</th>\n",
       "      <th>Mathematics Score</th>\n",
       "      <th>Mathematics Met Growth Target</th>\n",
       "      <th>Reading Score</th>\n",
       "      <th>Reading Met Growth Target</th>\n",
       "    </tr>\n",
       "    <tr>\n",
       "      <th>USI</th>\n",
       "      <th></th>\n",
       "      <th></th>\n",
       "      <th></th>\n",
       "      <th></th>\n",
       "      <th></th>\n",
       "      <th></th>\n",
       "      <th></th>\n",
       "      <th></th>\n",
       "      <th></th>\n",
       "      <th></th>\n",
       "      <th></th>\n",
       "      <th></th>\n",
       "      <th></th>\n",
       "      <th></th>\n",
       "      <th></th>\n",
       "      <th></th>\n",
       "      <th></th>\n",
       "    </tr>\n",
       "  </thead>\n",
       "  <tbody>\n",
       "    <tr>\n",
       "      <th>1002312178</th>\n",
       "      <td>10426.0</td>\n",
       "      <td>386.0</td>\n",
       "      <td>Hudson, Jennifer</td>\n",
       "      <td>F</td>\n",
       "      <td>7.0</td>\n",
       "      <td>Black or African American</td>\n",
       "      <td>IEP</td>\n",
       "      <td>At-Risk</td>\n",
       "      <td>Hudson</td>\n",
       "      <td>Jennifer</td>\n",
       "      <td>1.042600e+04</td>\n",
       "      <td>Fall 2020-2021</td>\n",
       "      <td>2020-09-15</td>\n",
       "      <td>481.0</td>\n",
       "      <td>No*</td>\n",
       "      <td>453.0</td>\n",
       "      <td>No*</td>\n",
       "    </tr>\n",
       "    <tr>\n",
       "      <th>1042672720</th>\n",
       "      <td>10081.0</td>\n",
       "      <td>74.0</td>\n",
       "      <td>Cromwell, James</td>\n",
       "      <td>M</td>\n",
       "      <td>9.0</td>\n",
       "      <td>Hispanic/Latino</td>\n",
       "      <td>No IEP</td>\n",
       "      <td>Not At-Risk</td>\n",
       "      <td>Cromwell</td>\n",
       "      <td>James</td>\n",
       "      <td>1.042673e+09</td>\n",
       "      <td>Fall 2020-2021</td>\n",
       "      <td>2020-09-15</td>\n",
       "      <td>210.0</td>\n",
       "      <td>No</td>\n",
       "      <td>228.0</td>\n",
       "      <td>No</td>\n",
       "    </tr>\n",
       "    <tr>\n",
       "      <th>1047809469</th>\n",
       "      <td>10316.0</td>\n",
       "      <td>285.0</td>\n",
       "      <td>Vaughn, Vince</td>\n",
       "      <td>M</td>\n",
       "      <td>10.0</td>\n",
       "      <td>Black or African American</td>\n",
       "      <td>No IEP</td>\n",
       "      <td>At-Risk</td>\n",
       "      <td>Vaughn</td>\n",
       "      <td>Vince</td>\n",
       "      <td>1.031600e+04</td>\n",
       "      <td>Fall 2020-2021</td>\n",
       "      <td>2020-09-15</td>\n",
       "      <td>493.0</td>\n",
       "      <td>No*</td>\n",
       "      <td>339.0</td>\n",
       "      <td>No*</td>\n",
       "    </tr>\n",
       "    <tr>\n",
       "      <th>1083129160</th>\n",
       "      <td>10194.0</td>\n",
       "      <td>180.0</td>\n",
       "      <td>Bacon, Kevin</td>\n",
       "      <td>M</td>\n",
       "      <td>10.0</td>\n",
       "      <td>White</td>\n",
       "      <td>No IEP</td>\n",
       "      <td>At-Risk</td>\n",
       "      <td>Bacon</td>\n",
       "      <td>Kevin</td>\n",
       "      <td>1.083129e+09</td>\n",
       "      <td>Fall 2020-2021</td>\n",
       "      <td>2020-09-15</td>\n",
       "      <td>223.0</td>\n",
       "      <td>No*</td>\n",
       "      <td>430.0</td>\n",
       "      <td>No*</td>\n",
       "    </tr>\n",
       "    <tr>\n",
       "      <th>1099753401</th>\n",
       "      <td>10118.0</td>\n",
       "      <td>109.0</td>\n",
       "      <td>Neill, Sam</td>\n",
       "      <td>M</td>\n",
       "      <td>12.0</td>\n",
       "      <td>Black or African American</td>\n",
       "      <td>No IEP</td>\n",
       "      <td>Not At-Risk</td>\n",
       "      <td>Neill</td>\n",
       "      <td>Sam</td>\n",
       "      <td>1.099753e+09</td>\n",
       "      <td>Fall 2020-2021</td>\n",
       "      <td>2020-09-15</td>\n",
       "      <td>365.0</td>\n",
       "      <td>Yes</td>\n",
       "      <td>288.0</td>\n",
       "      <td>Yes</td>\n",
       "    </tr>\n",
       "    <tr>\n",
       "      <th>...</th>\n",
       "      <td>...</td>\n",
       "      <td>...</td>\n",
       "      <td>...</td>\n",
       "      <td>...</td>\n",
       "      <td>...</td>\n",
       "      <td>...</td>\n",
       "      <td>...</td>\n",
       "      <td>...</td>\n",
       "      <td>...</td>\n",
       "      <td>...</td>\n",
       "      <td>...</td>\n",
       "      <td>...</td>\n",
       "      <td>...</td>\n",
       "      <td>...</td>\n",
       "      <td>...</td>\n",
       "      <td>...</td>\n",
       "      <td>...</td>\n",
       "    </tr>\n",
       "    <tr>\n",
       "      <th>9853336875</th>\n",
       "      <td>10110.0</td>\n",
       "      <td>101.0</td>\n",
       "      <td>Field, Sally</td>\n",
       "      <td>F</td>\n",
       "      <td>10.0</td>\n",
       "      <td>Black or African American</td>\n",
       "      <td>No IEP</td>\n",
       "      <td>Not At-Risk</td>\n",
       "      <td>Field</td>\n",
       "      <td>Sally</td>\n",
       "      <td>9.853337e+09</td>\n",
       "      <td>Fall 2020-2021</td>\n",
       "      <td>2020-09-15</td>\n",
       "      <td>424.0</td>\n",
       "      <td>No*</td>\n",
       "      <td>391.0</td>\n",
       "      <td>No*</td>\n",
       "    </tr>\n",
       "    <tr>\n",
       "      <th>9857289400</th>\n",
       "      <td>10172.0</td>\n",
       "      <td>160.0</td>\n",
       "      <td>Sinise, Gary</td>\n",
       "      <td>M</td>\n",
       "      <td>9.0</td>\n",
       "      <td>White</td>\n",
       "      <td>No IEP</td>\n",
       "      <td>At-Risk</td>\n",
       "      <td>Sinise</td>\n",
       "      <td>Gary</td>\n",
       "      <td>9.857289e+09</td>\n",
       "      <td>Fall 2020-2021</td>\n",
       "      <td>2020-09-15</td>\n",
       "      <td>283.0</td>\n",
       "      <td>No*</td>\n",
       "      <td>371.0</td>\n",
       "      <td>No*</td>\n",
       "    </tr>\n",
       "    <tr>\n",
       "      <th>9948352606</th>\n",
       "      <td>10425.0</td>\n",
       "      <td>385.0</td>\n",
       "      <td>Markle, Meghan</td>\n",
       "      <td>F</td>\n",
       "      <td>9.0</td>\n",
       "      <td>White</td>\n",
       "      <td>No IEP</td>\n",
       "      <td>At-Risk</td>\n",
       "      <td>Markle</td>\n",
       "      <td>Meghan</td>\n",
       "      <td>1.042500e+04</td>\n",
       "      <td>Fall 2020-2021</td>\n",
       "      <td>2020-09-15</td>\n",
       "      <td>220.0</td>\n",
       "      <td>Yes*</td>\n",
       "      <td>460.0</td>\n",
       "      <td>Yes*</td>\n",
       "    </tr>\n",
       "    <tr>\n",
       "      <th>9974106341</th>\n",
       "      <td>10152.0</td>\n",
       "      <td>141.0</td>\n",
       "      <td>Benigni, Roberto</td>\n",
       "      <td>M</td>\n",
       "      <td>10.0</td>\n",
       "      <td>White</td>\n",
       "      <td>IEP</td>\n",
       "      <td>Not At-Risk</td>\n",
       "      <td>Benigni</td>\n",
       "      <td>Roberto</td>\n",
       "      <td>9.974106e+09</td>\n",
       "      <td>Fall 2020-2021</td>\n",
       "      <td>2020-09-15</td>\n",
       "      <td>392.0</td>\n",
       "      <td>No*</td>\n",
       "      <td>206.0</td>\n",
       "      <td>No*</td>\n",
       "    </tr>\n",
       "    <tr>\n",
       "      <th>9977579684</th>\n",
       "      <td>10249.0</td>\n",
       "      <td>229.0</td>\n",
       "      <td>Reeves, Keanu</td>\n",
       "      <td>M</td>\n",
       "      <td>8.0</td>\n",
       "      <td>Black or African American</td>\n",
       "      <td>No IEP</td>\n",
       "      <td>Not At-Risk</td>\n",
       "      <td>Reeves</td>\n",
       "      <td>Keanu</td>\n",
       "      <td>9.977580e+09</td>\n",
       "      <td>Fall 2020-2021</td>\n",
       "      <td>2020-09-15</td>\n",
       "      <td>215.0</td>\n",
       "      <td>Yes</td>\n",
       "      <td>273.0</td>\n",
       "      <td>Yes</td>\n",
       "    </tr>\n",
       "  </tbody>\n",
       "</table>\n",
       "<p>428 rows × 17 columns</p>\n",
       "</div>"
      ],
      "text/plain": [
       "            LocalStudentID  index              Name Sex  CurrentGradeLevel  \\\n",
       "USI                                                                          \n",
       "1002312178         10426.0  386.0  Hudson, Jennifer   F                7.0   \n",
       "1042672720         10081.0   74.0   Cromwell, James   M                9.0   \n",
       "1047809469         10316.0  285.0     Vaughn, Vince   M               10.0   \n",
       "1083129160         10194.0  180.0      Bacon, Kevin   M               10.0   \n",
       "1099753401         10118.0  109.0        Neill, Sam   M               12.0   \n",
       "...                    ...    ...               ...  ..                ...   \n",
       "9853336875         10110.0  101.0      Field, Sally   F               10.0   \n",
       "9857289400         10172.0  160.0      Sinise, Gary   M                9.0   \n",
       "9948352606         10425.0  385.0    Markle, Meghan   F                9.0   \n",
       "9974106341         10152.0  141.0  Benigni, Roberto   M               10.0   \n",
       "9977579684         10249.0  229.0     Reeves, Keanu   M                8.0   \n",
       "\n",
       "                        RaceEthnicity     IEP       AtRisk  LastName  \\\n",
       "USI                                                                    \n",
       "1002312178  Black or African American     IEP      At-Risk    Hudson   \n",
       "1042672720            Hispanic/Latino  No IEP  Not At-Risk  Cromwell   \n",
       "1047809469  Black or African American  No IEP      At-Risk    Vaughn   \n",
       "1083129160                      White  No IEP      At-Risk     Bacon   \n",
       "1099753401  Black or African American  No IEP  Not At-Risk     Neill   \n",
       "...                               ...     ...          ...       ...   \n",
       "9853336875  Black or African American  No IEP  Not At-Risk     Field   \n",
       "9857289400                      White  No IEP      At-Risk    Sinise   \n",
       "9948352606                      White  No IEP      At-Risk    Markle   \n",
       "9974106341                      White     IEP  Not At-Risk   Benigni   \n",
       "9977579684  Black or African American  No IEP  Not At-Risk    Reeves   \n",
       "\n",
       "           FirstName     StudentID     Season Year  Test Date  \\\n",
       "USI                                                             \n",
       "1002312178  Jennifer  1.042600e+04  Fall 2020-2021 2020-09-15   \n",
       "1042672720     James  1.042673e+09  Fall 2020-2021 2020-09-15   \n",
       "1047809469     Vince  1.031600e+04  Fall 2020-2021 2020-09-15   \n",
       "1083129160     Kevin  1.083129e+09  Fall 2020-2021 2020-09-15   \n",
       "1099753401       Sam  1.099753e+09  Fall 2020-2021 2020-09-15   \n",
       "...              ...           ...             ...        ...   \n",
       "9853336875     Sally  9.853337e+09  Fall 2020-2021 2020-09-15   \n",
       "9857289400      Gary  9.857289e+09  Fall 2020-2021 2020-09-15   \n",
       "9948352606    Meghan  1.042500e+04  Fall 2020-2021 2020-09-15   \n",
       "9974106341   Roberto  9.974106e+09  Fall 2020-2021 2020-09-15   \n",
       "9977579684     Keanu  9.977580e+09  Fall 2020-2021 2020-09-15   \n",
       "\n",
       "            Mathematics Score Mathematics Met Growth Target  Reading Score  \\\n",
       "USI                                                                          \n",
       "1002312178              481.0                           No*          453.0   \n",
       "1042672720              210.0                            No          228.0   \n",
       "1047809469              493.0                           No*          339.0   \n",
       "1083129160              223.0                           No*          430.0   \n",
       "1099753401              365.0                           Yes          288.0   \n",
       "...                       ...                           ...            ...   \n",
       "9853336875              424.0                           No*          391.0   \n",
       "9857289400              283.0                           No*          371.0   \n",
       "9948352606              220.0                          Yes*          460.0   \n",
       "9974106341              392.0                           No*          206.0   \n",
       "9977579684              215.0                           Yes          273.0   \n",
       "\n",
       "           Reading Met Growth Target  \n",
       "USI                                   \n",
       "1002312178                       No*  \n",
       "1042672720                        No  \n",
       "1047809469                       No*  \n",
       "1083129160                       No*  \n",
       "1099753401                       Yes  \n",
       "...                              ...  \n",
       "9853336875                       No*  \n",
       "9857289400                       No*  \n",
       "9948352606                      Yes*  \n",
       "9974106341                       No*  \n",
       "9977579684                       Yes  \n",
       "\n",
       "[428 rows x 17 columns]"
      ]
     },
     "execution_count": 461,
     "metadata": {},
     "output_type": "execute_result"
    }
   ],
   "source": [
    "demo.merge(scores, how = 'outer', right_index=True, left_index=True)"
   ]
  },
  {
   "cell_type": "code",
   "execution_count": 440,
   "id": "22b52025",
   "metadata": {},
   "outputs": [
    {
     "data": {
      "text/plain": [
       "LocalStudentID                    0\n",
       "Name                              0\n",
       "Sex                               0\n",
       "CurrentGradeLevel                 0\n",
       "RaceEthnicity                     0\n",
       "IEP                               0\n",
       "AtRisk                            0\n",
       "LastName                          0\n",
       "FirstName                         0\n",
       "Season Year                       3\n",
       "Test Date                         3\n",
       "Mathematics Score                 3\n",
       "Mathematics Met Growth Target    13\n",
       "Reading Score                     4\n",
       "Reading Met Growth Target        13\n",
       "dtype: int64"
      ]
     },
     "execution_count": 440,
     "metadata": {},
     "output_type": "execute_result"
    }
   ],
   "source": [
    "left_joined_df.drop(['index', 'StudentID'], axis = 1).isna().sum()"
   ]
  },
  {
   "cell_type": "code",
   "execution_count": 449,
   "id": "ddadf5ce",
   "metadata": {},
   "outputs": [],
   "source": [
    "def fillYearAndDate(scores):\n",
    "    \n",
    "    left_joined_df['Test Date'].fillna(method = 'bfill', inplace = True)\n",
    "    left_joined_df['Season Year'].fillna(method = 'bfill', inplace = True)"
   ]
  },
  {
   "cell_type": "code",
   "execution_count": 437,
   "id": "49a6c0f2",
   "metadata": {},
   "outputs": [
    {
     "data": {
      "text/plain": [
       "USI\n",
       "2239664225    1.000100e+04\n",
       "2650023531    1.000200e+04\n",
       "3441934847    3.441935e+08\n",
       "4716164342    4.716164e+09\n",
       "3506382949    3.506383e+09\n",
       "                  ...     \n",
       "4750973818    1.046400e+04\n",
       "1447613002    1.046500e+04\n",
       "8930493455    1.046600e+04\n",
       "4292757544    1.046700e+04\n",
       "2768189192    1.046800e+04\n",
       "Name: StudentID, Length: 426, dtype: float64"
      ]
     },
     "execution_count": 437,
     "metadata": {},
     "output_type": "execute_result"
    }
   ],
   "source": [
    "left_joined_df['StudentID'].fillna(demo['LocalStudentID'])"
   ]
  },
  {
   "cell_type": "code",
   "execution_count": 454,
   "id": "a89bc947",
   "metadata": {},
   "outputs": [
    {
     "data": {
      "text/plain": [
       "USI\n",
       "2239664225      NaN\n",
       "2650023531      NaN\n",
       "3441934847    273.0\n",
       "4716164342    208.0\n",
       "3506382949    223.0\n",
       "              ...  \n",
       "4750973818    231.0\n",
       "1447613002      NaN\n",
       "8930493455    489.0\n",
       "4292757544    249.0\n",
       "2768189192    254.0\n",
       "Name: Mathematics Score, Length: 426, dtype: float64"
      ]
     },
     "execution_count": 454,
     "metadata": {},
     "output_type": "execute_result"
    }
   ],
   "source": [
    "left_joined_df['Mathematics Score'].fillna(scores['Mathematics Score'])"
   ]
  },
  {
   "cell_type": "code",
   "execution_count": 456,
   "id": "fc032a9d",
   "metadata": {},
   "outputs": [
    {
     "data": {
      "text/html": [
       "<div>\n",
       "<style scoped>\n",
       "    .dataframe tbody tr th:only-of-type {\n",
       "        vertical-align: middle;\n",
       "    }\n",
       "\n",
       "    .dataframe tbody tr th {\n",
       "        vertical-align: top;\n",
       "    }\n",
       "\n",
       "    .dataframe thead th {\n",
       "        text-align: right;\n",
       "    }\n",
       "</style>\n",
       "<table border=\"1\" class=\"dataframe\">\n",
       "  <thead>\n",
       "    <tr style=\"text-align: right;\">\n",
       "      <th></th>\n",
       "      <th>LocalStudentID</th>\n",
       "      <th>index</th>\n",
       "      <th>Name</th>\n",
       "      <th>Sex</th>\n",
       "      <th>CurrentGradeLevel</th>\n",
       "      <th>RaceEthnicity</th>\n",
       "      <th>IEP</th>\n",
       "      <th>AtRisk</th>\n",
       "      <th>LastName</th>\n",
       "      <th>FirstName</th>\n",
       "      <th>StudentID</th>\n",
       "      <th>Season Year</th>\n",
       "      <th>Test Date</th>\n",
       "      <th>Mathematics Score</th>\n",
       "      <th>Mathematics Met Growth Target</th>\n",
       "      <th>Reading Score</th>\n",
       "      <th>Reading Met Growth Target</th>\n",
       "    </tr>\n",
       "    <tr>\n",
       "      <th>USI</th>\n",
       "      <th></th>\n",
       "      <th></th>\n",
       "      <th></th>\n",
       "      <th></th>\n",
       "      <th></th>\n",
       "      <th></th>\n",
       "      <th></th>\n",
       "      <th></th>\n",
       "      <th></th>\n",
       "      <th></th>\n",
       "      <th></th>\n",
       "      <th></th>\n",
       "      <th></th>\n",
       "      <th></th>\n",
       "      <th></th>\n",
       "      <th></th>\n",
       "      <th></th>\n",
       "    </tr>\n",
       "  </thead>\n",
       "  <tbody>\n",
       "    <tr>\n",
       "      <th>2239664225</th>\n",
       "      <td>10001</td>\n",
       "      <td>0</td>\n",
       "      <td>Palmer, Keke</td>\n",
       "      <td>F</td>\n",
       "      <td>6</td>\n",
       "      <td>Hispanic/Latino</td>\n",
       "      <td>No IEP</td>\n",
       "      <td>Not At-Risk</td>\n",
       "      <td>Palmer</td>\n",
       "      <td>Keke</td>\n",
       "      <td>NaN</td>\n",
       "      <td>NaN</td>\n",
       "      <td>NaT</td>\n",
       "      <td>NaN</td>\n",
       "      <td>NaN</td>\n",
       "      <td>NaN</td>\n",
       "      <td>NaN</td>\n",
       "    </tr>\n",
       "    <tr>\n",
       "      <th>2650023531</th>\n",
       "      <td>10002</td>\n",
       "      <td>1</td>\n",
       "      <td>Garson, Greer</td>\n",
       "      <td>F</td>\n",
       "      <td>6</td>\n",
       "      <td>White</td>\n",
       "      <td>No IEP</td>\n",
       "      <td>At-Risk</td>\n",
       "      <td>Garson</td>\n",
       "      <td>Greer</td>\n",
       "      <td>NaN</td>\n",
       "      <td>NaN</td>\n",
       "      <td>NaT</td>\n",
       "      <td>NaN</td>\n",
       "      <td>NaN</td>\n",
       "      <td>NaN</td>\n",
       "      <td>NaN</td>\n",
       "    </tr>\n",
       "    <tr>\n",
       "      <th>3441934847</th>\n",
       "      <td>10003</td>\n",
       "      <td>2</td>\n",
       "      <td>Fonda, Henry</td>\n",
       "      <td>M</td>\n",
       "      <td>6</td>\n",
       "      <td>White</td>\n",
       "      <td>IEP</td>\n",
       "      <td>At-Risk</td>\n",
       "      <td>Fonda</td>\n",
       "      <td>Henry</td>\n",
       "      <td>3.441935e+08</td>\n",
       "      <td>Fall 2020-2021</td>\n",
       "      <td>2020-09-15</td>\n",
       "      <td>273.0</td>\n",
       "      <td>No</td>\n",
       "      <td>469.0</td>\n",
       "      <td>No</td>\n",
       "    </tr>\n",
       "    <tr>\n",
       "      <th>4716164342</th>\n",
       "      <td>10004</td>\n",
       "      <td>3</td>\n",
       "      <td>Garbo, Greta</td>\n",
       "      <td>F</td>\n",
       "      <td>6</td>\n",
       "      <td>White</td>\n",
       "      <td>No IEP</td>\n",
       "      <td>At-Risk</td>\n",
       "      <td>Garbo</td>\n",
       "      <td>Greta</td>\n",
       "      <td>4.716164e+09</td>\n",
       "      <td>Fall 2020-2021</td>\n",
       "      <td>2020-09-15</td>\n",
       "      <td>208.0</td>\n",
       "      <td>Yes</td>\n",
       "      <td>342.0</td>\n",
       "      <td>Yes</td>\n",
       "    </tr>\n",
       "    <tr>\n",
       "      <th>3506382949</th>\n",
       "      <td>10005</td>\n",
       "      <td>4</td>\n",
       "      <td>Baker, Josephine</td>\n",
       "      <td>F</td>\n",
       "      <td>6</td>\n",
       "      <td>White</td>\n",
       "      <td>No IEP</td>\n",
       "      <td>Not At-Risk</td>\n",
       "      <td>Baker</td>\n",
       "      <td>Josephine</td>\n",
       "      <td>3.506383e+09</td>\n",
       "      <td>Fall 2020-2021</td>\n",
       "      <td>2020-09-15</td>\n",
       "      <td>223.0</td>\n",
       "      <td>NaN</td>\n",
       "      <td>248.0</td>\n",
       "      <td>NaN</td>\n",
       "    </tr>\n",
       "    <tr>\n",
       "      <th>...</th>\n",
       "      <td>...</td>\n",
       "      <td>...</td>\n",
       "      <td>...</td>\n",
       "      <td>...</td>\n",
       "      <td>...</td>\n",
       "      <td>...</td>\n",
       "      <td>...</td>\n",
       "      <td>...</td>\n",
       "      <td>...</td>\n",
       "      <td>...</td>\n",
       "      <td>...</td>\n",
       "      <td>...</td>\n",
       "      <td>...</td>\n",
       "      <td>...</td>\n",
       "      <td>...</td>\n",
       "      <td>...</td>\n",
       "      <td>...</td>\n",
       "    </tr>\n",
       "    <tr>\n",
       "      <th>4750973818</th>\n",
       "      <td>10464</td>\n",
       "      <td>421</td>\n",
       "      <td>Watson, Emma</td>\n",
       "      <td>F</td>\n",
       "      <td>7</td>\n",
       "      <td>White</td>\n",
       "      <td>No IEP</td>\n",
       "      <td>At-Risk</td>\n",
       "      <td>Watson</td>\n",
       "      <td>Emma</td>\n",
       "      <td>1.046400e+04</td>\n",
       "      <td>Fall 2020-2021</td>\n",
       "      <td>2020-09-15</td>\n",
       "      <td>231.0</td>\n",
       "      <td>Yes*</td>\n",
       "      <td>441.0</td>\n",
       "      <td>Yes*</td>\n",
       "    </tr>\n",
       "    <tr>\n",
       "      <th>1447613002</th>\n",
       "      <td>10465</td>\n",
       "      <td>422</td>\n",
       "      <td>Robbie, Margot</td>\n",
       "      <td>F</td>\n",
       "      <td>8</td>\n",
       "      <td>White</td>\n",
       "      <td>No IEP</td>\n",
       "      <td>Not At-Risk</td>\n",
       "      <td>Robbie</td>\n",
       "      <td>Margot</td>\n",
       "      <td>NaN</td>\n",
       "      <td>NaN</td>\n",
       "      <td>NaT</td>\n",
       "      <td>NaN</td>\n",
       "      <td>NaN</td>\n",
       "      <td>NaN</td>\n",
       "      <td>NaN</td>\n",
       "    </tr>\n",
       "    <tr>\n",
       "      <th>8930493455</th>\n",
       "      <td>10466</td>\n",
       "      <td>423</td>\n",
       "      <td>Woodley, Shailene</td>\n",
       "      <td>F</td>\n",
       "      <td>8</td>\n",
       "      <td>Black or African American</td>\n",
       "      <td>No IEP</td>\n",
       "      <td>At-Risk</td>\n",
       "      <td>Woodley</td>\n",
       "      <td>Shailene</td>\n",
       "      <td>1.046600e+04</td>\n",
       "      <td>Fall 2020-2021</td>\n",
       "      <td>2020-09-15</td>\n",
       "      <td>489.0</td>\n",
       "      <td>Yes</td>\n",
       "      <td>295.0</td>\n",
       "      <td>Yes</td>\n",
       "    </tr>\n",
       "    <tr>\n",
       "      <th>4292757544</th>\n",
       "      <td>10467</td>\n",
       "      <td>424</td>\n",
       "      <td>Morgan, Vanessa</td>\n",
       "      <td>F</td>\n",
       "      <td>10</td>\n",
       "      <td>Black or African American</td>\n",
       "      <td>No IEP</td>\n",
       "      <td>Not At-Risk</td>\n",
       "      <td>Morgan</td>\n",
       "      <td>Vanessa</td>\n",
       "      <td>1.046700e+04</td>\n",
       "      <td>Fall 2020-2021</td>\n",
       "      <td>2020-09-15</td>\n",
       "      <td>249.0</td>\n",
       "      <td>No</td>\n",
       "      <td>240.0</td>\n",
       "      <td>No</td>\n",
       "    </tr>\n",
       "    <tr>\n",
       "      <th>2768189192</th>\n",
       "      <td>10468</td>\n",
       "      <td>425</td>\n",
       "      <td>Lovato, Demi</td>\n",
       "      <td>F</td>\n",
       "      <td>8</td>\n",
       "      <td>Black or African American</td>\n",
       "      <td>No IEP</td>\n",
       "      <td>At-Risk</td>\n",
       "      <td>Lovato</td>\n",
       "      <td>Demi</td>\n",
       "      <td>1.046800e+04</td>\n",
       "      <td>Fall 2020-2021</td>\n",
       "      <td>2020-09-15</td>\n",
       "      <td>254.0</td>\n",
       "      <td>Yes*</td>\n",
       "      <td>425.0</td>\n",
       "      <td>Yes*</td>\n",
       "    </tr>\n",
       "  </tbody>\n",
       "</table>\n",
       "<p>426 rows × 17 columns</p>\n",
       "</div>"
      ],
      "text/plain": [
       "            LocalStudentID  index               Name Sex  CurrentGradeLevel  \\\n",
       "USI                                                                           \n",
       "2239664225           10001      0       Palmer, Keke   F                  6   \n",
       "2650023531           10002      1      Garson, Greer   F                  6   \n",
       "3441934847           10003      2       Fonda, Henry   M                  6   \n",
       "4716164342           10004      3       Garbo, Greta   F                  6   \n",
       "3506382949           10005      4   Baker, Josephine   F                  6   \n",
       "...                    ...    ...                ...  ..                ...   \n",
       "4750973818           10464    421       Watson, Emma   F                  7   \n",
       "1447613002           10465    422     Robbie, Margot   F                  8   \n",
       "8930493455           10466    423  Woodley, Shailene   F                  8   \n",
       "4292757544           10467    424    Morgan, Vanessa   F                 10   \n",
       "2768189192           10468    425       Lovato, Demi   F                  8   \n",
       "\n",
       "                        RaceEthnicity     IEP       AtRisk LastName  \\\n",
       "USI                                                                   \n",
       "2239664225            Hispanic/Latino  No IEP  Not At-Risk   Palmer   \n",
       "2650023531                      White  No IEP      At-Risk   Garson   \n",
       "3441934847                      White     IEP      At-Risk    Fonda   \n",
       "4716164342                      White  No IEP      At-Risk    Garbo   \n",
       "3506382949                      White  No IEP  Not At-Risk    Baker   \n",
       "...                               ...     ...          ...      ...   \n",
       "4750973818                      White  No IEP      At-Risk   Watson   \n",
       "1447613002                      White  No IEP  Not At-Risk   Robbie   \n",
       "8930493455  Black or African American  No IEP      At-Risk  Woodley   \n",
       "4292757544  Black or African American  No IEP  Not At-Risk   Morgan   \n",
       "2768189192  Black or African American  No IEP      At-Risk   Lovato   \n",
       "\n",
       "            FirstName     StudentID     Season Year  Test Date  \\\n",
       "USI                                                              \n",
       "2239664225       Keke           NaN             NaN        NaT   \n",
       "2650023531      Greer           NaN             NaN        NaT   \n",
       "3441934847      Henry  3.441935e+08  Fall 2020-2021 2020-09-15   \n",
       "4716164342      Greta  4.716164e+09  Fall 2020-2021 2020-09-15   \n",
       "3506382949  Josephine  3.506383e+09  Fall 2020-2021 2020-09-15   \n",
       "...               ...           ...             ...        ...   \n",
       "4750973818       Emma  1.046400e+04  Fall 2020-2021 2020-09-15   \n",
       "1447613002     Margot           NaN             NaN        NaT   \n",
       "8930493455   Shailene  1.046600e+04  Fall 2020-2021 2020-09-15   \n",
       "4292757544    Vanessa  1.046700e+04  Fall 2020-2021 2020-09-15   \n",
       "2768189192       Demi  1.046800e+04  Fall 2020-2021 2020-09-15   \n",
       "\n",
       "            Mathematics Score Mathematics Met Growth Target  Reading Score  \\\n",
       "USI                                                                          \n",
       "2239664225                NaN                           NaN            NaN   \n",
       "2650023531                NaN                           NaN            NaN   \n",
       "3441934847              273.0                            No          469.0   \n",
       "4716164342              208.0                           Yes          342.0   \n",
       "3506382949              223.0                           NaN          248.0   \n",
       "...                       ...                           ...            ...   \n",
       "4750973818              231.0                          Yes*          441.0   \n",
       "1447613002                NaN                           NaN            NaN   \n",
       "8930493455              489.0                           Yes          295.0   \n",
       "4292757544              249.0                            No          240.0   \n",
       "2768189192              254.0                          Yes*          425.0   \n",
       "\n",
       "           Reading Met Growth Target  \n",
       "USI                                   \n",
       "2239664225                       NaN  \n",
       "2650023531                       NaN  \n",
       "3441934847                        No  \n",
       "4716164342                       Yes  \n",
       "3506382949                       NaN  \n",
       "...                              ...  \n",
       "4750973818                      Yes*  \n",
       "1447613002                       NaN  \n",
       "8930493455                       Yes  \n",
       "4292757544                        No  \n",
       "2768189192                      Yes*  \n",
       "\n",
       "[426 rows x 17 columns]"
      ]
     },
     "execution_count": 456,
     "metadata": {},
     "output_type": "execute_result"
    }
   ],
   "source": [
    "left_joined_df"
   ]
  },
  {
   "cell_type": "code",
   "execution_count": 457,
   "id": "66d23e32",
   "metadata": {},
   "outputs": [
    {
     "ename": "KeyError",
     "evalue": "1447613002",
     "output_type": "error",
     "traceback": [
      "\u001b[1;31m---------------------------------------------------------------------------\u001b[0m",
      "\u001b[1;31mKeyError\u001b[0m                                  Traceback (most recent call last)",
      "\u001b[1;32m~\\anaconda3\\lib\\site-packages\\pandas\\core\\indexes\\base.py\u001b[0m in \u001b[0;36mget_loc\u001b[1;34m(self, key, method, tolerance)\u001b[0m\n\u001b[0;32m   3079\u001b[0m             \u001b[1;32mtry\u001b[0m\u001b[1;33m:\u001b[0m\u001b[1;33m\u001b[0m\u001b[1;33m\u001b[0m\u001b[0m\n\u001b[1;32m-> 3080\u001b[1;33m                 \u001b[1;32mreturn\u001b[0m \u001b[0mself\u001b[0m\u001b[1;33m.\u001b[0m\u001b[0m_engine\u001b[0m\u001b[1;33m.\u001b[0m\u001b[0mget_loc\u001b[0m\u001b[1;33m(\u001b[0m\u001b[0mcasted_key\u001b[0m\u001b[1;33m)\u001b[0m\u001b[1;33m\u001b[0m\u001b[1;33m\u001b[0m\u001b[0m\n\u001b[0m\u001b[0;32m   3081\u001b[0m             \u001b[1;32mexcept\u001b[0m \u001b[0mKeyError\u001b[0m \u001b[1;32mas\u001b[0m \u001b[0merr\u001b[0m\u001b[1;33m:\u001b[0m\u001b[1;33m\u001b[0m\u001b[1;33m\u001b[0m\u001b[0m\n",
      "\u001b[1;32mpandas\\_libs\\index.pyx\u001b[0m in \u001b[0;36mpandas._libs.index.IndexEngine.get_loc\u001b[1;34m()\u001b[0m\n",
      "\u001b[1;32mpandas\\_libs\\index.pyx\u001b[0m in \u001b[0;36mpandas._libs.index.IndexEngine.get_loc\u001b[1;34m()\u001b[0m\n",
      "\u001b[1;32mpandas\\_libs\\hashtable_class_helper.pxi\u001b[0m in \u001b[0;36mpandas._libs.hashtable.Int64HashTable.get_item\u001b[1;34m()\u001b[0m\n",
      "\u001b[1;32mpandas\\_libs\\hashtable_class_helper.pxi\u001b[0m in \u001b[0;36mpandas._libs.hashtable.Int64HashTable.get_item\u001b[1;34m()\u001b[0m\n",
      "\u001b[1;31mKeyError\u001b[0m: 1447613002",
      "\nThe above exception was the direct cause of the following exception:\n",
      "\u001b[1;31mKeyError\u001b[0m                                  Traceback (most recent call last)",
      "\u001b[1;32m<ipython-input-457-9541e9dbc123>\u001b[0m in \u001b[0;36m<module>\u001b[1;34m\u001b[0m\n\u001b[1;32m----> 1\u001b[1;33m \u001b[0mscores\u001b[0m\u001b[1;33m.\u001b[0m\u001b[0mloc\u001b[0m\u001b[1;33m[\u001b[0m\u001b[1;36m1447613002\u001b[0m\u001b[1;33m]\u001b[0m\u001b[1;33m\u001b[0m\u001b[1;33m\u001b[0m\u001b[0m\n\u001b[0m",
      "\u001b[1;32m~\\anaconda3\\lib\\site-packages\\pandas\\core\\indexing.py\u001b[0m in \u001b[0;36m__getitem__\u001b[1;34m(self, key)\u001b[0m\n\u001b[0;32m    893\u001b[0m \u001b[1;33m\u001b[0m\u001b[0m\n\u001b[0;32m    894\u001b[0m             \u001b[0mmaybe_callable\u001b[0m \u001b[1;33m=\u001b[0m \u001b[0mcom\u001b[0m\u001b[1;33m.\u001b[0m\u001b[0mapply_if_callable\u001b[0m\u001b[1;33m(\u001b[0m\u001b[0mkey\u001b[0m\u001b[1;33m,\u001b[0m \u001b[0mself\u001b[0m\u001b[1;33m.\u001b[0m\u001b[0mobj\u001b[0m\u001b[1;33m)\u001b[0m\u001b[1;33m\u001b[0m\u001b[1;33m\u001b[0m\u001b[0m\n\u001b[1;32m--> 895\u001b[1;33m             \u001b[1;32mreturn\u001b[0m \u001b[0mself\u001b[0m\u001b[1;33m.\u001b[0m\u001b[0m_getitem_axis\u001b[0m\u001b[1;33m(\u001b[0m\u001b[0mmaybe_callable\u001b[0m\u001b[1;33m,\u001b[0m \u001b[0maxis\u001b[0m\u001b[1;33m=\u001b[0m\u001b[0maxis\u001b[0m\u001b[1;33m)\u001b[0m\u001b[1;33m\u001b[0m\u001b[1;33m\u001b[0m\u001b[0m\n\u001b[0m\u001b[0;32m    896\u001b[0m \u001b[1;33m\u001b[0m\u001b[0m\n\u001b[0;32m    897\u001b[0m     \u001b[1;32mdef\u001b[0m \u001b[0m_is_scalar_access\u001b[0m\u001b[1;33m(\u001b[0m\u001b[0mself\u001b[0m\u001b[1;33m,\u001b[0m \u001b[0mkey\u001b[0m\u001b[1;33m:\u001b[0m \u001b[0mTuple\u001b[0m\u001b[1;33m)\u001b[0m\u001b[1;33m:\u001b[0m\u001b[1;33m\u001b[0m\u001b[1;33m\u001b[0m\u001b[0m\n",
      "\u001b[1;32m~\\anaconda3\\lib\\site-packages\\pandas\\core\\indexing.py\u001b[0m in \u001b[0;36m_getitem_axis\u001b[1;34m(self, key, axis)\u001b[0m\n\u001b[0;32m   1122\u001b[0m         \u001b[1;31m# fall thru to straight lookup\u001b[0m\u001b[1;33m\u001b[0m\u001b[1;33m\u001b[0m\u001b[1;33m\u001b[0m\u001b[0m\n\u001b[0;32m   1123\u001b[0m         \u001b[0mself\u001b[0m\u001b[1;33m.\u001b[0m\u001b[0m_validate_key\u001b[0m\u001b[1;33m(\u001b[0m\u001b[0mkey\u001b[0m\u001b[1;33m,\u001b[0m \u001b[0maxis\u001b[0m\u001b[1;33m)\u001b[0m\u001b[1;33m\u001b[0m\u001b[1;33m\u001b[0m\u001b[0m\n\u001b[1;32m-> 1124\u001b[1;33m         \u001b[1;32mreturn\u001b[0m \u001b[0mself\u001b[0m\u001b[1;33m.\u001b[0m\u001b[0m_get_label\u001b[0m\u001b[1;33m(\u001b[0m\u001b[0mkey\u001b[0m\u001b[1;33m,\u001b[0m \u001b[0maxis\u001b[0m\u001b[1;33m=\u001b[0m\u001b[0maxis\u001b[0m\u001b[1;33m)\u001b[0m\u001b[1;33m\u001b[0m\u001b[1;33m\u001b[0m\u001b[0m\n\u001b[0m\u001b[0;32m   1125\u001b[0m \u001b[1;33m\u001b[0m\u001b[0m\n\u001b[0;32m   1126\u001b[0m     \u001b[1;32mdef\u001b[0m \u001b[0m_get_slice_axis\u001b[0m\u001b[1;33m(\u001b[0m\u001b[0mself\u001b[0m\u001b[1;33m,\u001b[0m \u001b[0mslice_obj\u001b[0m\u001b[1;33m:\u001b[0m \u001b[0mslice\u001b[0m\u001b[1;33m,\u001b[0m \u001b[0maxis\u001b[0m\u001b[1;33m:\u001b[0m \u001b[0mint\u001b[0m\u001b[1;33m)\u001b[0m\u001b[1;33m:\u001b[0m\u001b[1;33m\u001b[0m\u001b[1;33m\u001b[0m\u001b[0m\n",
      "\u001b[1;32m~\\anaconda3\\lib\\site-packages\\pandas\\core\\indexing.py\u001b[0m in \u001b[0;36m_get_label\u001b[1;34m(self, label, axis)\u001b[0m\n\u001b[0;32m   1071\u001b[0m     \u001b[1;32mdef\u001b[0m \u001b[0m_get_label\u001b[0m\u001b[1;33m(\u001b[0m\u001b[0mself\u001b[0m\u001b[1;33m,\u001b[0m \u001b[0mlabel\u001b[0m\u001b[1;33m,\u001b[0m \u001b[0maxis\u001b[0m\u001b[1;33m:\u001b[0m \u001b[0mint\u001b[0m\u001b[1;33m)\u001b[0m\u001b[1;33m:\u001b[0m\u001b[1;33m\u001b[0m\u001b[1;33m\u001b[0m\u001b[0m\n\u001b[0;32m   1072\u001b[0m         \u001b[1;31m# GH#5667 this will fail if the label is not present in the axis.\u001b[0m\u001b[1;33m\u001b[0m\u001b[1;33m\u001b[0m\u001b[1;33m\u001b[0m\u001b[0m\n\u001b[1;32m-> 1073\u001b[1;33m         \u001b[1;32mreturn\u001b[0m \u001b[0mself\u001b[0m\u001b[1;33m.\u001b[0m\u001b[0mobj\u001b[0m\u001b[1;33m.\u001b[0m\u001b[0mxs\u001b[0m\u001b[1;33m(\u001b[0m\u001b[0mlabel\u001b[0m\u001b[1;33m,\u001b[0m \u001b[0maxis\u001b[0m\u001b[1;33m=\u001b[0m\u001b[0maxis\u001b[0m\u001b[1;33m)\u001b[0m\u001b[1;33m\u001b[0m\u001b[1;33m\u001b[0m\u001b[0m\n\u001b[0m\u001b[0;32m   1074\u001b[0m \u001b[1;33m\u001b[0m\u001b[0m\n\u001b[0;32m   1075\u001b[0m     \u001b[1;32mdef\u001b[0m \u001b[0m_handle_lowerdim_multi_index_axis0\u001b[0m\u001b[1;33m(\u001b[0m\u001b[0mself\u001b[0m\u001b[1;33m,\u001b[0m \u001b[0mtup\u001b[0m\u001b[1;33m:\u001b[0m \u001b[0mTuple\u001b[0m\u001b[1;33m)\u001b[0m\u001b[1;33m:\u001b[0m\u001b[1;33m\u001b[0m\u001b[1;33m\u001b[0m\u001b[0m\n",
      "\u001b[1;32m~\\anaconda3\\lib\\site-packages\\pandas\\core\\generic.py\u001b[0m in \u001b[0;36mxs\u001b[1;34m(self, key, axis, level, drop_level)\u001b[0m\n\u001b[0;32m   3737\u001b[0m                 \u001b[1;32mraise\u001b[0m \u001b[0mTypeError\u001b[0m\u001b[1;33m(\u001b[0m\u001b[1;34mf\"Expected label or tuple of labels, got {key}\"\u001b[0m\u001b[1;33m)\u001b[0m \u001b[1;32mfrom\u001b[0m \u001b[0me\u001b[0m\u001b[1;33m\u001b[0m\u001b[1;33m\u001b[0m\u001b[0m\n\u001b[0;32m   3738\u001b[0m         \u001b[1;32melse\u001b[0m\u001b[1;33m:\u001b[0m\u001b[1;33m\u001b[0m\u001b[1;33m\u001b[0m\u001b[0m\n\u001b[1;32m-> 3739\u001b[1;33m             \u001b[0mloc\u001b[0m \u001b[1;33m=\u001b[0m \u001b[0mindex\u001b[0m\u001b[1;33m.\u001b[0m\u001b[0mget_loc\u001b[0m\u001b[1;33m(\u001b[0m\u001b[0mkey\u001b[0m\u001b[1;33m)\u001b[0m\u001b[1;33m\u001b[0m\u001b[1;33m\u001b[0m\u001b[0m\n\u001b[0m\u001b[0;32m   3740\u001b[0m \u001b[1;33m\u001b[0m\u001b[0m\n\u001b[0;32m   3741\u001b[0m             \u001b[1;32mif\u001b[0m \u001b[0misinstance\u001b[0m\u001b[1;33m(\u001b[0m\u001b[0mloc\u001b[0m\u001b[1;33m,\u001b[0m \u001b[0mnp\u001b[0m\u001b[1;33m.\u001b[0m\u001b[0mndarray\u001b[0m\u001b[1;33m)\u001b[0m\u001b[1;33m:\u001b[0m\u001b[1;33m\u001b[0m\u001b[1;33m\u001b[0m\u001b[0m\n",
      "\u001b[1;32m~\\anaconda3\\lib\\site-packages\\pandas\\core\\indexes\\base.py\u001b[0m in \u001b[0;36mget_loc\u001b[1;34m(self, key, method, tolerance)\u001b[0m\n\u001b[0;32m   3080\u001b[0m                 \u001b[1;32mreturn\u001b[0m \u001b[0mself\u001b[0m\u001b[1;33m.\u001b[0m\u001b[0m_engine\u001b[0m\u001b[1;33m.\u001b[0m\u001b[0mget_loc\u001b[0m\u001b[1;33m(\u001b[0m\u001b[0mcasted_key\u001b[0m\u001b[1;33m)\u001b[0m\u001b[1;33m\u001b[0m\u001b[1;33m\u001b[0m\u001b[0m\n\u001b[0;32m   3081\u001b[0m             \u001b[1;32mexcept\u001b[0m \u001b[0mKeyError\u001b[0m \u001b[1;32mas\u001b[0m \u001b[0merr\u001b[0m\u001b[1;33m:\u001b[0m\u001b[1;33m\u001b[0m\u001b[1;33m\u001b[0m\u001b[0m\n\u001b[1;32m-> 3082\u001b[1;33m                 \u001b[1;32mraise\u001b[0m \u001b[0mKeyError\u001b[0m\u001b[1;33m(\u001b[0m\u001b[0mkey\u001b[0m\u001b[1;33m)\u001b[0m \u001b[1;32mfrom\u001b[0m \u001b[0merr\u001b[0m\u001b[1;33m\u001b[0m\u001b[1;33m\u001b[0m\u001b[0m\n\u001b[0m\u001b[0;32m   3083\u001b[0m \u001b[1;33m\u001b[0m\u001b[0m\n\u001b[0;32m   3084\u001b[0m         \u001b[1;32mif\u001b[0m \u001b[0mtolerance\u001b[0m \u001b[1;32mis\u001b[0m \u001b[1;32mnot\u001b[0m \u001b[1;32mNone\u001b[0m\u001b[1;33m:\u001b[0m\u001b[1;33m\u001b[0m\u001b[1;33m\u001b[0m\u001b[0m\n",
      "\u001b[1;31mKeyError\u001b[0m: 1447613002"
     ]
    }
   ],
   "source": [
    "scores.loc[1447613002]"
   ]
  },
  {
   "cell_type": "code",
   "execution_count": 128,
   "id": "1ad7c38a",
   "metadata": {},
   "outputs": [
    {
     "data": {
      "text/plain": [
       "Season Year                           Fall 2020-2021\n",
       "Test Date                        2020-09-15 00:00:00\n",
       "Mathematics Score                                315\n",
       "Mathematics Met Growth Target                    No*\n",
       "Reading Score                                  391.0\n",
       "Reading Met Growth Target                        No*\n",
       "USI                                       2239664255\n",
       "Name: 2239664255, dtype: object"
      ]
     },
     "execution_count": 128,
     "metadata": {},
     "output_type": "execute_result"
    }
   ],
   "source": [
    "scores.loc[2239664255]"
   ]
  },
  {
   "cell_type": "code",
   "execution_count": 149,
   "id": "2a5554c5",
   "metadata": {},
   "outputs": [
    {
     "ename": "KeyError",
     "evalue": "\"Passing list-likes to .loc or [] with any missing labels is no longer supported. The following labels were missing: Int64Index([2239664255, 2650023533], dtype='int64', name='StudentID'). See https://pandas.pydata.org/pandas-docs/stable/user_guide/indexing.html#deprecate-loc-reindex-listlike\"",
     "output_type": "error",
     "traceback": [
      "\u001b[1;31m---------------------------------------------------------------------------\u001b[0m",
      "\u001b[1;31mKeyError\u001b[0m                                  Traceback (most recent call last)",
      "\u001b[1;32m<ipython-input-149-edbf3052839a>\u001b[0m in \u001b[0;36m<module>\u001b[1;34m\u001b[0m\n\u001b[1;32m----> 1\u001b[1;33m \u001b[0mdemo\u001b[0m\u001b[1;33m.\u001b[0m\u001b[0mloc\u001b[0m\u001b[1;33m[\u001b[0m\u001b[0midxs_missing_student_ids\u001b[0m\u001b[1;33m,\u001b[0m\u001b[1;34m'LocalStudentID'\u001b[0m\u001b[1;33m]\u001b[0m\u001b[1;33m\u001b[0m\u001b[1;33m\u001b[0m\u001b[0m\n\u001b[0m",
      "\u001b[1;32m~\\anaconda3\\lib\\site-packages\\pandas\\core\\indexing.py\u001b[0m in \u001b[0;36m__getitem__\u001b[1;34m(self, key)\u001b[0m\n\u001b[0;32m    887\u001b[0m                     \u001b[1;31m# AttributeError for IntervalTree get_value\u001b[0m\u001b[1;33m\u001b[0m\u001b[1;33m\u001b[0m\u001b[1;33m\u001b[0m\u001b[0m\n\u001b[0;32m    888\u001b[0m                     \u001b[1;32mreturn\u001b[0m \u001b[0mself\u001b[0m\u001b[1;33m.\u001b[0m\u001b[0mobj\u001b[0m\u001b[1;33m.\u001b[0m\u001b[0m_get_value\u001b[0m\u001b[1;33m(\u001b[0m\u001b[1;33m*\u001b[0m\u001b[0mkey\u001b[0m\u001b[1;33m,\u001b[0m \u001b[0mtakeable\u001b[0m\u001b[1;33m=\u001b[0m\u001b[0mself\u001b[0m\u001b[1;33m.\u001b[0m\u001b[0m_takeable\u001b[0m\u001b[1;33m)\u001b[0m\u001b[1;33m\u001b[0m\u001b[1;33m\u001b[0m\u001b[0m\n\u001b[1;32m--> 889\u001b[1;33m             \u001b[1;32mreturn\u001b[0m \u001b[0mself\u001b[0m\u001b[1;33m.\u001b[0m\u001b[0m_getitem_tuple\u001b[0m\u001b[1;33m(\u001b[0m\u001b[0mkey\u001b[0m\u001b[1;33m)\u001b[0m\u001b[1;33m\u001b[0m\u001b[1;33m\u001b[0m\u001b[0m\n\u001b[0m\u001b[0;32m    890\u001b[0m         \u001b[1;32melse\u001b[0m\u001b[1;33m:\u001b[0m\u001b[1;33m\u001b[0m\u001b[1;33m\u001b[0m\u001b[0m\n\u001b[0;32m    891\u001b[0m             \u001b[1;31m# we by definition only have the 0th axis\u001b[0m\u001b[1;33m\u001b[0m\u001b[1;33m\u001b[0m\u001b[1;33m\u001b[0m\u001b[0m\n",
      "\u001b[1;32m~\\anaconda3\\lib\\site-packages\\pandas\\core\\indexing.py\u001b[0m in \u001b[0;36m_getitem_tuple\u001b[1;34m(self, tup)\u001b[0m\n\u001b[0;32m   1058\u001b[0m     \u001b[1;32mdef\u001b[0m \u001b[0m_getitem_tuple\u001b[0m\u001b[1;33m(\u001b[0m\u001b[0mself\u001b[0m\u001b[1;33m,\u001b[0m \u001b[0mtup\u001b[0m\u001b[1;33m:\u001b[0m \u001b[0mTuple\u001b[0m\u001b[1;33m)\u001b[0m\u001b[1;33m:\u001b[0m\u001b[1;33m\u001b[0m\u001b[1;33m\u001b[0m\u001b[0m\n\u001b[0;32m   1059\u001b[0m         \u001b[1;32mwith\u001b[0m \u001b[0msuppress\u001b[0m\u001b[1;33m(\u001b[0m\u001b[0mIndexingError\u001b[0m\u001b[1;33m)\u001b[0m\u001b[1;33m:\u001b[0m\u001b[1;33m\u001b[0m\u001b[1;33m\u001b[0m\u001b[0m\n\u001b[1;32m-> 1060\u001b[1;33m             \u001b[1;32mreturn\u001b[0m \u001b[0mself\u001b[0m\u001b[1;33m.\u001b[0m\u001b[0m_getitem_lowerdim\u001b[0m\u001b[1;33m(\u001b[0m\u001b[0mtup\u001b[0m\u001b[1;33m)\u001b[0m\u001b[1;33m\u001b[0m\u001b[1;33m\u001b[0m\u001b[0m\n\u001b[0m\u001b[0;32m   1061\u001b[0m \u001b[1;33m\u001b[0m\u001b[0m\n\u001b[0;32m   1062\u001b[0m         \u001b[1;31m# no multi-index, so validate all of the indexers\u001b[0m\u001b[1;33m\u001b[0m\u001b[1;33m\u001b[0m\u001b[1;33m\u001b[0m\u001b[0m\n",
      "\u001b[1;32m~\\anaconda3\\lib\\site-packages\\pandas\\core\\indexing.py\u001b[0m in \u001b[0;36m_getitem_lowerdim\u001b[1;34m(self, tup)\u001b[0m\n\u001b[0;32m    829\u001b[0m                     \u001b[1;32mreturn\u001b[0m \u001b[0msection\u001b[0m\u001b[1;33m\u001b[0m\u001b[1;33m\u001b[0m\u001b[0m\n\u001b[0;32m    830\u001b[0m                 \u001b[1;31m# This is an elided recursive call to iloc/loc\u001b[0m\u001b[1;33m\u001b[0m\u001b[1;33m\u001b[0m\u001b[1;33m\u001b[0m\u001b[0m\n\u001b[1;32m--> 831\u001b[1;33m                 \u001b[1;32mreturn\u001b[0m \u001b[0mgetattr\u001b[0m\u001b[1;33m(\u001b[0m\u001b[0msection\u001b[0m\u001b[1;33m,\u001b[0m \u001b[0mself\u001b[0m\u001b[1;33m.\u001b[0m\u001b[0mname\u001b[0m\u001b[1;33m)\u001b[0m\u001b[1;33m[\u001b[0m\u001b[0mnew_key\u001b[0m\u001b[1;33m]\u001b[0m\u001b[1;33m\u001b[0m\u001b[1;33m\u001b[0m\u001b[0m\n\u001b[0m\u001b[0;32m    832\u001b[0m \u001b[1;33m\u001b[0m\u001b[0m\n\u001b[0;32m    833\u001b[0m         \u001b[1;32mraise\u001b[0m \u001b[0mIndexingError\u001b[0m\u001b[1;33m(\u001b[0m\u001b[1;34m\"not applicable\"\u001b[0m\u001b[1;33m)\u001b[0m\u001b[1;33m\u001b[0m\u001b[1;33m\u001b[0m\u001b[0m\n",
      "\u001b[1;32m~\\anaconda3\\lib\\site-packages\\pandas\\core\\indexing.py\u001b[0m in \u001b[0;36m__getitem__\u001b[1;34m(self, key)\u001b[0m\n\u001b[0;32m    893\u001b[0m \u001b[1;33m\u001b[0m\u001b[0m\n\u001b[0;32m    894\u001b[0m             \u001b[0mmaybe_callable\u001b[0m \u001b[1;33m=\u001b[0m \u001b[0mcom\u001b[0m\u001b[1;33m.\u001b[0m\u001b[0mapply_if_callable\u001b[0m\u001b[1;33m(\u001b[0m\u001b[0mkey\u001b[0m\u001b[1;33m,\u001b[0m \u001b[0mself\u001b[0m\u001b[1;33m.\u001b[0m\u001b[0mobj\u001b[0m\u001b[1;33m)\u001b[0m\u001b[1;33m\u001b[0m\u001b[1;33m\u001b[0m\u001b[0m\n\u001b[1;32m--> 895\u001b[1;33m             \u001b[1;32mreturn\u001b[0m \u001b[0mself\u001b[0m\u001b[1;33m.\u001b[0m\u001b[0m_getitem_axis\u001b[0m\u001b[1;33m(\u001b[0m\u001b[0mmaybe_callable\u001b[0m\u001b[1;33m,\u001b[0m \u001b[0maxis\u001b[0m\u001b[1;33m=\u001b[0m\u001b[0maxis\u001b[0m\u001b[1;33m)\u001b[0m\u001b[1;33m\u001b[0m\u001b[1;33m\u001b[0m\u001b[0m\n\u001b[0m\u001b[0;32m    896\u001b[0m \u001b[1;33m\u001b[0m\u001b[0m\n\u001b[0;32m    897\u001b[0m     \u001b[1;32mdef\u001b[0m \u001b[0m_is_scalar_access\u001b[0m\u001b[1;33m(\u001b[0m\u001b[0mself\u001b[0m\u001b[1;33m,\u001b[0m \u001b[0mkey\u001b[0m\u001b[1;33m:\u001b[0m \u001b[0mTuple\u001b[0m\u001b[1;33m)\u001b[0m\u001b[1;33m:\u001b[0m\u001b[1;33m\u001b[0m\u001b[1;33m\u001b[0m\u001b[0m\n",
      "\u001b[1;32m~\\anaconda3\\lib\\site-packages\\pandas\\core\\indexing.py\u001b[0m in \u001b[0;36m_getitem_axis\u001b[1;34m(self, key, axis)\u001b[0m\n\u001b[0;32m   1111\u001b[0m                     \u001b[1;32mraise\u001b[0m \u001b[0mValueError\u001b[0m\u001b[1;33m(\u001b[0m\u001b[1;34m\"Cannot index with multidimensional key\"\u001b[0m\u001b[1;33m)\u001b[0m\u001b[1;33m\u001b[0m\u001b[1;33m\u001b[0m\u001b[0m\n\u001b[0;32m   1112\u001b[0m \u001b[1;33m\u001b[0m\u001b[0m\n\u001b[1;32m-> 1113\u001b[1;33m                 \u001b[1;32mreturn\u001b[0m \u001b[0mself\u001b[0m\u001b[1;33m.\u001b[0m\u001b[0m_getitem_iterable\u001b[0m\u001b[1;33m(\u001b[0m\u001b[0mkey\u001b[0m\u001b[1;33m,\u001b[0m \u001b[0maxis\u001b[0m\u001b[1;33m=\u001b[0m\u001b[0maxis\u001b[0m\u001b[1;33m)\u001b[0m\u001b[1;33m\u001b[0m\u001b[1;33m\u001b[0m\u001b[0m\n\u001b[0m\u001b[0;32m   1114\u001b[0m \u001b[1;33m\u001b[0m\u001b[0m\n\u001b[0;32m   1115\u001b[0m             \u001b[1;31m# nested tuple slicing\u001b[0m\u001b[1;33m\u001b[0m\u001b[1;33m\u001b[0m\u001b[1;33m\u001b[0m\u001b[0m\n",
      "\u001b[1;32m~\\anaconda3\\lib\\site-packages\\pandas\\core\\indexing.py\u001b[0m in \u001b[0;36m_getitem_iterable\u001b[1;34m(self, key, axis)\u001b[0m\n\u001b[0;32m   1051\u001b[0m \u001b[1;33m\u001b[0m\u001b[0m\n\u001b[0;32m   1052\u001b[0m         \u001b[1;31m# A collection of keys\u001b[0m\u001b[1;33m\u001b[0m\u001b[1;33m\u001b[0m\u001b[1;33m\u001b[0m\u001b[0m\n\u001b[1;32m-> 1053\u001b[1;33m         \u001b[0mkeyarr\u001b[0m\u001b[1;33m,\u001b[0m \u001b[0mindexer\u001b[0m \u001b[1;33m=\u001b[0m \u001b[0mself\u001b[0m\u001b[1;33m.\u001b[0m\u001b[0m_get_listlike_indexer\u001b[0m\u001b[1;33m(\u001b[0m\u001b[0mkey\u001b[0m\u001b[1;33m,\u001b[0m \u001b[0maxis\u001b[0m\u001b[1;33m,\u001b[0m \u001b[0mraise_missing\u001b[0m\u001b[1;33m=\u001b[0m\u001b[1;32mFalse\u001b[0m\u001b[1;33m)\u001b[0m\u001b[1;33m\u001b[0m\u001b[1;33m\u001b[0m\u001b[0m\n\u001b[0m\u001b[0;32m   1054\u001b[0m         return self.obj._reindex_with_indexers(\n\u001b[0;32m   1055\u001b[0m             \u001b[1;33m{\u001b[0m\u001b[0maxis\u001b[0m\u001b[1;33m:\u001b[0m \u001b[1;33m[\u001b[0m\u001b[0mkeyarr\u001b[0m\u001b[1;33m,\u001b[0m \u001b[0mindexer\u001b[0m\u001b[1;33m]\u001b[0m\u001b[1;33m}\u001b[0m\u001b[1;33m,\u001b[0m \u001b[0mcopy\u001b[0m\u001b[1;33m=\u001b[0m\u001b[1;32mTrue\u001b[0m\u001b[1;33m,\u001b[0m \u001b[0mallow_dups\u001b[0m\u001b[1;33m=\u001b[0m\u001b[1;32mTrue\u001b[0m\u001b[1;33m\u001b[0m\u001b[1;33m\u001b[0m\u001b[0m\n",
      "\u001b[1;32m~\\anaconda3\\lib\\site-packages\\pandas\\core\\indexing.py\u001b[0m in \u001b[0;36m_get_listlike_indexer\u001b[1;34m(self, key, axis, raise_missing)\u001b[0m\n\u001b[0;32m   1264\u001b[0m             \u001b[0mkeyarr\u001b[0m\u001b[1;33m,\u001b[0m \u001b[0mindexer\u001b[0m\u001b[1;33m,\u001b[0m \u001b[0mnew_indexer\u001b[0m \u001b[1;33m=\u001b[0m \u001b[0max\u001b[0m\u001b[1;33m.\u001b[0m\u001b[0m_reindex_non_unique\u001b[0m\u001b[1;33m(\u001b[0m\u001b[0mkeyarr\u001b[0m\u001b[1;33m)\u001b[0m\u001b[1;33m\u001b[0m\u001b[1;33m\u001b[0m\u001b[0m\n\u001b[0;32m   1265\u001b[0m \u001b[1;33m\u001b[0m\u001b[0m\n\u001b[1;32m-> 1266\u001b[1;33m         \u001b[0mself\u001b[0m\u001b[1;33m.\u001b[0m\u001b[0m_validate_read_indexer\u001b[0m\u001b[1;33m(\u001b[0m\u001b[0mkeyarr\u001b[0m\u001b[1;33m,\u001b[0m \u001b[0mindexer\u001b[0m\u001b[1;33m,\u001b[0m \u001b[0maxis\u001b[0m\u001b[1;33m,\u001b[0m \u001b[0mraise_missing\u001b[0m\u001b[1;33m=\u001b[0m\u001b[0mraise_missing\u001b[0m\u001b[1;33m)\u001b[0m\u001b[1;33m\u001b[0m\u001b[1;33m\u001b[0m\u001b[0m\n\u001b[0m\u001b[0;32m   1267\u001b[0m         \u001b[1;32mreturn\u001b[0m \u001b[0mkeyarr\u001b[0m\u001b[1;33m,\u001b[0m \u001b[0mindexer\u001b[0m\u001b[1;33m\u001b[0m\u001b[1;33m\u001b[0m\u001b[0m\n\u001b[0;32m   1268\u001b[0m \u001b[1;33m\u001b[0m\u001b[0m\n",
      "\u001b[1;32m~\\anaconda3\\lib\\site-packages\\pandas\\core\\indexing.py\u001b[0m in \u001b[0;36m_validate_read_indexer\u001b[1;34m(self, key, indexer, axis, raise_missing)\u001b[0m\n\u001b[0;32m   1319\u001b[0m \u001b[1;33m\u001b[0m\u001b[0m\n\u001b[0;32m   1320\u001b[0m             \u001b[1;32mwith\u001b[0m \u001b[0moption_context\u001b[0m\u001b[1;33m(\u001b[0m\u001b[1;34m\"display.max_seq_items\"\u001b[0m\u001b[1;33m,\u001b[0m \u001b[1;36m10\u001b[0m\u001b[1;33m,\u001b[0m \u001b[1;34m\"display.width\"\u001b[0m\u001b[1;33m,\u001b[0m \u001b[1;36m80\u001b[0m\u001b[1;33m)\u001b[0m\u001b[1;33m:\u001b[0m\u001b[1;33m\u001b[0m\u001b[1;33m\u001b[0m\u001b[0m\n\u001b[1;32m-> 1321\u001b[1;33m                 raise KeyError(\n\u001b[0m\u001b[0;32m   1322\u001b[0m                     \u001b[1;34m\"Passing list-likes to .loc or [] with any missing labels \"\u001b[0m\u001b[1;33m\u001b[0m\u001b[1;33m\u001b[0m\u001b[0m\n\u001b[0;32m   1323\u001b[0m                     \u001b[1;34m\"is no longer supported. \"\u001b[0m\u001b[1;33m\u001b[0m\u001b[1;33m\u001b[0m\u001b[0m\n",
      "\u001b[1;31mKeyError\u001b[0m: \"Passing list-likes to .loc or [] with any missing labels is no longer supported. The following labels were missing: Int64Index([2239664255, 2650023533], dtype='int64', name='StudentID'). See https://pandas.pydata.org/pandas-docs/stable/user_guide/indexing.html#deprecate-loc-reindex-listlike\""
     ]
    }
   ],
   "source": [
    "demo.loc[idxs_missing_student_ids,'LocalStudentID']"
   ]
  },
  {
   "cell_type": "code",
   "execution_count": 157,
   "id": "239437bc",
   "metadata": {},
   "outputs": [],
   "source": [
    "idxs_missing_student_ids = idxs_missing_student_ids.drop([2239664255,2650023533])"
   ]
  },
  {
   "cell_type": "markdown",
   "id": "4b24e2d0",
   "metadata": {},
   "source": [
    "2239664255, 2650023533 indexes that we caught.\n"
   ]
  },
  {
   "cell_type": "code",
   "execution_count": 166,
   "id": "dc703ac0",
   "metadata": {},
   "outputs": [],
   "source": [
    "localstudentids = demo.loc[idxs_missing_student_ids, 'LocalStudentID']"
   ]
  },
  {
   "cell_type": "code",
   "execution_count": 176,
   "id": "cb1d2eb5",
   "metadata": {},
   "outputs": [
    {
     "data": {
      "text/plain": [
       "StudentID\n",
       "4716164342    10004\n",
       "3506382949    10005\n",
       "8574797805    10006\n",
       "3701316756    10007\n",
       "6214190681    10008\n",
       "              ...  \n",
       "4927244715    10307\n",
       "3569491602    10308\n",
       "6808742534    10309\n",
       "5759461002    10310\n",
       "1303857013    10311\n",
       "Name: LocalStudentID, Length: 279, dtype: int64"
      ]
     },
     "execution_count": 176,
     "metadata": {},
     "output_type": "execute_result"
    }
   ],
   "source": [
    "localstudentids"
   ]
  },
  {
   "cell_type": "code",
   "execution_count": 162,
   "id": "b0b3a50d",
   "metadata": {},
   "outputs": [],
   "source": [
    "scores.reset_index(inplace = True)"
   ]
  },
  {
   "cell_type": "code",
   "execution_count": 164,
   "id": "e51bc00c",
   "metadata": {},
   "outputs": [],
   "source": [
    "scores.set_index('USI', inplace = True)"
   ]
  },
  {
   "cell_type": "code",
   "execution_count": 174,
   "id": "90c2abf3",
   "metadata": {},
   "outputs": [
    {
     "data": {
      "text/plain": [
       "Int64Index([4716164342, 3506382949, 8574797805, 3701316756, 6214190681,\n",
       "            7375670549, 5698036464, 4773697868, 1357555472, 4785762524,\n",
       "            ...\n",
       "            7456423463, 1194235087, 2725957932, 9152686266, 9059353048,\n",
       "            4927244715, 3569491602, 6808742534, 5759461002, 1303857013],\n",
       "           dtype='int64', name='StudentID', length=279)"
      ]
     },
     "execution_count": 174,
     "metadata": {},
     "output_type": "execute_result"
    }
   ],
   "source": [
    "idxs_missing_student_ids"
   ]
  },
  {
   "cell_type": "code",
   "execution_count": 177,
   "id": "0b358b94",
   "metadata": {},
   "outputs": [],
   "source": [
    "scores.loc[idxs_missing_student_ids, 'StudentID'] = localstudentids"
   ]
  },
  {
   "cell_type": "code",
   "execution_count": 190,
   "id": "3f2e1673",
   "metadata": {},
   "outputs": [],
   "source": [
    "df_combined = pd.concat([scores, demo], axis = 1)"
   ]
  },
  {
   "cell_type": "code",
   "execution_count": 216,
   "id": "003de822",
   "metadata": {},
   "outputs": [
    {
     "data": {
      "text/plain": [
       "StudentID                         3\n",
       "Season Year                       3\n",
       "Test Date                         3\n",
       "Mathematics Score                 3\n",
       "Mathematics Met Growth Target    13\n",
       "Reading Score                     4\n",
       "Reading Met Growth Target        13\n",
       "LocalStudentID                    2\n",
       "Name                              2\n",
       "Sex                               2\n",
       "CurrentGradeLevel                 2\n",
       "RaceEthnicity                     2\n",
       "IEP                               2\n",
       "AtRisk                            2\n",
       "LastName                          2\n",
       "FirstName                         2\n",
       "dtype: int64"
      ]
     },
     "execution_count": 216,
     "metadata": {},
     "output_type": "execute_result"
    }
   ],
   "source": [
    "df_combined.isna().sum()"
   ]
  },
  {
   "cell_type": "code",
   "execution_count": 395,
   "id": "9deb8470",
   "metadata": {},
   "outputs": [],
   "source": [
    "correct_usi_vals = []\n",
    "for val in usi_vals:\n",
    "    correct_usi_vals.append(demo[demo['USI'].astype('str').str.contains(val)]['USI'])"
   ]
  },
  {
   "cell_type": "code",
   "execution_count": 436,
   "id": "2a209d66",
   "metadata": {},
   "outputs": [
    {
     "data": {
      "text/plain": [
       "3441934847"
      ]
     },
     "execution_count": 436,
     "metadata": {},
     "output_type": "execute_result"
    }
   ],
   "source": [
    "scores['USI'].replace(wrong.values, correct_usi_vals[0])[145]"
   ]
  },
  {
   "cell_type": "code",
   "execution_count": 359,
   "id": "f2b3b7d0",
   "metadata": {},
   "outputs": [
    {
     "ename": "TypeError",
     "evalue": "'StringMethods' object is not callable",
     "output_type": "error",
     "traceback": [
      "\u001b[1;31m---------------------------------------------------------------------------\u001b[0m",
      "\u001b[1;31mTypeError\u001b[0m                                 Traceback (most recent call last)",
      "\u001b[1;32m<ipython-input-359-f5640a6c1ab0>\u001b[0m in \u001b[0;36m<module>\u001b[1;34m\u001b[0m\n\u001b[1;32m----> 1\u001b[1;33m \u001b[0mscores\u001b[0m\u001b[1;33m[\u001b[0m\u001b[1;34m'Season Year'\u001b[0m\u001b[1;33m]\u001b[0m\u001b[1;33m.\u001b[0m\u001b[0mstr\u001b[0m\u001b[1;33m(\u001b[0m\u001b[1;33m)\u001b[0m\u001b[1;33m\u001b[0m\u001b[1;33m\u001b[0m\u001b[0m\n\u001b[0m",
      "\u001b[1;31mTypeError\u001b[0m: 'StringMethods' object is not callable"
     ]
    }
   ],
   "source": [
    "scores['Season Year'].str."
   ]
  },
  {
   "cell_type": "code",
   "execution_count": 278,
   "id": "84deb2bd",
   "metadata": {},
   "outputs": [
    {
     "data": {
      "text/plain": [
       "array(['2020-09-15T00:00:00.000000000'], dtype='datetime64[ns]')"
      ]
     },
     "execution_count": 278,
     "metadata": {},
     "output_type": "execute_result"
    }
   ],
   "source": [
    "scores['Test Date'].unique()"
   ]
  },
  {
   "cell_type": "code",
   "execution_count": 284,
   "id": "f1fc8238",
   "metadata": {},
   "outputs": [
    {
     "data": {
      "image/png": "[encoded data removed]",
      "text/plain": [
       "<Figure size 432x288 with 1 Axes>"
      ]
     },
     "metadata": {
      "needs_background": "light"
     },
     "output_type": "display_data"
    }
   ],
   "source": [
    "scores['Mathematics Score'].plot(kind = 'hist');"
   ]
  },
  {
   "cell_type": "code",
   "execution_count": 287,
   "id": "7248de7d",
   "metadata": {},
   "outputs": [
    {
     "data": {
      "text/html": [
       "<div>\n",
       "<style scoped>\n",
       "    .dataframe tbody tr th:only-of-type {\n",
       "        vertical-align: middle;\n",
       "    }\n",
       "\n",
       "    .dataframe tbody tr th {\n",
       "        vertical-align: top;\n",
       "    }\n",
       "\n",
       "    .dataframe thead th {\n",
       "        text-align: right;\n",
       "    }\n",
       "</style>\n",
       "<table border=\"1\" class=\"dataframe\">\n",
       "  <thead>\n",
       "    <tr style=\"text-align: right;\">\n",
       "      <th></th>\n",
       "      <th>Season Year</th>\n",
       "      <th>Test Date</th>\n",
       "      <th>Mathematics Score</th>\n",
       "      <th>Mathematics Met Growth Target</th>\n",
       "      <th>Reading Score</th>\n",
       "      <th>Reading Met Growth Target</th>\n",
       "      <th>USI</th>\n",
       "    </tr>\n",
       "    <tr>\n",
       "      <th>StudentID</th>\n",
       "      <th></th>\n",
       "      <th></th>\n",
       "      <th></th>\n",
       "      <th></th>\n",
       "      <th></th>\n",
       "      <th></th>\n",
       "      <th></th>\n",
       "    </tr>\n",
       "  </thead>\n",
       "  <tbody>\n",
       "    <tr>\n",
       "      <th>10407</th>\n",
       "      <td>Fall 2020-2021</td>\n",
       "      <td>2020-09-15</td>\n",
       "      <td>272</td>\n",
       "      <td>NaN</td>\n",
       "      <td>445.0</td>\n",
       "      <td>NaN</td>\n",
       "      <td>9.030074e+09</td>\n",
       "    </tr>\n",
       "    <tr>\n",
       "      <th>3506382949</th>\n",
       "      <td>Fall 2020-2021</td>\n",
       "      <td>2020-09-15</td>\n",
       "      <td>223</td>\n",
       "      <td>NaN</td>\n",
       "      <td>248.0</td>\n",
       "      <td>NaN</td>\n",
       "      <td>3.506383e+09</td>\n",
       "    </tr>\n",
       "    <tr>\n",
       "      <th>6679990758</th>\n",
       "      <td>Fall 2020-2021</td>\n",
       "      <td>2020-09-15</td>\n",
       "      <td>357</td>\n",
       "      <td>NaN</td>\n",
       "      <td>200.0</td>\n",
       "      <td>NaN</td>\n",
       "      <td>6.679991e+09</td>\n",
       "    </tr>\n",
       "    <tr>\n",
       "      <th>6142174436</th>\n",
       "      <td>Fall 2020-2021</td>\n",
       "      <td>2020-09-15</td>\n",
       "      <td>315</td>\n",
       "      <td>NaN</td>\n",
       "      <td>500.0</td>\n",
       "      <td>NaN</td>\n",
       "      <td>6.142174e+09</td>\n",
       "    </tr>\n",
       "    <tr>\n",
       "      <th>6085272817</th>\n",
       "      <td>Fall 2020-2021</td>\n",
       "      <td>2020-09-15</td>\n",
       "      <td>425</td>\n",
       "      <td>NaN</td>\n",
       "      <td>468.0</td>\n",
       "      <td>NaN</td>\n",
       "      <td>6.085273e+09</td>\n",
       "    </tr>\n",
       "    <tr>\n",
       "      <th>7829932197</th>\n",
       "      <td>Fall 2020-2021</td>\n",
       "      <td>2020-09-15</td>\n",
       "      <td>498</td>\n",
       "      <td>NaN</td>\n",
       "      <td>344.0</td>\n",
       "      <td>NaN</td>\n",
       "      <td>7.829932e+09</td>\n",
       "    </tr>\n",
       "    <tr>\n",
       "      <th>4248438018</th>\n",
       "      <td>Fall 2020-2021</td>\n",
       "      <td>2020-09-15</td>\n",
       "      <td>337</td>\n",
       "      <td>NaN</td>\n",
       "      <td>394.0</td>\n",
       "      <td>NaN</td>\n",
       "      <td>4.248438e+09</td>\n",
       "    </tr>\n",
       "    <tr>\n",
       "      <th>4099542503</th>\n",
       "      <td>Fall 2020-2021</td>\n",
       "      <td>2020-09-15</td>\n",
       "      <td>417</td>\n",
       "      <td>NaN</td>\n",
       "      <td>448.0</td>\n",
       "      <td>NaN</td>\n",
       "      <td>4.099543e+09</td>\n",
       "    </tr>\n",
       "    <tr>\n",
       "      <th>8526377642</th>\n",
       "      <td>Fall 2020-2021</td>\n",
       "      <td>2020-09-15</td>\n",
       "      <td>492</td>\n",
       "      <td>NaN</td>\n",
       "      <td>277.0</td>\n",
       "      <td>NaN</td>\n",
       "      <td>8.526378e+09</td>\n",
       "    </tr>\n",
       "    <tr>\n",
       "      <th>9842926123</th>\n",
       "      <td>Fall 2020-2021</td>\n",
       "      <td>2020-09-15</td>\n",
       "      <td>280</td>\n",
       "      <td>NaN</td>\n",
       "      <td>266.0</td>\n",
       "      <td>NaN</td>\n",
       "      <td>9.842926e+09</td>\n",
       "    </tr>\n",
       "  </tbody>\n",
       "</table>\n",
       "</div>"
      ],
      "text/plain": [
       "               Season Year  Test Date  Mathematics Score  \\\n",
       "StudentID                                                  \n",
       "10407       Fall 2020-2021 2020-09-15                272   \n",
       "3506382949  Fall 2020-2021 2020-09-15                223   \n",
       "6679990758  Fall 2020-2021 2020-09-15                357   \n",
       "6142174436  Fall 2020-2021 2020-09-15                315   \n",
       "6085272817  Fall 2020-2021 2020-09-15                425   \n",
       "7829932197  Fall 2020-2021 2020-09-15                498   \n",
       "4248438018  Fall 2020-2021 2020-09-15                337   \n",
       "4099542503  Fall 2020-2021 2020-09-15                417   \n",
       "8526377642  Fall 2020-2021 2020-09-15                492   \n",
       "9842926123  Fall 2020-2021 2020-09-15                280   \n",
       "\n",
       "           Mathematics Met Growth Target  Reading Score  \\\n",
       "StudentID                                                 \n",
       "10407                                NaN          445.0   \n",
       "3506382949                           NaN          248.0   \n",
       "6679990758                           NaN          200.0   \n",
       "6142174436                           NaN          500.0   \n",
       "6085272817                           NaN          468.0   \n",
       "7829932197                           NaN          344.0   \n",
       "4248438018                           NaN          394.0   \n",
       "4099542503                           NaN          448.0   \n",
       "8526377642                           NaN          277.0   \n",
       "9842926123                           NaN          266.0   \n",
       "\n",
       "           Reading Met Growth Target           USI  \n",
       "StudentID                                           \n",
       "10407                            NaN  9.030074e+09  \n",
       "3506382949                       NaN  3.506383e+09  \n",
       "6679990758                       NaN  6.679991e+09  \n",
       "6142174436                       NaN  6.142174e+09  \n",
       "6085272817                       NaN  6.085273e+09  \n",
       "7829932197                       NaN  7.829932e+09  \n",
       "4248438018                       NaN  4.248438e+09  \n",
       "4099542503                       NaN  4.099543e+09  \n",
       "8526377642                       NaN  8.526378e+09  \n",
       "9842926123                       NaN  9.842926e+09  "
      ]
     },
     "execution_count": 287,
     "metadata": {},
     "output_type": "execute_result"
    }
   ],
   "source": [
    "#let's take a look at the null values in this value\n",
    "scores[scores['Mathematics Met Growth Target'].isna()]"
   ]
  },
  {
   "cell_type": "code",
   "execution_count": 257,
   "id": "ab721deb",
   "metadata": {},
   "outputs": [],
   "source": [
    "scores.reset_index(inplace = True)"
   ]
  },
  {
   "cell_type": "code",
   "execution_count": 258,
   "id": "c164a150",
   "metadata": {},
   "outputs": [],
   "source": [
    "#scores.reset_index(inplace = True)\n",
    "scores.drop_duplicates(subset = ['StudentID'], inplace = True)"
   ]
  },
  {
   "cell_type": "code",
   "execution_count": 259,
   "id": "aa43a787",
   "metadata": {},
   "outputs": [],
   "source": [
    "scores.set_index('StudentID', inplace = True)"
   ]
  },
  {
   "cell_type": "code",
   "execution_count": 224,
   "id": "cd41003d",
   "metadata": {},
   "outputs": [],
   "source": [
    "scores.loc[indexes_to_correct_id,'USI'] = scores.loc[indexes_to_correct_id, 'StudentID']"
   ]
  },
  {
   "cell_type": "code",
   "execution_count": 222,
   "id": "44f8421c",
   "metadata": {},
   "outputs": [
    {
     "data": {
      "text/plain": [
       "RangeIndex(start=0, stop=426, step=1)"
      ]
     },
     "execution_count": 222,
     "metadata": {},
     "output_type": "execute_result"
    }
   ],
   "source": [
    "scores.index()"
   ]
  },
  {
   "cell_type": "code",
   "execution_count": 229,
   "id": "bdb9f2b6",
   "metadata": {},
   "outputs": [
    {
     "ename": "KeyError",
     "evalue": "\"None of ['LocalStudentID'] are in the columns\"",
     "output_type": "error",
     "traceback": [
      "\u001b[1;31m---------------------------------------------------------------------------\u001b[0m",
      "\u001b[1;31mKeyError\u001b[0m                                  Traceback (most recent call last)",
      "\u001b[1;32m<ipython-input-229-82967c432f4c>\u001b[0m in \u001b[0;36m<module>\u001b[1;34m\u001b[0m\n\u001b[1;32m----> 1\u001b[1;33m \u001b[0mdemo\u001b[0m\u001b[1;33m.\u001b[0m\u001b[0mset_index\u001b[0m\u001b[1;33m(\u001b[0m\u001b[1;34m'LocalStudentID'\u001b[0m\u001b[1;33m,\u001b[0m \u001b[0minplace\u001b[0m \u001b[1;33m=\u001b[0m\u001b[1;32mTrue\u001b[0m\u001b[1;33m)\u001b[0m\u001b[1;33m\u001b[0m\u001b[1;33m\u001b[0m\u001b[0m\n\u001b[0m",
      "\u001b[1;32m~\\anaconda3\\lib\\site-packages\\pandas\\core\\frame.py\u001b[0m in \u001b[0;36mset_index\u001b[1;34m(self, keys, drop, append, inplace, verify_integrity)\u001b[0m\n\u001b[0;32m   4725\u001b[0m \u001b[1;33m\u001b[0m\u001b[0m\n\u001b[0;32m   4726\u001b[0m         \u001b[1;32mif\u001b[0m \u001b[0mmissing\u001b[0m\u001b[1;33m:\u001b[0m\u001b[1;33m\u001b[0m\u001b[1;33m\u001b[0m\u001b[0m\n\u001b[1;32m-> 4727\u001b[1;33m             \u001b[1;32mraise\u001b[0m \u001b[0mKeyError\u001b[0m\u001b[1;33m(\u001b[0m\u001b[1;34mf\"None of {missing} are in the columns\"\u001b[0m\u001b[1;33m)\u001b[0m\u001b[1;33m\u001b[0m\u001b[1;33m\u001b[0m\u001b[0m\n\u001b[0m\u001b[0;32m   4728\u001b[0m \u001b[1;33m\u001b[0m\u001b[0m\n\u001b[0;32m   4729\u001b[0m         \u001b[1;32mif\u001b[0m \u001b[0minplace\u001b[0m\u001b[1;33m:\u001b[0m\u001b[1;33m\u001b[0m\u001b[1;33m\u001b[0m\u001b[0m\n",
      "\u001b[1;31mKeyError\u001b[0m: \"None of ['LocalStudentID'] are in the columns\""
     ]
    }
   ],
   "source": [
    "demo.set_index('LocalStudentID', inplace =True)"
   ]
  },
  {
   "cell_type": "code",
   "execution_count": 160,
   "id": "90cd0f1c",
   "metadata": {},
   "outputs": [],
   "source": [
    "index = scores['USI'].index[scores['USI'].apply(np.isnan)]"
   ]
  },
  {
   "cell_type": "code",
   "execution_count": 191,
   "id": "43c52b89",
   "metadata": {},
   "outputs": [
    {
     "data": {
      "text/plain": [
       "StudentID\n",
       "10313    4813781799\n",
       "10314    2382127099\n",
       "10315    5307030222\n",
       "10316    1047809469\n",
       "10317    6287524177\n",
       "            ...    \n",
       "10464    4750973818\n",
       "10464    4750973818\n",
       "10466    8930493455\n",
       "10467    4292757544\n",
       "10468    2768189192\n",
       "Name: USI, Length: 144, dtype: int64"
      ]
     },
     "execution_count": 191,
     "metadata": {},
     "output_type": "execute_result"
    }
   ],
   "source": [
    "demo.loc[index, 'USI']"
   ]
  },
  {
   "cell_type": "code",
   "execution_count": 250,
   "id": "2aec9539",
   "metadata": {},
   "outputs": [],
   "source": [
    "fill_usi = demo.loc[index, 'USI']"
   ]
  },
  {
   "cell_type": "code",
   "execution_count": 260,
   "id": "f3220255",
   "metadata": {},
   "outputs": [],
   "source": [
    "scores.loc[fill_usi.index, 'USI'] = fill_usi"
   ]
  },
  {
   "cell_type": "code",
   "execution_count": 262,
   "id": "4b2e8674",
   "metadata": {},
   "outputs": [
    {
     "data": {
      "text/plain": [
       "Season Year                       0\n",
       "Test Date                         0\n",
       "Mathematics Score                 0\n",
       "Mathematics Met Growth Target    10\n",
       "Reading Score                     1\n",
       "Reading Met Growth Target        10\n",
       "USI                               0\n",
       "dtype: int64"
      ]
     },
     "execution_count": 262,
     "metadata": {},
     "output_type": "execute_result"
    }
   ],
   "source": [
    "scores.isna().sum()"
   ]
  },
  {
   "cell_type": "code",
   "execution_count": 184,
   "id": "644e7749",
   "metadata": {},
   "outputs": [
    {
     "data": {
      "text/plain": [
       "Int64Index([10313, 10314, 10315, 10316, 10317, 10318, 10319, 10320, 10321,\n",
       "            10323,\n",
       "            ...\n",
       "            10461, 10462, 10463, 10464, 10464, 10464, 10464, 10466, 10467,\n",
       "            10468],\n",
       "           dtype='int64', name='StudentID', length=146)"
      ]
     },
     "execution_count": 184,
     "metadata": {},
     "output_type": "execute_result"
    }
   ],
   "source": [
    "scores.loc[index,'USI'].index"
   ]
  },
  {
   "cell_type": "code",
   "execution_count": 134,
   "id": "75e17b67",
   "metadata": {},
   "outputs": [
    {
     "data": {
      "text/plain": [
       "StudentID\n",
       "10313          True\n",
       "10314          True\n",
       "10315          True\n",
       "10316          True\n",
       "10317          True\n",
       "              ...  \n",
       "4927244715    False\n",
       "3569491602    False\n",
       "6808742534    False\n",
       "5759461002    False\n",
       "1303857013    False\n",
       "Name: USI, Length: 426, dtype: bool"
      ]
     },
     "execution_count": 134,
     "metadata": {},
     "output_type": "execute_result"
    }
   ],
   "source": [
    "scores['USI'].isna()"
   ]
  },
  {
   "cell_type": "code",
   "execution_count": 96,
   "id": "9672a361",
   "metadata": {},
   "outputs": [],
   "source": [
    "#def correctStudentId(df):\n",
    "    \n",
    "indexes_to_correct_id = scores[scores['StudentID'].astype('str').map(len) > 6].index"
   ]
  },
  {
   "cell_type": "code",
   "execution_count": 106,
   "id": "267711c3",
   "metadata": {},
   "outputs": [
    {
     "data": {
      "text/html": [
       "<div>\n",
       "<style scoped>\n",
       "    .dataframe tbody tr th:only-of-type {\n",
       "        vertical-align: middle;\n",
       "    }\n",
       "\n",
       "    .dataframe tbody tr th {\n",
       "        vertical-align: top;\n",
       "    }\n",
       "\n",
       "    .dataframe thead th {\n",
       "        text-align: right;\n",
       "    }\n",
       "</style>\n",
       "<table border=\"1\" class=\"dataframe\">\n",
       "  <thead>\n",
       "    <tr style=\"text-align: right;\">\n",
       "      <th></th>\n",
       "      <th>LocalStudentID</th>\n",
       "      <th>USI</th>\n",
       "      <th>Name</th>\n",
       "      <th>Sex</th>\n",
       "      <th>CurrentGradeLevel</th>\n",
       "      <th>RaceEthnicity</th>\n",
       "      <th>IEP</th>\n",
       "      <th>AtRisk</th>\n",
       "      <th>LastName</th>\n",
       "      <th>FirstName</th>\n",
       "    </tr>\n",
       "  </thead>\n",
       "  <tbody>\n",
       "    <tr>\n",
       "      <th>0</th>\n",
       "      <td>10001</td>\n",
       "      <td>2239664225</td>\n",
       "      <td>Palmer, Keke</td>\n",
       "      <td>F</td>\n",
       "      <td>6</td>\n",
       "      <td>Hispanic/Latino</td>\n",
       "      <td>No IEP</td>\n",
       "      <td>Not At-Risk</td>\n",
       "      <td>Palmer</td>\n",
       "      <td>Keke</td>\n",
       "    </tr>\n",
       "    <tr>\n",
       "      <th>1</th>\n",
       "      <td>10002</td>\n",
       "      <td>2650023531</td>\n",
       "      <td>Garson, Greer</td>\n",
       "      <td>F</td>\n",
       "      <td>6</td>\n",
       "      <td>White</td>\n",
       "      <td>No IEP</td>\n",
       "      <td>At-Risk</td>\n",
       "      <td>Garson</td>\n",
       "      <td>Greer</td>\n",
       "    </tr>\n",
       "    <tr>\n",
       "      <th>2</th>\n",
       "      <td>10003</td>\n",
       "      <td>3441934847</td>\n",
       "      <td>Fonda, Henry</td>\n",
       "      <td>M</td>\n",
       "      <td>6</td>\n",
       "      <td>White</td>\n",
       "      <td>IEP</td>\n",
       "      <td>At-Risk</td>\n",
       "      <td>Fonda</td>\n",
       "      <td>Henry</td>\n",
       "    </tr>\n",
       "    <tr>\n",
       "      <th>3</th>\n",
       "      <td>10004</td>\n",
       "      <td>4716164342</td>\n",
       "      <td>Garbo, Greta</td>\n",
       "      <td>F</td>\n",
       "      <td>6</td>\n",
       "      <td>White</td>\n",
       "      <td>No IEP</td>\n",
       "      <td>At-Risk</td>\n",
       "      <td>Garbo</td>\n",
       "      <td>Greta</td>\n",
       "    </tr>\n",
       "    <tr>\n",
       "      <th>4</th>\n",
       "      <td>10005</td>\n",
       "      <td>3506382949</td>\n",
       "      <td>Baker, Josephine</td>\n",
       "      <td>F</td>\n",
       "      <td>6</td>\n",
       "      <td>White</td>\n",
       "      <td>No IEP</td>\n",
       "      <td>Not At-Risk</td>\n",
       "      <td>Baker</td>\n",
       "      <td>Josephine</td>\n",
       "    </tr>\n",
       "    <tr>\n",
       "      <th>...</th>\n",
       "      <td>...</td>\n",
       "      <td>...</td>\n",
       "      <td>...</td>\n",
       "      <td>...</td>\n",
       "      <td>...</td>\n",
       "      <td>...</td>\n",
       "      <td>...</td>\n",
       "      <td>...</td>\n",
       "      <td>...</td>\n",
       "      <td>...</td>\n",
       "    </tr>\n",
       "    <tr>\n",
       "      <th>421</th>\n",
       "      <td>10464</td>\n",
       "      <td>4750973818</td>\n",
       "      <td>Watson, Emma</td>\n",
       "      <td>F</td>\n",
       "      <td>7</td>\n",
       "      <td>White</td>\n",
       "      <td>No IEP</td>\n",
       "      <td>At-Risk</td>\n",
       "      <td>Watson</td>\n",
       "      <td>Emma</td>\n",
       "    </tr>\n",
       "    <tr>\n",
       "      <th>422</th>\n",
       "      <td>10465</td>\n",
       "      <td>1447613002</td>\n",
       "      <td>Robbie, Margot</td>\n",
       "      <td>F</td>\n",
       "      <td>8</td>\n",
       "      <td>White</td>\n",
       "      <td>No IEP</td>\n",
       "      <td>Not At-Risk</td>\n",
       "      <td>Robbie</td>\n",
       "      <td>Margot</td>\n",
       "    </tr>\n",
       "    <tr>\n",
       "      <th>423</th>\n",
       "      <td>10466</td>\n",
       "      <td>8930493455</td>\n",
       "      <td>Woodley, Shailene</td>\n",
       "      <td>F</td>\n",
       "      <td>8</td>\n",
       "      <td>Black or African American</td>\n",
       "      <td>No IEP</td>\n",
       "      <td>At-Risk</td>\n",
       "      <td>Woodley</td>\n",
       "      <td>Shailene</td>\n",
       "    </tr>\n",
       "    <tr>\n",
       "      <th>424</th>\n",
       "      <td>10467</td>\n",
       "      <td>4292757544</td>\n",
       "      <td>Morgan, Vanessa</td>\n",
       "      <td>F</td>\n",
       "      <td>10</td>\n",
       "      <td>Black or African American</td>\n",
       "      <td>No IEP</td>\n",
       "      <td>Not At-Risk</td>\n",
       "      <td>Morgan</td>\n",
       "      <td>Vanessa</td>\n",
       "    </tr>\n",
       "    <tr>\n",
       "      <th>425</th>\n",
       "      <td>10468</td>\n",
       "      <td>2768189192</td>\n",
       "      <td>Lovato, Demi</td>\n",
       "      <td>F</td>\n",
       "      <td>8</td>\n",
       "      <td>Black or African American</td>\n",
       "      <td>No IEP</td>\n",
       "      <td>At-Risk</td>\n",
       "      <td>Lovato</td>\n",
       "      <td>Demi</td>\n",
       "    </tr>\n",
       "  </tbody>\n",
       "</table>\n",
       "<p>426 rows × 10 columns</p>\n",
       "</div>"
      ],
      "text/plain": [
       "     LocalStudentID         USI               Name Sex  CurrentGradeLevel  \\\n",
       "0             10001  2239664225       Palmer, Keke   F                  6   \n",
       "1             10002  2650023531      Garson, Greer   F                  6   \n",
       "2             10003  3441934847       Fonda, Henry   M                  6   \n",
       "3             10004  4716164342       Garbo, Greta   F                  6   \n",
       "4             10005  3506382949   Baker, Josephine   F                  6   \n",
       "..              ...         ...                ...  ..                ...   \n",
       "421           10464  4750973818       Watson, Emma   F                  7   \n",
       "422           10465  1447613002     Robbie, Margot   F                  8   \n",
       "423           10466  8930493455  Woodley, Shailene   F                  8   \n",
       "424           10467  4292757544    Morgan, Vanessa   F                 10   \n",
       "425           10468  2768189192       Lovato, Demi   F                  8   \n",
       "\n",
       "                 RaceEthnicity     IEP       AtRisk LastName  FirstName  \n",
       "0              Hispanic/Latino  No IEP  Not At-Risk   Palmer       Keke  \n",
       "1                        White  No IEP      At-Risk   Garson      Greer  \n",
       "2                        White     IEP      At-Risk    Fonda      Henry  \n",
       "3                        White  No IEP      At-Risk    Garbo      Greta  \n",
       "4                        White  No IEP  Not At-Risk    Baker  Josephine  \n",
       "..                         ...     ...          ...      ...        ...  \n",
       "421                      White  No IEP      At-Risk   Watson       Emma  \n",
       "422                      White  No IEP  Not At-Risk   Robbie     Margot  \n",
       "423  Black or African American  No IEP      At-Risk  Woodley   Shailene  \n",
       "424  Black or African American  No IEP  Not At-Risk   Morgan    Vanessa  \n",
       "425  Black or African American  No IEP      At-Risk   Lovato       Demi  \n",
       "\n",
       "[426 rows x 10 columns]"
      ]
     },
     "execution_count": 106,
     "metadata": {},
     "output_type": "execute_result"
    }
   ],
   "source": [
    "demo[]"
   ]
  },
  {
   "cell_type": "code",
   "execution_count": 104,
   "id": "7dd4c2fe",
   "metadata": {},
   "outputs": [
    {
     "data": {
      "text/plain": [
       "0               NaN\n",
       "1               NaN\n",
       "2               NaN\n",
       "3               NaN\n",
       "4               NaN\n",
       "           ...     \n",
       "421    4.927245e+09\n",
       "422    3.569492e+09\n",
       "423    6.808743e+09\n",
       "424    5.759461e+09\n",
       "425    1.303857e+09\n",
       "Name: USI, Length: 426, dtype: float64"
      ]
     },
     "execution_count": 104,
     "metadata": {},
     "output_type": "execute_result"
    }
   ],
   "source": [
    "scores['USI'].astype('int', errors = 'ignore')"
   ]
  },
  {
   "cell_type": "code",
   "execution_count": 78,
   "id": "4e30d7f3",
   "metadata": {},
   "outputs": [
    {
     "data": {
      "text/html": [
       "<div>\n",
       "<style scoped>\n",
       "    .dataframe tbody tr th:only-of-type {\n",
       "        vertical-align: middle;\n",
       "    }\n",
       "\n",
       "    .dataframe tbody tr th {\n",
       "        vertical-align: top;\n",
       "    }\n",
       "\n",
       "    .dataframe thead th {\n",
       "        text-align: right;\n",
       "    }\n",
       "</style>\n",
       "<table border=\"1\" class=\"dataframe\">\n",
       "  <thead>\n",
       "    <tr style=\"text-align: right;\">\n",
       "      <th></th>\n",
       "      <th>StudentID</th>\n",
       "      <th>Season Year</th>\n",
       "      <th>Test Date</th>\n",
       "      <th>Mathematics Score</th>\n",
       "      <th>Mathematics Met Growth Target</th>\n",
       "      <th>Reading Score</th>\n",
       "      <th>Reading Met Growth Target</th>\n",
       "    </tr>\n",
       "  </thead>\n",
       "  <tbody>\n",
       "    <tr>\n",
       "      <th>0</th>\n",
       "      <td>10313</td>\n",
       "      <td>Fall 2020-2021</td>\n",
       "      <td>2020-09-15</td>\n",
       "      <td>215</td>\n",
       "      <td>Yes</td>\n",
       "      <td>467.0</td>\n",
       "      <td>Yes</td>\n",
       "    </tr>\n",
       "    <tr>\n",
       "      <th>1</th>\n",
       "      <td>10314</td>\n",
       "      <td>Fall 2020-2021</td>\n",
       "      <td>2020-09-15</td>\n",
       "      <td>223</td>\n",
       "      <td>No</td>\n",
       "      <td>203.0</td>\n",
       "      <td>No</td>\n",
       "    </tr>\n",
       "    <tr>\n",
       "      <th>2</th>\n",
       "      <td>10315</td>\n",
       "      <td>Fall 2020-2021</td>\n",
       "      <td>2020-09-15</td>\n",
       "      <td>332</td>\n",
       "      <td>Yes*</td>\n",
       "      <td>280.0</td>\n",
       "      <td>Yes*</td>\n",
       "    </tr>\n",
       "    <tr>\n",
       "      <th>3</th>\n",
       "      <td>10316</td>\n",
       "      <td>Fall 2020-2021</td>\n",
       "      <td>2020-09-15</td>\n",
       "      <td>493</td>\n",
       "      <td>No*</td>\n",
       "      <td>339.0</td>\n",
       "      <td>No*</td>\n",
       "    </tr>\n",
       "    <tr>\n",
       "      <th>4</th>\n",
       "      <td>10317</td>\n",
       "      <td>Fall 2020-2021</td>\n",
       "      <td>2020-09-15</td>\n",
       "      <td>500</td>\n",
       "      <td>No*</td>\n",
       "      <td>208.0</td>\n",
       "      <td>No*</td>\n",
       "    </tr>\n",
       "    <tr>\n",
       "      <th>...</th>\n",
       "      <td>...</td>\n",
       "      <td>...</td>\n",
       "      <td>...</td>\n",
       "      <td>...</td>\n",
       "      <td>...</td>\n",
       "      <td>...</td>\n",
       "      <td>...</td>\n",
       "    </tr>\n",
       "    <tr>\n",
       "      <th>421</th>\n",
       "      <td>4927244715</td>\n",
       "      <td>Fall 2020-2021</td>\n",
       "      <td>2020-09-15</td>\n",
       "      <td>452</td>\n",
       "      <td>Yes*</td>\n",
       "      <td>343.0</td>\n",
       "      <td>Yes*</td>\n",
       "    </tr>\n",
       "    <tr>\n",
       "      <th>422</th>\n",
       "      <td>3569491602</td>\n",
       "      <td>Fall 2020-2021</td>\n",
       "      <td>2020-09-15</td>\n",
       "      <td>216</td>\n",
       "      <td>No*</td>\n",
       "      <td>459.0</td>\n",
       "      <td>No*</td>\n",
       "    </tr>\n",
       "    <tr>\n",
       "      <th>423</th>\n",
       "      <td>6808742534</td>\n",
       "      <td>Fall 2020-2021</td>\n",
       "      <td>2020-09-15</td>\n",
       "      <td>259</td>\n",
       "      <td>Yes</td>\n",
       "      <td>359.0</td>\n",
       "      <td>Yes</td>\n",
       "    </tr>\n",
       "    <tr>\n",
       "      <th>424</th>\n",
       "      <td>5759461002</td>\n",
       "      <td>Fall 2020-2021</td>\n",
       "      <td>2020-09-15</td>\n",
       "      <td>436</td>\n",
       "      <td>Yes</td>\n",
       "      <td>214.0</td>\n",
       "      <td>Yes</td>\n",
       "    </tr>\n",
       "    <tr>\n",
       "      <th>425</th>\n",
       "      <td>1303857013</td>\n",
       "      <td>Fall 2020-2021</td>\n",
       "      <td>2020-09-15</td>\n",
       "      <td>270</td>\n",
       "      <td>Yes</td>\n",
       "      <td>NaN</td>\n",
       "      <td>Yes</td>\n",
       "    </tr>\n",
       "  </tbody>\n",
       "</table>\n",
       "<p>426 rows × 7 columns</p>\n",
       "</div>"
      ],
      "text/plain": [
       "      StudentID     Season Year  Test Date  Mathematics Score  \\\n",
       "0         10313  Fall 2020-2021 2020-09-15                215   \n",
       "1         10314  Fall 2020-2021 2020-09-15                223   \n",
       "2         10315  Fall 2020-2021 2020-09-15                332   \n",
       "3         10316  Fall 2020-2021 2020-09-15                493   \n",
       "4         10317  Fall 2020-2021 2020-09-15                500   \n",
       "..          ...             ...        ...                ...   \n",
       "421  4927244715  Fall 2020-2021 2020-09-15                452   \n",
       "422  3569491602  Fall 2020-2021 2020-09-15                216   \n",
       "423  6808742534  Fall 2020-2021 2020-09-15                259   \n",
       "424  5759461002  Fall 2020-2021 2020-09-15                436   \n",
       "425  1303857013  Fall 2020-2021 2020-09-15                270   \n",
       "\n",
       "    Mathematics Met Growth Target  Reading Score Reading Met Growth Target  \n",
       "0                             Yes          467.0                       Yes  \n",
       "1                              No          203.0                        No  \n",
       "2                            Yes*          280.0                      Yes*  \n",
       "3                             No*          339.0                       No*  \n",
       "4                             No*          208.0                       No*  \n",
       "..                            ...            ...                       ...  \n",
       "421                          Yes*          343.0                      Yes*  \n",
       "422                           No*          459.0                       No*  \n",
       "423                           Yes          359.0                       Yes  \n",
       "424                           Yes          214.0                       Yes  \n",
       "425                           Yes            NaN                       Yes  \n",
       "\n",
       "[426 rows x 7 columns]"
      ]
     },
     "execution_count": 78,
     "metadata": {},
     "output_type": "execute_result"
    }
   ],
   "source": [
    "scores[scores['StudentID'] > 5]"
   ]
  },
  {
   "cell_type": "code",
   "execution_count": 50,
   "id": "d9b4018b",
   "metadata": {},
   "outputs": [
    {
     "data": {
      "text/plain": [
       "array(['Fall 2020-2021'], dtype=object)"
      ]
     },
     "execution_count": 50,
     "metadata": {},
     "output_type": "execute_result"
    }
   ],
   "source": [
    "#seems clean\n",
    "scores['Season Year'].unique()"
   ]
  },
  {
   "cell_type": "code",
   "execution_count": 52,
   "id": "180d5495",
   "metadata": {},
   "outputs": [
    {
     "data": {
      "text/plain": [
       "array(['2020-09-15T00:00:00.000000000', '2020-09-21T00:00:00.000000000'],\n",
       "      dtype='datetime64[ns]')"
      ]
     },
     "execution_count": 52,
     "metadata": {},
     "output_type": "execute_result"
    }
   ],
   "source": [
    "# two seperate dates\n",
    "scores['Test Date'].unique() "
   ]
  },
  {
   "cell_type": "code",
   "execution_count": 53,
   "id": "f5b478a0",
   "metadata": {},
   "outputs": [
    {
     "data": {
      "text/plain": [
       "0      215\n",
       "1      223\n",
       "2      332\n",
       "3      493\n",
       "4      500\n",
       "      ... \n",
       "421    452\n",
       "422    216\n",
       "423    259\n",
       "424    436\n",
       "425    270\n",
       "Name: Mathematics Score, Length: 426, dtype: int64"
      ]
     },
     "execution_count": 53,
     "metadata": {},
     "output_type": "execute_result"
    }
   ],
   "source": [
    "scores['Mathematics Score']."
   ]
  },
  {
   "cell_type": "markdown",
   "id": "e97683c8",
   "metadata": {},
   "source": [
    "StudentID includes USI. Need to fix that\n"
   ]
  },
  {
   "cell_type": "code",
   "execution_count": 4,
   "id": "48316463",
   "metadata": {
    "scrolled": true
   },
   "outputs": [
    {
     "name": "stdout",
     "output_type": "stream",
     "text": [
      "<class 'pandas.core.frame.DataFrame'>\n",
      "RangeIndex: 426 entries, 0 to 425\n",
      "Data columns (total 7 columns):\n",
      " #   Column                         Non-Null Count  Dtype         \n",
      "---  ------                         --------------  -----         \n",
      " 0   StudentID                      426 non-null    int64         \n",
      " 1   Season Year                    426 non-null    object        \n",
      " 2   Test Date                      426 non-null    datetime64[ns]\n",
      " 3   Mathematics Score              426 non-null    int64         \n",
      " 4   Mathematics Met Growth Target  416 non-null    object        \n",
      " 5   Reading Score                  425 non-null    float64       \n",
      " 6   Reading Met Growth Target      416 non-null    object        \n",
      "dtypes: datetime64[ns](1), float64(1), int64(2), object(3)\n",
      "memory usage: 23.4+ KB\n"
     ]
    }
   ],
   "source": [
    "scores.info()"
   ]
  },
  {
   "cell_type": "code",
   "execution_count": 105,
   "id": "0f93cd98",
   "metadata": {},
   "outputs": [
    {
     "data": {
      "text/plain": [
       "0           10313\n",
       "1           10314\n",
       "2           10315\n",
       "3           10316\n",
       "4           10317\n",
       "          ...    \n",
       "421    4927244715\n",
       "422    3569491602\n",
       "423    6808742534\n",
       "424    5759461002\n",
       "425    1303857013\n",
       "Name: StudentID, Length: 426, dtype: int64"
      ]
     },
     "execution_count": 105,
     "metadata": {},
     "output_type": "execute_result"
    }
   ],
   "source": [
    "scores['StudentID']"
   ]
  },
  {
   "cell_type": "code",
   "execution_count": 106,
   "id": "5f61398a",
   "metadata": {},
   "outputs": [
    {
     "data": {
      "text/plain": [
       "array(['Fall 2020-2021'], dtype=object)"
      ]
     },
     "execution_count": 106,
     "metadata": {},
     "output_type": "execute_result"
    }
   ],
   "source": [
    "scores['Season Year'].unique()"
   ]
  },
  {
   "cell_type": "code",
   "execution_count": 107,
   "id": "833538fc",
   "metadata": {},
   "outputs": [
    {
     "data": {
      "text/plain": [
       "array(['2020-09-15T00:00:00.000000000', '2020-09-21T00:00:00.000000000'],\n",
       "      dtype='datetime64[ns]')"
      ]
     },
     "execution_count": 107,
     "metadata": {},
     "output_type": "execute_result"
    }
   ],
   "source": [
    "scores['Test Date'].unique()"
   ]
  },
  {
   "cell_type": "code",
   "execution_count": 114,
   "id": "7a188164",
   "metadata": {},
   "outputs": [
    {
     "data": {
      "text/plain": [
       "0      215\n",
       "1      223\n",
       "2      332\n",
       "3      493\n",
       "4      500\n",
       "      ... \n",
       "421    452\n",
       "422    216\n",
       "423    259\n",
       "424    436\n",
       "425    270\n",
       "Name: Mathematics Score, Length: 426, dtype: int64"
      ]
     },
     "execution_count": 114,
     "metadata": {},
     "output_type": "execute_result"
    }
   ],
   "source": [
    "scores['Mathematics Score']"
   ]
  },
  {
   "cell_type": "code",
   "execution_count": 116,
   "id": "d967cf75",
   "metadata": {},
   "outputs": [
    {
     "data": {
      "text/plain": [
       "array(['Yes', 'No', 'Yes*', 'No*', nan], dtype=object)"
      ]
     },
     "execution_count": 116,
     "metadata": {},
     "output_type": "execute_result"
    }
   ],
   "source": [
    "scores['Mathematics Met Growth Target'].unique()"
   ]
  },
  {
   "cell_type": "code",
   "execution_count": 123,
   "id": "96fdeb00",
   "metadata": {},
   "outputs": [],
   "source": [
    "from sklearn.linear_model import LogisticRegression as logreg"
   ]
  },
  {
   "cell_type": "code",
   "execution_count": null,
   "id": "e8e4bbeb",
   "metadata": {},
   "outputs": [],
   "source": [
    "X_train, y_train, X_test, y_test = (scores[''])\n",
    "\n",
    "growth_target_model = logreg()\n",
    "\n"
   ]
  }
 ],
 "metadata": {
  "kernelspec": {
   "display_name": "Python 3",
   "language": "python",
   "name": "python3"
  },
  "language_info": {
   "codemirror_mode": {
    "name": "ipython",
    "version": 3
   },
   "file_extension": ".py",
   "mimetype": "text/x-python",
   "name": "python",
   "nbconvert_exporter": "python",
   "pygments_lexer": "ipython3",
   "version": "3.8.8"
  }
 },
 "nbformat": 4,
 "nbformat_minor": 5
}
