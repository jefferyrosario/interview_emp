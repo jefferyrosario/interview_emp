{
 "cells": [
  {
   "cell_type": "code",
   "execution_count": 124,
   "id": "7b8bd0fe",
   "metadata": {},
   "outputs": [],
   "source": [
    "import re\n",
    "import pandas as pd\n",
    "import numpy as np\n",
    "import nltk\n",
    "from nltk.corpus import names\n",
    "from sklearn.model_selection import train_test_split"
   ]
  },
  {
   "cell_type": "code",
   "execution_count": 2,
   "id": "ab4d06c1",
   "metadata": {},
   "outputs": [],
   "source": [
    "demo = pd.read_excel(\"Sample Data.xlsx\")"
   ]
  },
  {
   "cell_type": "code",
   "execution_count": 6,
   "id": "5bb9cd7c",
   "metadata": {},
   "outputs": [
    {
     "data": {
      "text/html": [
       "<div>\n",
       "<style scoped>\n",
       "    .dataframe tbody tr th:only-of-type {\n",
       "        vertical-align: middle;\n",
       "    }\n",
       "\n",
       "    .dataframe tbody tr th {\n",
       "        vertical-align: top;\n",
       "    }\n",
       "\n",
       "    .dataframe thead th {\n",
       "        text-align: right;\n",
       "    }\n",
       "</style>\n",
       "<table border=\"1\" class=\"dataframe\">\n",
       "  <thead>\n",
       "    <tr style=\"text-align: right;\">\n",
       "      <th></th>\n",
       "      <th>LocalStudentID</th>\n",
       "      <th>USI</th>\n",
       "      <th>Name</th>\n",
       "      <th>Sex</th>\n",
       "      <th>CurrentGradeLevel</th>\n",
       "      <th>RaceEthnicity</th>\n",
       "      <th>IEP</th>\n",
       "      <th>AtRisk</th>\n",
       "    </tr>\n",
       "  </thead>\n",
       "  <tbody>\n",
       "    <tr>\n",
       "      <th>0</th>\n",
       "      <td>10001</td>\n",
       "      <td>2239664225</td>\n",
       "      <td>Palmer, Keke</td>\n",
       "      <td>Female</td>\n",
       "      <td>6</td>\n",
       "      <td>Hispanic/Latino</td>\n",
       "      <td>No IEP</td>\n",
       "      <td>Not At-Risk</td>\n",
       "    </tr>\n",
       "    <tr>\n",
       "      <th>1</th>\n",
       "      <td>10002</td>\n",
       "      <td>2650023531</td>\n",
       "      <td>Garson, Greer</td>\n",
       "      <td>Female</td>\n",
       "      <td>6</td>\n",
       "      <td>White</td>\n",
       "      <td>No IEP</td>\n",
       "      <td>At-Risk</td>\n",
       "    </tr>\n",
       "    <tr>\n",
       "      <th>2</th>\n",
       "      <td>10003</td>\n",
       "      <td>3441934847</td>\n",
       "      <td>Fonda, Henry</td>\n",
       "      <td>Male</td>\n",
       "      <td>6</td>\n",
       "      <td>White</td>\n",
       "      <td>IEP</td>\n",
       "      <td>At-Risk</td>\n",
       "    </tr>\n",
       "    <tr>\n",
       "      <th>3</th>\n",
       "      <td>10004</td>\n",
       "      <td>4716164342</td>\n",
       "      <td>Garbo, Greta</td>\n",
       "      <td>Female</td>\n",
       "      <td>6</td>\n",
       "      <td>White</td>\n",
       "      <td>No IEP</td>\n",
       "      <td>At-Risk</td>\n",
       "    </tr>\n",
       "    <tr>\n",
       "      <th>4</th>\n",
       "      <td>10005</td>\n",
       "      <td>3506382949</td>\n",
       "      <td>Baker, Josephine</td>\n",
       "      <td>Female</td>\n",
       "      <td>6</td>\n",
       "      <td>White</td>\n",
       "      <td>No IEP</td>\n",
       "      <td>Not At-Risk</td>\n",
       "    </tr>\n",
       "    <tr>\n",
       "      <th>...</th>\n",
       "      <td>...</td>\n",
       "      <td>...</td>\n",
       "      <td>...</td>\n",
       "      <td>...</td>\n",
       "      <td>...</td>\n",
       "      <td>...</td>\n",
       "      <td>...</td>\n",
       "      <td>...</td>\n",
       "    </tr>\n",
       "    <tr>\n",
       "      <th>421</th>\n",
       "      <td>10464</td>\n",
       "      <td>4750973818</td>\n",
       "      <td>Watson, Emma</td>\n",
       "      <td>Female</td>\n",
       "      <td>7</td>\n",
       "      <td>White</td>\n",
       "      <td>No IEP</td>\n",
       "      <td>At-Risk</td>\n",
       "    </tr>\n",
       "    <tr>\n",
       "      <th>422</th>\n",
       "      <td>10465</td>\n",
       "      <td>1447613002</td>\n",
       "      <td>Robbie, Margot</td>\n",
       "      <td>Female</td>\n",
       "      <td>8</td>\n",
       "      <td>White</td>\n",
       "      <td>No IEP</td>\n",
       "      <td>Not At-Risk</td>\n",
       "    </tr>\n",
       "    <tr>\n",
       "      <th>423</th>\n",
       "      <td>10466</td>\n",
       "      <td>8930493455</td>\n",
       "      <td>Woodley, Shailene</td>\n",
       "      <td>Female</td>\n",
       "      <td>8</td>\n",
       "      <td>Black or African American</td>\n",
       "      <td>No IEP</td>\n",
       "      <td>At-Risk</td>\n",
       "    </tr>\n",
       "    <tr>\n",
       "      <th>424</th>\n",
       "      <td>10467</td>\n",
       "      <td>4292757544</td>\n",
       "      <td>Morgan, Vanessa</td>\n",
       "      <td>Female</td>\n",
       "      <td>10</td>\n",
       "      <td>Black or African American</td>\n",
       "      <td>No IEP</td>\n",
       "      <td>Not At-Risk</td>\n",
       "    </tr>\n",
       "    <tr>\n",
       "      <th>425</th>\n",
       "      <td>10468</td>\n",
       "      <td>2768189192</td>\n",
       "      <td>Lovato, Demi</td>\n",
       "      <td>Female</td>\n",
       "      <td>8</td>\n",
       "      <td>Black or African American</td>\n",
       "      <td>No IEP</td>\n",
       "      <td>At-Risk</td>\n",
       "    </tr>\n",
       "  </tbody>\n",
       "</table>\n",
       "<p>426 rows × 8 columns</p>\n",
       "</div>"
      ],
      "text/plain": [
       "     LocalStudentID         USI               Name     Sex  CurrentGradeLevel  \\\n",
       "0             10001  2239664225       Palmer, Keke  Female                  6   \n",
       "1             10002  2650023531      Garson, Greer  Female                  6   \n",
       "2             10003  3441934847       Fonda, Henry    Male                  6   \n",
       "3             10004  4716164342       Garbo, Greta  Female                  6   \n",
       "4             10005  3506382949   Baker, Josephine  Female                  6   \n",
       "..              ...         ...                ...     ...                ...   \n",
       "421           10464  4750973818       Watson, Emma  Female                  7   \n",
       "422           10465  1447613002     Robbie, Margot  Female                  8   \n",
       "423           10466  8930493455  Woodley, Shailene  Female                  8   \n",
       "424           10467  4292757544    Morgan, Vanessa  Female                 10   \n",
       "425           10468  2768189192       Lovato, Demi  Female                  8   \n",
       "\n",
       "                 RaceEthnicity     IEP       AtRisk  \n",
       "0              Hispanic/Latino  No IEP  Not At-Risk  \n",
       "1                        White  No IEP      At-Risk  \n",
       "2                        White     IEP      At-Risk  \n",
       "3                        White  No IEP      At-Risk  \n",
       "4                        White  No IEP  Not At-Risk  \n",
       "..                         ...     ...          ...  \n",
       "421                      White  No IEP      At-Risk  \n",
       "422                      White  No IEP  Not At-Risk  \n",
       "423  Black or African American  No IEP      At-Risk  \n",
       "424  Black or African American  No IEP  Not At-Risk  \n",
       "425  Black or African American  No IEP      At-Risk  \n",
       "\n",
       "[426 rows x 8 columns]"
      ]
     },
     "execution_count": 6,
     "metadata": {},
     "output_type": "execute_result"
    }
   ],
   "source": [
    "demo"
   ]
  },
  {
   "cell_type": "markdown",
   "id": "8014884b",
   "metadata": {},
   "source": [
    "Initial thoughts upon viewing the database:\n",
    "\n",
    "LocalStudentID should be auto increment if this is the convention followed, unless this studentid is received from the school's database. \n",
    "\n",
    "USI - unique student identifier == primary key\n",
    "\n",
    "Name should be split by first name and last name\n",
    "\n",
    "Sex should only allow M or F, one character limit\n",
    "\n",
    "Current grade level, no 0's before number, ie. 08\n",
    "\n",
    "RaceEthnicity should be split into two different columns race and ethnicity are different\n",
    "\n",
    "Reconstruct how data is entered into the database.\n",
    "\n",
    "Create SQL tables with following statements:\n",
    "\n",
    "\n",
    "\n",
    "\n"
   ]
  },
  {
   "cell_type": "code",
   "execution_count": 18,
   "id": "0c0a0200",
   "metadata": {},
   "outputs": [
    {
     "data": {
      "text/plain": [
       "0"
      ]
     },
     "execution_count": 18,
     "metadata": {},
     "output_type": "execute_result"
    }
   ],
   "source": [
    "demo['LocalStudentID'].duplicated().sum() # columns are unique"
   ]
  },
  {
   "cell_type": "code",
   "execution_count": 17,
   "id": "e84cebf7",
   "metadata": {},
   "outputs": [
    {
     "data": {
      "text/plain": [
       "0"
      ]
     },
     "execution_count": 17,
     "metadata": {},
     "output_type": "execute_result"
    }
   ],
   "source": [
    "demo['USI'].duplicated().sum() # column is unique"
   ]
  },
  {
   "cell_type": "code",
   "execution_count": 20,
   "id": "df6c77ff",
   "metadata": {},
   "outputs": [
    {
     "data": {
      "text/plain": [
       "array(['Hispanic/Latino', 'White', 'Black or African American'],\n",
       "      dtype=object)"
      ]
     },
     "execution_count": 20,
     "metadata": {},
     "output_type": "execute_result"
    }
   ],
   "source": [
    "demo['RaceEthnicity'].unique()"
   ]
  },
  {
   "cell_type": "code",
   "execution_count": 21,
   "id": "dea90298",
   "metadata": {},
   "outputs": [
    {
     "data": {
      "text/plain": [
       "array(['Female', 'Male', 'M', 'F', 'IEP'], dtype=object)"
      ]
     },
     "execution_count": 21,
     "metadata": {},
     "output_type": "execute_result"
    }
   ],
   "source": [
    "demo['Sex'].unique() # too many values. Should be M or F"
   ]
  },
  {
   "cell_type": "code",
   "execution_count": 10,
   "id": "7ddb6027",
   "metadata": {},
   "outputs": [
    {
     "data": {
      "text/plain": [
       "0      10001\n",
       "1      10002\n",
       "2      10003\n",
       "3      10004\n",
       "4      10005\n",
       "       ...  \n",
       "421    10464\n",
       "422    10465\n",
       "423    10466\n",
       "424    10467\n",
       "425    10468\n",
       "Name: LocalStudentID, Length: 426, dtype: int64"
      ]
     },
     "execution_count": 10,
     "metadata": {},
     "output_type": "execute_result"
    }
   ],
   "source": [
    "demo['LocalStudentID']"
   ]
  },
  {
   "cell_type": "code",
   "execution_count": 7,
   "id": "60bb91cb",
   "metadata": {},
   "outputs": [
    {
     "data": {
      "text/plain": [
       "0           [Palmer,  Keke]\n",
       "1          [Garson,  Greer]\n",
       "2           [Fonda,  Henry]\n",
       "3           [Garbo,  Greta]\n",
       "4       [Baker,  Josephine]\n",
       "               ...         \n",
       "421         [Watson,  Emma]\n",
       "422       [Robbie,  Margot]\n",
       "423    [Woodley,  Shailene]\n",
       "424      [Morgan,  Vanessa]\n",
       "425         [Lovato,  Demi]\n",
       "Name: Name, Length: 426, dtype: object"
      ]
     },
     "execution_count": 7,
     "metadata": {},
     "output_type": "execute_result"
    }
   ],
   "source": [
    "demo['Name'].map(lambda x: x.split(','))"
   ]
  },
  {
   "cell_type": "code",
   "execution_count": 15,
   "id": "a81fa268",
   "metadata": {},
   "outputs": [],
   "source": [
    "demo[['FirstName', 'LastName']] = demo.Name.str.split(',', expand = True)"
   ]
  },
  {
   "cell_type": "code",
   "execution_count": 24,
   "id": "ac0289d6",
   "metadata": {},
   "outputs": [
    {
     "data": {
      "text/plain": [
       "array(['Female', 'Male', 'M', 'F', 'IEP'], dtype=object)"
      ]
     },
     "execution_count": 24,
     "metadata": {},
     "output_type": "execute_result"
    }
   ],
   "source": [
    "demo['Sex'].unique()"
   ]
  },
  {
   "cell_type": "code",
   "execution_count": 38,
   "id": "5211addc",
   "metadata": {},
   "outputs": [],
   "source": [
    "#split first and last name into seperate columns\n",
    "\n",
    "def splitFirstNameLastName(df):\n",
    "    df[['LastName', 'FirstName']] = df.Name.str.split(',',  expand = True)\n",
    "    df.loc[:, 'LastName'] = df.loc[:, 'LastName'].map(lambda x: x.strip())\n",
    "    df.loc[:, 'FirstName'] = df.loc[:, 'FirstName'].map(lambda x: x.strip())        \n",
    "\n",
    "splitFirstNameLastName(demo)\n",
    "\n",
    "def inputSex(df, index_to_change):\n",
    "    male_names = names.words('male.txt')\n",
    "    female_names = names.words('female.txt')\n",
    "    for idx in index_to_change:\n",
    "        if df.loc[idx, 'FirstName'] in male_names:\n",
    "            df.loc[idx, 'Sex'] = 'M'\n",
    "        elif df.loc[idx, 'FirstName'] in female_names:\n",
    "            df.loc[idx, 'Sex'] = 'F'\n",
    "            \n",
    "inputSex(demo, idxs)"
   ]
  },
  {
   "cell_type": "code",
   "execution_count": 43,
   "id": "b355e2bd",
   "metadata": {},
   "outputs": [
    {
     "data": {
      "text/plain": [
       "'F'"
      ]
     },
     "execution_count": 43,
     "metadata": {},
     "output_type": "execute_result"
    }
   ],
   "source": [
    "demo.loc[201, 'Sex']"
   ]
  },
  {
   "cell_type": "code",
   "execution_count": 31,
   "id": "a1507265",
   "metadata": {},
   "outputs": [
    {
     "name": "stdout",
     "output_type": "stream",
     "text": [
      "201\n"
     ]
    }
   ],
   "source": [
    "for idx in idxs:\n",
    "    print (idx)"
   ]
  },
  {
   "cell_type": "code",
   "execution_count": 34,
   "id": "c2630a7f",
   "metadata": {},
   "outputs": [
    {
     "data": {
      "text/plain": [
       "' Greer'"
      ]
     },
     "execution_count": 34,
     "metadata": {},
     "output_type": "execute_result"
    }
   ],
   "source": [
    "demo.loc[1,'FirstName']"
   ]
  },
  {
   "cell_type": "code",
   "execution_count": 36,
   "id": "6cc3b00d",
   "metadata": {},
   "outputs": [
    {
     "data": {
      "text/plain": [
       "'Greer'"
      ]
     },
     "execution_count": 36,
     "metadata": {},
     "output_type": "execute_result"
    }
   ],
   "source": [
    "demo['FirstName'].map(lambda x: x.strip())"
   ]
  },
  {
   "cell_type": "code",
   "execution_count": 21,
   "id": "099dd543",
   "metadata": {},
   "outputs": [
    {
     "data": {
      "text/plain": [
       "LocalStudentID       0\n",
       "USI                  0\n",
       "Name                 0\n",
       "Sex                  1\n",
       "CurrentGradeLevel    0\n",
       "RaceEthnicity        0\n",
       "IEP                  0\n",
       "AtRisk               0\n",
       "dtype: int64"
      ]
     },
     "execution_count": 21,
     "metadata": {},
     "output_type": "execute_result"
    }
   ],
   "source": [
    "demo.isna().sum()"
   ]
  },
  {
   "cell_type": "code",
   "execution_count": 4,
   "id": "f02e4da9",
   "metadata": {},
   "outputs": [],
   "source": [
    "male_names = names.words('male.txt')\n",
    "female_name = names.words('female.txt')"
   ]
  },
  {
   "cell_type": "code",
   "execution_count": 17,
   "id": "93302c6f",
   "metadata": {},
   "outputs": [
    {
     "data": {
      "text/plain": [
       "Int64Index([201], dtype='int64')"
      ]
     },
     "execution_count": 17,
     "metadata": {},
     "output_type": "execute_result"
    }
   ],
   "source": [
    "idxs"
   ]
  },
  {
   "cell_type": "code",
   "execution_count": 15,
   "id": "9d665461",
   "metadata": {},
   "outputs": [],
   "source": [
    "#replace Female with F and Male to M\n",
    "#replace anything that is not F or M with np.nan\n",
    "\n",
    "def correct_sex(df):\n",
    "    df['Sex'].replace({'Female':'F', 'female':'F',\n",
    "                       'Male':'M', 'male':'M' }, inplace = True)\n",
    "    indexs_to_change = df[(df['Sex'] != 'F' ) & ( df['Sex'] != 'M')].loc[:, 'Sex'].index\n",
    "    df.loc[indexs_to_change, 'Sex'] = np.nan\n",
    "    return indexs_to_change\n",
    "idxs = correct_sex(demo)\n",
    "#demo[(demo['Sex'] != 'F' ) & ( demo['Sex'] != 'M')].loc[:, 'Sex'].index\n",
    "#demo.loc[201,'Sex'] = np.nan"
   ]
  },
  {
   "cell_type": "code",
   "execution_count": 72,
   "id": "769f816c",
   "metadata": {},
   "outputs": [
    {
     "data": {
      "text/plain": [
       "array([ 6,  8, 10,  9, 12, 11,  7], dtype=int64)"
      ]
     },
     "execution_count": 72,
     "metadata": {},
     "output_type": "execute_result"
    }
   ],
   "source": [
    "#pandas has already handled the 07 and 09 cases\n",
    "\n",
    "demo['CurrentGradeLevel'].unique()"
   ]
  },
  {
   "cell_type": "code",
   "execution_count": 76,
   "id": "44c4bb6e",
   "metadata": {},
   "outputs": [
    {
     "data": {
      "text/plain": [
       "0                Hispanic/Latino\n",
       "1                          White\n",
       "2                          White\n",
       "3                          White\n",
       "4                          White\n",
       "                 ...            \n",
       "421                        White\n",
       "422                        White\n",
       "423    Black or African American\n",
       "424    Black or African American\n",
       "425    Black or African American\n",
       "Name: RaceEthnicity, Length: 426, dtype: object"
      ]
     },
     "execution_count": 76,
     "metadata": {},
     "output_type": "execute_result"
    }
   ],
   "source": [
    "#check to see if race and ethnicity should be different\n",
    "demo['RaceEthnicity']"
   ]
  },
  {
   "cell_type": "code",
   "execution_count": 79,
   "id": "fee2175a",
   "metadata": {},
   "outputs": [
    {
     "data": {
      "text/plain": [
       "array(['No IEP', 'IEP'], dtype=object)"
      ]
     },
     "execution_count": 79,
     "metadata": {},
     "output_type": "execute_result"
    }
   ],
   "source": [
    "#looks clean\n",
    "demo['IEP'].unique()"
   ]
  },
  {
   "cell_type": "code",
   "execution_count": 82,
   "id": "ec47a55f",
   "metadata": {},
   "outputs": [
    {
     "data": {
      "text/plain": [
       "array(['Not At-Risk', 'At-Risk'], dtype=object)"
      ]
     },
     "execution_count": 82,
     "metadata": {},
     "output_type": "execute_result"
    }
   ],
   "source": [
    "#looks clean\n",
    "demo['AtRisk'].unique()"
   ]
  },
  {
   "cell_type": "code",
   "execution_count": 44,
   "id": "faf08793",
   "metadata": {},
   "outputs": [
    {
     "data": {
      "text/html": [
       "<div>\n",
       "<style scoped>\n",
       "    .dataframe tbody tr th:only-of-type {\n",
       "        vertical-align: middle;\n",
       "    }\n",
       "\n",
       "    .dataframe tbody tr th {\n",
       "        vertical-align: top;\n",
       "    }\n",
       "\n",
       "    .dataframe thead th {\n",
       "        text-align: right;\n",
       "    }\n",
       "</style>\n",
       "<table border=\"1\" class=\"dataframe\">\n",
       "  <thead>\n",
       "    <tr style=\"text-align: right;\">\n",
       "      <th></th>\n",
       "      <th>LocalStudentID</th>\n",
       "      <th>USI</th>\n",
       "      <th>Name</th>\n",
       "      <th>Sex</th>\n",
       "      <th>CurrentGradeLevel</th>\n",
       "      <th>RaceEthnicity</th>\n",
       "      <th>IEP</th>\n",
       "      <th>AtRisk</th>\n",
       "      <th>LastName</th>\n",
       "      <th>FirstName</th>\n",
       "    </tr>\n",
       "  </thead>\n",
       "  <tbody>\n",
       "    <tr>\n",
       "      <th>0</th>\n",
       "      <td>10001</td>\n",
       "      <td>2239664225</td>\n",
       "      <td>Palmer, Keke</td>\n",
       "      <td>F</td>\n",
       "      <td>6</td>\n",
       "      <td>Hispanic/Latino</td>\n",
       "      <td>No IEP</td>\n",
       "      <td>Not At-Risk</td>\n",
       "      <td>Palmer</td>\n",
       "      <td>Keke</td>\n",
       "    </tr>\n",
       "    <tr>\n",
       "      <th>1</th>\n",
       "      <td>10002</td>\n",
       "      <td>2650023531</td>\n",
       "      <td>Garson, Greer</td>\n",
       "      <td>F</td>\n",
       "      <td>6</td>\n",
       "      <td>White</td>\n",
       "      <td>No IEP</td>\n",
       "      <td>At-Risk</td>\n",
       "      <td>Garson</td>\n",
       "      <td>Greer</td>\n",
       "    </tr>\n",
       "    <tr>\n",
       "      <th>2</th>\n",
       "      <td>10003</td>\n",
       "      <td>3441934847</td>\n",
       "      <td>Fonda, Henry</td>\n",
       "      <td>M</td>\n",
       "      <td>6</td>\n",
       "      <td>White</td>\n",
       "      <td>IEP</td>\n",
       "      <td>At-Risk</td>\n",
       "      <td>Fonda</td>\n",
       "      <td>Henry</td>\n",
       "    </tr>\n",
       "    <tr>\n",
       "      <th>3</th>\n",
       "      <td>10004</td>\n",
       "      <td>4716164342</td>\n",
       "      <td>Garbo, Greta</td>\n",
       "      <td>F</td>\n",
       "      <td>6</td>\n",
       "      <td>White</td>\n",
       "      <td>No IEP</td>\n",
       "      <td>At-Risk</td>\n",
       "      <td>Garbo</td>\n",
       "      <td>Greta</td>\n",
       "    </tr>\n",
       "    <tr>\n",
       "      <th>4</th>\n",
       "      <td>10005</td>\n",
       "      <td>3506382949</td>\n",
       "      <td>Baker, Josephine</td>\n",
       "      <td>F</td>\n",
       "      <td>6</td>\n",
       "      <td>White</td>\n",
       "      <td>No IEP</td>\n",
       "      <td>Not At-Risk</td>\n",
       "      <td>Baker</td>\n",
       "      <td>Josephine</td>\n",
       "    </tr>\n",
       "    <tr>\n",
       "      <th>...</th>\n",
       "      <td>...</td>\n",
       "      <td>...</td>\n",
       "      <td>...</td>\n",
       "      <td>...</td>\n",
       "      <td>...</td>\n",
       "      <td>...</td>\n",
       "      <td>...</td>\n",
       "      <td>...</td>\n",
       "      <td>...</td>\n",
       "      <td>...</td>\n",
       "    </tr>\n",
       "    <tr>\n",
       "      <th>421</th>\n",
       "      <td>10464</td>\n",
       "      <td>4750973818</td>\n",
       "      <td>Watson, Emma</td>\n",
       "      <td>F</td>\n",
       "      <td>7</td>\n",
       "      <td>White</td>\n",
       "      <td>No IEP</td>\n",
       "      <td>At-Risk</td>\n",
       "      <td>Watson</td>\n",
       "      <td>Emma</td>\n",
       "    </tr>\n",
       "    <tr>\n",
       "      <th>422</th>\n",
       "      <td>10465</td>\n",
       "      <td>1447613002</td>\n",
       "      <td>Robbie, Margot</td>\n",
       "      <td>F</td>\n",
       "      <td>8</td>\n",
       "      <td>White</td>\n",
       "      <td>No IEP</td>\n",
       "      <td>Not At-Risk</td>\n",
       "      <td>Robbie</td>\n",
       "      <td>Margot</td>\n",
       "    </tr>\n",
       "    <tr>\n",
       "      <th>423</th>\n",
       "      <td>10466</td>\n",
       "      <td>8930493455</td>\n",
       "      <td>Woodley, Shailene</td>\n",
       "      <td>F</td>\n",
       "      <td>8</td>\n",
       "      <td>Black or African American</td>\n",
       "      <td>No IEP</td>\n",
       "      <td>At-Risk</td>\n",
       "      <td>Woodley</td>\n",
       "      <td>Shailene</td>\n",
       "    </tr>\n",
       "    <tr>\n",
       "      <th>424</th>\n",
       "      <td>10467</td>\n",
       "      <td>4292757544</td>\n",
       "      <td>Morgan, Vanessa</td>\n",
       "      <td>F</td>\n",
       "      <td>10</td>\n",
       "      <td>Black or African American</td>\n",
       "      <td>No IEP</td>\n",
       "      <td>Not At-Risk</td>\n",
       "      <td>Morgan</td>\n",
       "      <td>Vanessa</td>\n",
       "    </tr>\n",
       "    <tr>\n",
       "      <th>425</th>\n",
       "      <td>10468</td>\n",
       "      <td>2768189192</td>\n",
       "      <td>Lovato, Demi</td>\n",
       "      <td>F</td>\n",
       "      <td>8</td>\n",
       "      <td>Black or African American</td>\n",
       "      <td>No IEP</td>\n",
       "      <td>At-Risk</td>\n",
       "      <td>Lovato</td>\n",
       "      <td>Demi</td>\n",
       "    </tr>\n",
       "  </tbody>\n",
       "</table>\n",
       "<p>426 rows × 10 columns</p>\n",
       "</div>"
      ],
      "text/plain": [
       "     LocalStudentID         USI               Name Sex  CurrentGradeLevel  \\\n",
       "0             10001  2239664225       Palmer, Keke   F                  6   \n",
       "1             10002  2650023531      Garson, Greer   F                  6   \n",
       "2             10003  3441934847       Fonda, Henry   M                  6   \n",
       "3             10004  4716164342       Garbo, Greta   F                  6   \n",
       "4             10005  3506382949   Baker, Josephine   F                  6   \n",
       "..              ...         ...                ...  ..                ...   \n",
       "421           10464  4750973818       Watson, Emma   F                  7   \n",
       "422           10465  1447613002     Robbie, Margot   F                  8   \n",
       "423           10466  8930493455  Woodley, Shailene   F                  8   \n",
       "424           10467  4292757544    Morgan, Vanessa   F                 10   \n",
       "425           10468  2768189192       Lovato, Demi   F                  8   \n",
       "\n",
       "                 RaceEthnicity     IEP       AtRisk LastName  FirstName  \n",
       "0              Hispanic/Latino  No IEP  Not At-Risk   Palmer       Keke  \n",
       "1                        White  No IEP      At-Risk   Garson      Greer  \n",
       "2                        White     IEP      At-Risk    Fonda      Henry  \n",
       "3                        White  No IEP      At-Risk    Garbo      Greta  \n",
       "4                        White  No IEP  Not At-Risk    Baker  Josephine  \n",
       "..                         ...     ...          ...      ...        ...  \n",
       "421                      White  No IEP      At-Risk   Watson       Emma  \n",
       "422                      White  No IEP  Not At-Risk   Robbie     Margot  \n",
       "423  Black or African American  No IEP      At-Risk  Woodley   Shailene  \n",
       "424  Black or African American  No IEP  Not At-Risk   Morgan    Vanessa  \n",
       "425  Black or African American  No IEP      At-Risk   Lovato       Demi  \n",
       "\n",
       "[426 rows x 10 columns]"
      ]
     },
     "execution_count": 44,
     "metadata": {},
     "output_type": "execute_result"
    }
   ],
   "source": [
    "demo"
   ]
  },
  {
   "cell_type": "code",
   "execution_count": 317,
   "id": "377a08f5",
   "metadata": {},
   "outputs": [],
   "source": [
    "scores = pd.read_excel(\"Sample Data.xlsx\", sheet_name=1)"
   ]
  },
  {
   "cell_type": "code",
   "execution_count": 219,
   "id": "f9311189",
   "metadata": {},
   "outputs": [
    {
     "data": {
      "text/html": [
       "<div>\n",
       "<style scoped>\n",
       "    .dataframe tbody tr th:only-of-type {\n",
       "        vertical-align: middle;\n",
       "    }\n",
       "\n",
       "    .dataframe tbody tr th {\n",
       "        vertical-align: top;\n",
       "    }\n",
       "\n",
       "    .dataframe thead th {\n",
       "        text-align: right;\n",
       "    }\n",
       "</style>\n",
       "<table border=\"1\" class=\"dataframe\">\n",
       "  <thead>\n",
       "    <tr style=\"text-align: right;\">\n",
       "      <th></th>\n",
       "      <th>StudentID</th>\n",
       "      <th>Season Year</th>\n",
       "      <th>Test Date</th>\n",
       "      <th>Mathematics Score</th>\n",
       "      <th>Mathematics Met Growth Target</th>\n",
       "      <th>Reading Score</th>\n",
       "      <th>Reading Met Growth Target</th>\n",
       "    </tr>\n",
       "  </thead>\n",
       "  <tbody>\n",
       "    <tr>\n",
       "      <th>0</th>\n",
       "      <td>10313</td>\n",
       "      <td>Fall 2020-2021</td>\n",
       "      <td>2020-09-15</td>\n",
       "      <td>215</td>\n",
       "      <td>Yes</td>\n",
       "      <td>467.0</td>\n",
       "      <td>Yes</td>\n",
       "    </tr>\n",
       "    <tr>\n",
       "      <th>1</th>\n",
       "      <td>10314</td>\n",
       "      <td>Fall 2020-2021</td>\n",
       "      <td>2020-09-15</td>\n",
       "      <td>223</td>\n",
       "      <td>No</td>\n",
       "      <td>203.0</td>\n",
       "      <td>No</td>\n",
       "    </tr>\n",
       "    <tr>\n",
       "      <th>2</th>\n",
       "      <td>10315</td>\n",
       "      <td>Fall 2020-2021</td>\n",
       "      <td>2020-09-15</td>\n",
       "      <td>332</td>\n",
       "      <td>Yes*</td>\n",
       "      <td>280.0</td>\n",
       "      <td>Yes*</td>\n",
       "    </tr>\n",
       "    <tr>\n",
       "      <th>3</th>\n",
       "      <td>10316</td>\n",
       "      <td>Fall 2020-2021</td>\n",
       "      <td>2020-09-15</td>\n",
       "      <td>493</td>\n",
       "      <td>No*</td>\n",
       "      <td>339.0</td>\n",
       "      <td>No*</td>\n",
       "    </tr>\n",
       "    <tr>\n",
       "      <th>4</th>\n",
       "      <td>10317</td>\n",
       "      <td>Fall 2020-2021</td>\n",
       "      <td>2020-09-15</td>\n",
       "      <td>500</td>\n",
       "      <td>No*</td>\n",
       "      <td>208.0</td>\n",
       "      <td>No*</td>\n",
       "    </tr>\n",
       "    <tr>\n",
       "      <th>...</th>\n",
       "      <td>...</td>\n",
       "      <td>...</td>\n",
       "      <td>...</td>\n",
       "      <td>...</td>\n",
       "      <td>...</td>\n",
       "      <td>...</td>\n",
       "      <td>...</td>\n",
       "    </tr>\n",
       "    <tr>\n",
       "      <th>421</th>\n",
       "      <td>4927244715</td>\n",
       "      <td>Fall 2020-2021</td>\n",
       "      <td>2020-09-15</td>\n",
       "      <td>452</td>\n",
       "      <td>Yes*</td>\n",
       "      <td>343.0</td>\n",
       "      <td>Yes*</td>\n",
       "    </tr>\n",
       "    <tr>\n",
       "      <th>422</th>\n",
       "      <td>3569491602</td>\n",
       "      <td>Fall 2020-2021</td>\n",
       "      <td>2020-09-15</td>\n",
       "      <td>216</td>\n",
       "      <td>No*</td>\n",
       "      <td>459.0</td>\n",
       "      <td>No*</td>\n",
       "    </tr>\n",
       "    <tr>\n",
       "      <th>423</th>\n",
       "      <td>6808742534</td>\n",
       "      <td>Fall 2020-2021</td>\n",
       "      <td>2020-09-15</td>\n",
       "      <td>259</td>\n",
       "      <td>Yes</td>\n",
       "      <td>359.0</td>\n",
       "      <td>Yes</td>\n",
       "    </tr>\n",
       "    <tr>\n",
       "      <th>424</th>\n",
       "      <td>5759461002</td>\n",
       "      <td>Fall 2020-2021</td>\n",
       "      <td>2020-09-15</td>\n",
       "      <td>436</td>\n",
       "      <td>Yes</td>\n",
       "      <td>214.0</td>\n",
       "      <td>Yes</td>\n",
       "    </tr>\n",
       "    <tr>\n",
       "      <th>425</th>\n",
       "      <td>1303857013</td>\n",
       "      <td>Fall 2020-2021</td>\n",
       "      <td>2020-09-15</td>\n",
       "      <td>270</td>\n",
       "      <td>Yes</td>\n",
       "      <td>NaN</td>\n",
       "      <td>Yes</td>\n",
       "    </tr>\n",
       "  </tbody>\n",
       "</table>\n",
       "<p>426 rows × 7 columns</p>\n",
       "</div>"
      ],
      "text/plain": [
       "      StudentID     Season Year  Test Date  Mathematics Score  \\\n",
       "0         10313  Fall 2020-2021 2020-09-15                215   \n",
       "1         10314  Fall 2020-2021 2020-09-15                223   \n",
       "2         10315  Fall 2020-2021 2020-09-15                332   \n",
       "3         10316  Fall 2020-2021 2020-09-15                493   \n",
       "4         10317  Fall 2020-2021 2020-09-15                500   \n",
       "..          ...             ...        ...                ...   \n",
       "421  4927244715  Fall 2020-2021 2020-09-15                452   \n",
       "422  3569491602  Fall 2020-2021 2020-09-15                216   \n",
       "423  6808742534  Fall 2020-2021 2020-09-15                259   \n",
       "424  5759461002  Fall 2020-2021 2020-09-15                436   \n",
       "425  1303857013  Fall 2020-2021 2020-09-15                270   \n",
       "\n",
       "    Mathematics Met Growth Target  Reading Score Reading Met Growth Target  \n",
       "0                             Yes          467.0                       Yes  \n",
       "1                              No          203.0                        No  \n",
       "2                            Yes*          280.0                      Yes*  \n",
       "3                             No*          339.0                       No*  \n",
       "4                             No*          208.0                       No*  \n",
       "..                            ...            ...                       ...  \n",
       "421                          Yes*          343.0                      Yes*  \n",
       "422                           No*          459.0                       No*  \n",
       "423                           Yes          359.0                       Yes  \n",
       "424                           Yes          214.0                       Yes  \n",
       "425                           Yes            NaN                       Yes  \n",
       "\n",
       "[426 rows x 7 columns]"
      ]
     },
     "execution_count": 219,
     "metadata": {},
     "output_type": "execute_result"
    }
   ],
   "source": [
    "scores"
   ]
  },
  {
   "cell_type": "code",
   "execution_count": 221,
   "id": "491a9ef0",
   "metadata": {},
   "outputs": [
    {
     "data": {
      "text/plain": [
       "1"
      ]
     },
     "execution_count": 221,
     "metadata": {},
     "output_type": "execute_result"
    }
   ],
   "source": [
    "#we have one intance where we have duplicates\n",
    "scores['StudentID'].duplicated().sum()"
   ]
  },
  {
   "cell_type": "code",
   "execution_count": 249,
   "id": "50bc5781",
   "metadata": {},
   "outputs": [],
   "source": [
    "duplicate = scores[scores.StudentID.duplicated()]"
   ]
  },
  {
   "cell_type": "code",
   "execution_count": 265,
   "id": "efa685f6",
   "metadata": {},
   "outputs": [
    {
     "data": {
      "text/html": [
       "<div>\n",
       "<style scoped>\n",
       "    .dataframe tbody tr th:only-of-type {\n",
       "        vertical-align: middle;\n",
       "    }\n",
       "\n",
       "    .dataframe tbody tr th {\n",
       "        vertical-align: top;\n",
       "    }\n",
       "\n",
       "    .dataframe thead th {\n",
       "        text-align: right;\n",
       "    }\n",
       "</style>\n",
       "<table border=\"1\" class=\"dataframe\">\n",
       "  <thead>\n",
       "    <tr style=\"text-align: right;\">\n",
       "      <th></th>\n",
       "      <th>StudentID</th>\n",
       "      <th>Season Year</th>\n",
       "      <th>Test Date</th>\n",
       "      <th>Mathematics Score</th>\n",
       "      <th>Mathematics Met Growth Target</th>\n",
       "      <th>Reading Score</th>\n",
       "      <th>Reading Met Growth Target</th>\n",
       "      <th>USI</th>\n",
       "    </tr>\n",
       "  </thead>\n",
       "  <tbody>\n",
       "    <tr>\n",
       "      <th>140</th>\n",
       "      <td>10464</td>\n",
       "      <td>Fall 2020-2021</td>\n",
       "      <td>2020-09-21</td>\n",
       "      <td>344</td>\n",
       "      <td>No*</td>\n",
       "      <td>455.0</td>\n",
       "      <td>No*</td>\n",
       "      <td>NaN</td>\n",
       "    </tr>\n",
       "  </tbody>\n",
       "</table>\n",
       "</div>"
      ],
      "text/plain": [
       "     StudentID     Season Year  Test Date  Mathematics Score  \\\n",
       "140      10464  Fall 2020-2021 2020-09-21                344   \n",
       "\n",
       "    Mathematics Met Growth Target  Reading Score Reading Met Growth Target  \\\n",
       "140                           No*          455.0                       No*   \n",
       "\n",
       "     USI  \n",
       "140  NaN  "
      ]
     },
     "execution_count": 265,
     "metadata": {},
     "output_type": "execute_result"
    }
   ],
   "source": [
    "duplicate"
   ]
  },
  {
   "cell_type": "code",
   "execution_count": null,
   "id": "ccb5be3c",
   "metadata": {},
   "outputs": [],
   "source": [
    "scores['StudentID']."
   ]
  },
  {
   "cell_type": "code",
   "execution_count": 318,
   "id": "4ebe7434",
   "metadata": {},
   "outputs": [],
   "source": [
    "def splitStudentIDAndUSI(df):\n",
    "    # capture USI in StudentID column\n",
    "    indexes_to_correct_id = df[df['StudentID'].astype('str').map(len) > 6].index\n",
    "    \n",
    "    # create column USI \n",
    "    df.loc[indexes_to_correct_id,'USI'] = df.loc[indexes_to_correct_id, 'StudentID']\n",
    "    \n",
    "    # set StudentID as index\n",
    "    scores.set_index('StudentID', inplace = True)\n",
    "    \n",
    "    # capture indexes(StudentIDs) I need\n",
    "    index = df['USI'].index[df['USI'].apply(np.isnan)]\n",
    "    \n",
    "    # use demo table to capture USI using scores's StudentIDs\n",
    "    fill_usi = demo.loc[index, 'USI']\n",
    "    \n",
    "    #reset index\n",
    "    df.reset_index(inplace = True)\n",
    "    \n",
    "    #drop duplicates, we will take care of this duplicate in the future\n",
    "    df.drop_duplicates(subset = ['StudentID'], inplace = True)\n",
    "    \n",
    "    df.set_index('StudentID',inplace = True)\n",
    "    \n",
    "    # fillna USI values using scores's StudentIDS\n",
    "    df.loc[fill_usi.index, 'USI'] = fill_usi\n",
    "    \n",
    "    # int64\n",
    "    df.loc[:, 'USI'] = df['USI'].astype('int64')\n",
    "    \n",
    "splitStudentIDAndUSI(scores)\n",
    "    "
   ]
  },
  {
   "cell_type": "code",
   "execution_count": 326,
   "id": "0e5e67ed",
   "metadata": {},
   "outputs": [],
   "source": [
    "scores.reset_index(inplace = True)"
   ]
  },
  {
   "cell_type": "code",
   "execution_count": 325,
   "id": "26eea0f3",
   "metadata": {},
   "outputs": [
    {
     "data": {
      "text/html": [
       "<div>\n",
       "<style scoped>\n",
       "    .dataframe tbody tr th:only-of-type {\n",
       "        vertical-align: middle;\n",
       "    }\n",
       "\n",
       "    .dataframe tbody tr th {\n",
       "        vertical-align: top;\n",
       "    }\n",
       "\n",
       "    .dataframe thead th {\n",
       "        text-align: right;\n",
       "    }\n",
       "</style>\n",
       "<table border=\"1\" class=\"dataframe\">\n",
       "  <thead>\n",
       "    <tr style=\"text-align: right;\">\n",
       "      <th></th>\n",
       "      <th>Season Year</th>\n",
       "      <th>Test Date</th>\n",
       "      <th>Mathematics Score</th>\n",
       "      <th>Mathematics Met Growth Target</th>\n",
       "      <th>Reading Score</th>\n",
       "      <th>Reading Met Growth Target</th>\n",
       "      <th>USI</th>\n",
       "    </tr>\n",
       "    <tr>\n",
       "      <th>StudentID</th>\n",
       "      <th></th>\n",
       "      <th></th>\n",
       "      <th></th>\n",
       "      <th></th>\n",
       "      <th></th>\n",
       "      <th></th>\n",
       "      <th></th>\n",
       "    </tr>\n",
       "  </thead>\n",
       "  <tbody>\n",
       "    <tr>\n",
       "      <th>10313</th>\n",
       "      <td>Fall 2020-2021</td>\n",
       "      <td>2020-09-15</td>\n",
       "      <td>215</td>\n",
       "      <td>Yes</td>\n",
       "      <td>467.0</td>\n",
       "      <td>Yes</td>\n",
       "      <td>4813781799</td>\n",
       "    </tr>\n",
       "    <tr>\n",
       "      <th>10314</th>\n",
       "      <td>Fall 2020-2021</td>\n",
       "      <td>2020-09-15</td>\n",
       "      <td>223</td>\n",
       "      <td>No</td>\n",
       "      <td>203.0</td>\n",
       "      <td>No</td>\n",
       "      <td>2382127099</td>\n",
       "    </tr>\n",
       "    <tr>\n",
       "      <th>10315</th>\n",
       "      <td>Fall 2020-2021</td>\n",
       "      <td>2020-09-15</td>\n",
       "      <td>332</td>\n",
       "      <td>Yes*</td>\n",
       "      <td>280.0</td>\n",
       "      <td>Yes*</td>\n",
       "      <td>5307030222</td>\n",
       "    </tr>\n",
       "    <tr>\n",
       "      <th>10316</th>\n",
       "      <td>Fall 2020-2021</td>\n",
       "      <td>2020-09-15</td>\n",
       "      <td>493</td>\n",
       "      <td>No*</td>\n",
       "      <td>339.0</td>\n",
       "      <td>No*</td>\n",
       "      <td>1047809469</td>\n",
       "    </tr>\n",
       "    <tr>\n",
       "      <th>10317</th>\n",
       "      <td>Fall 2020-2021</td>\n",
       "      <td>2020-09-15</td>\n",
       "      <td>500</td>\n",
       "      <td>No*</td>\n",
       "      <td>208.0</td>\n",
       "      <td>No*</td>\n",
       "      <td>6287524177</td>\n",
       "    </tr>\n",
       "    <tr>\n",
       "      <th>...</th>\n",
       "      <td>...</td>\n",
       "      <td>...</td>\n",
       "      <td>...</td>\n",
       "      <td>...</td>\n",
       "      <td>...</td>\n",
       "      <td>...</td>\n",
       "      <td>...</td>\n",
       "    </tr>\n",
       "    <tr>\n",
       "      <th>4927244715</th>\n",
       "      <td>Fall 2020-2021</td>\n",
       "      <td>2020-09-15</td>\n",
       "      <td>452</td>\n",
       "      <td>Yes*</td>\n",
       "      <td>343.0</td>\n",
       "      <td>Yes*</td>\n",
       "      <td>4927244715</td>\n",
       "    </tr>\n",
       "    <tr>\n",
       "      <th>3569491602</th>\n",
       "      <td>Fall 2020-2021</td>\n",
       "      <td>2020-09-15</td>\n",
       "      <td>216</td>\n",
       "      <td>No*</td>\n",
       "      <td>459.0</td>\n",
       "      <td>No*</td>\n",
       "      <td>3569491602</td>\n",
       "    </tr>\n",
       "    <tr>\n",
       "      <th>6808742534</th>\n",
       "      <td>Fall 2020-2021</td>\n",
       "      <td>2020-09-15</td>\n",
       "      <td>259</td>\n",
       "      <td>Yes</td>\n",
       "      <td>359.0</td>\n",
       "      <td>Yes</td>\n",
       "      <td>6808742534</td>\n",
       "    </tr>\n",
       "    <tr>\n",
       "      <th>5759461002</th>\n",
       "      <td>Fall 2020-2021</td>\n",
       "      <td>2020-09-15</td>\n",
       "      <td>436</td>\n",
       "      <td>Yes</td>\n",
       "      <td>214.0</td>\n",
       "      <td>Yes</td>\n",
       "      <td>5759461002</td>\n",
       "    </tr>\n",
       "    <tr>\n",
       "      <th>1303857013</th>\n",
       "      <td>Fall 2020-2021</td>\n",
       "      <td>2020-09-15</td>\n",
       "      <td>270</td>\n",
       "      <td>Yes</td>\n",
       "      <td>NaN</td>\n",
       "      <td>Yes</td>\n",
       "      <td>1303857013</td>\n",
       "    </tr>\n",
       "  </tbody>\n",
       "</table>\n",
       "<p>425 rows × 7 columns</p>\n",
       "</div>"
      ],
      "text/plain": [
       "               Season Year  Test Date  Mathematics Score  \\\n",
       "StudentID                                                  \n",
       "10313       Fall 2020-2021 2020-09-15                215   \n",
       "10314       Fall 2020-2021 2020-09-15                223   \n",
       "10315       Fall 2020-2021 2020-09-15                332   \n",
       "10316       Fall 2020-2021 2020-09-15                493   \n",
       "10317       Fall 2020-2021 2020-09-15                500   \n",
       "...                    ...        ...                ...   \n",
       "4927244715  Fall 2020-2021 2020-09-15                452   \n",
       "3569491602  Fall 2020-2021 2020-09-15                216   \n",
       "6808742534  Fall 2020-2021 2020-09-15                259   \n",
       "5759461002  Fall 2020-2021 2020-09-15                436   \n",
       "1303857013  Fall 2020-2021 2020-09-15                270   \n",
       "\n",
       "           Mathematics Met Growth Target  Reading Score  \\\n",
       "StudentID                                                 \n",
       "10313                                Yes          467.0   \n",
       "10314                                 No          203.0   \n",
       "10315                               Yes*          280.0   \n",
       "10316                                No*          339.0   \n",
       "10317                                No*          208.0   \n",
       "...                                  ...            ...   \n",
       "4927244715                          Yes*          343.0   \n",
       "3569491602                           No*          459.0   \n",
       "6808742534                           Yes          359.0   \n",
       "5759461002                           Yes          214.0   \n",
       "1303857013                           Yes            NaN   \n",
       "\n",
       "           Reading Met Growth Target         USI  \n",
       "StudentID                                         \n",
       "10313                            Yes  4813781799  \n",
       "10314                             No  2382127099  \n",
       "10315                           Yes*  5307030222  \n",
       "10316                            No*  1047809469  \n",
       "10317                            No*  6287524177  \n",
       "...                              ...         ...  \n",
       "4927244715                      Yes*  4927244715  \n",
       "3569491602                       No*  3569491602  \n",
       "6808742534                       Yes  6808742534  \n",
       "5759461002                       Yes  5759461002  \n",
       "1303857013                       Yes  1303857013  \n",
       "\n",
       "[425 rows x 7 columns]"
      ]
     },
     "execution_count": 325,
     "metadata": {},
     "output_type": "execute_result"
    }
   ],
   "source": [
    "scores"
   ]
  },
  {
   "cell_type": "code",
   "execution_count": 334,
   "id": "c53bdeba",
   "metadata": {},
   "outputs": [],
   "source": [
    "def findWrongUSIValues(df):\n",
    "    \n",
    "    #find USI values that are not equal to length of 10\n",
    "    wrong_usi = scores[scores['USI'].astype('str').map(len) != 10]['USI']\n",
    "    \n",
    "    return usi"
   ]
  },
  {
   "cell_type": "code",
   "execution_count": 442,
   "id": "654d7361",
   "metadata": {},
   "outputs": [],
   "source": [
    "wrong = findWrongUSIValues(scores)"
   ]
  },
  {
   "cell_type": "code",
   "execution_count": 440,
   "id": "31e1967f",
   "metadata": {},
   "outputs": [],
   "source": [
    "def correctUSIInScores(scores, demo):\n",
    "    \n",
    "    correct_usi_vals = []\n",
    "    wrong_usi_vals = findWrongUSIValues(scores).astype(str)\n",
    "    wrong_usi_vals_list = wrong_usi_vals.to_list()\n",
    "    for val in wrong_usi_vals_list:\n",
    "        correct_usi_vals.append(demo[demo['USI'].astype('str').str.contains(val)]['USI'])\n",
    "    \n",
    "    \n",
    "    for val in correct_usi_vals:\n",
    "        scores['USI'].replace(wrong.values, val, inplace = True)\n",
    "        \n",
    "correctUSIInScores(scores, demo)"
   ]
  },
  {
   "cell_type": "code",
   "execution_count": 441,
   "id": "1b87a61e",
   "metadata": {},
   "outputs": [
    {
     "data": {
      "text/plain": [
       "StudentID                         0\n",
       "Season Year                       0\n",
       "Test Date                         0\n",
       "Mathematics Score                 0\n",
       "Mathematics Met Growth Target    10\n",
       "Reading Score                     1\n",
       "Reading Met Growth Target        10\n",
       "USI                               0\n",
       "dtype: int64"
      ]
     },
     "execution_count": 441,
     "metadata": {},
     "output_type": "execute_result"
    }
   ],
   "source": []
  },
  {
   "cell_type": "code",
   "execution_count": 395,
   "id": "9deb8470",
   "metadata": {},
   "outputs": [],
   "source": [
    "correct_usi_vals = []\n",
    "for val in usi_vals:\n",
    "    correct_usi_vals.append(demo[demo['USI'].astype('str').str.contains(val)]['USI'])"
   ]
  },
  {
   "cell_type": "code",
   "execution_count": 435,
   "id": "1aab4835",
   "metadata": {},
   "outputs": [
    {
     "data": {
      "text/plain": [
       "145    344193484\n",
       "Name: USI, dtype: int64"
      ]
     },
     "execution_count": 435,
     "metadata": {},
     "output_type": "execute_result"
    }
   ],
   "source": [
    "wrong"
   ]
  },
  {
   "cell_type": "code",
   "execution_count": 436,
   "id": "2a209d66",
   "metadata": {},
   "outputs": [
    {
     "data": {
      "text/plain": [
       "3441934847"
      ]
     },
     "execution_count": 436,
     "metadata": {},
     "output_type": "execute_result"
    }
   ],
   "source": [
    "scores['USI'].replace(wrong.values, correct_usi_vals[0])[145]"
   ]
  },
  {
   "cell_type": "code",
   "execution_count": 415,
   "id": "eb5490c0",
   "metadata": {},
   "outputs": [
    {
     "data": {
      "text/plain": [
       "2    3441934847\n",
       "Name: USI, dtype: int64"
      ]
     },
     "execution_count": 415,
     "metadata": {},
     "output_type": "execute_result"
    }
   ],
   "source": [
    "correct_usi_vals[0]"
   ]
  },
  {
   "cell_type": "code",
   "execution_count": 345,
   "id": "0f2d0b6e",
   "metadata": {},
   "outputs": [
    {
     "data": {
      "text/html": [
       "<div>\n",
       "<style scoped>\n",
       "    .dataframe tbody tr th:only-of-type {\n",
       "        vertical-align: middle;\n",
       "    }\n",
       "\n",
       "    .dataframe tbody tr th {\n",
       "        vertical-align: top;\n",
       "    }\n",
       "\n",
       "    .dataframe thead th {\n",
       "        text-align: right;\n",
       "    }\n",
       "</style>\n",
       "<table border=\"1\" class=\"dataframe\">\n",
       "  <thead>\n",
       "    <tr style=\"text-align: right;\">\n",
       "      <th></th>\n",
       "      <th>LocalStudentID</th>\n",
       "      <th>Name</th>\n",
       "      <th>Sex</th>\n",
       "      <th>CurrentGradeLevel</th>\n",
       "      <th>RaceEthnicity</th>\n",
       "      <th>IEP</th>\n",
       "      <th>AtRisk</th>\n",
       "      <th>LastName</th>\n",
       "      <th>FirstName</th>\n",
       "    </tr>\n",
       "    <tr>\n",
       "      <th>USI</th>\n",
       "      <th></th>\n",
       "      <th></th>\n",
       "      <th></th>\n",
       "      <th></th>\n",
       "      <th></th>\n",
       "      <th></th>\n",
       "      <th></th>\n",
       "      <th></th>\n",
       "      <th></th>\n",
       "    </tr>\n",
       "  </thead>\n",
       "  <tbody>\n",
       "    <tr>\n",
       "      <th>2239664225</th>\n",
       "      <td>10001</td>\n",
       "      <td>Palmer, Keke</td>\n",
       "      <td>F</td>\n",
       "      <td>6</td>\n",
       "      <td>Hispanic/Latino</td>\n",
       "      <td>No IEP</td>\n",
       "      <td>Not At-Risk</td>\n",
       "      <td>Palmer</td>\n",
       "      <td>Keke</td>\n",
       "    </tr>\n",
       "    <tr>\n",
       "      <th>2650023531</th>\n",
       "      <td>10002</td>\n",
       "      <td>Garson, Greer</td>\n",
       "      <td>F</td>\n",
       "      <td>6</td>\n",
       "      <td>White</td>\n",
       "      <td>No IEP</td>\n",
       "      <td>At-Risk</td>\n",
       "      <td>Garson</td>\n",
       "      <td>Greer</td>\n",
       "    </tr>\n",
       "    <tr>\n",
       "      <th>3441934847</th>\n",
       "      <td>10003</td>\n",
       "      <td>Fonda, Henry</td>\n",
       "      <td>M</td>\n",
       "      <td>6</td>\n",
       "      <td>White</td>\n",
       "      <td>IEP</td>\n",
       "      <td>At-Risk</td>\n",
       "      <td>Fonda</td>\n",
       "      <td>Henry</td>\n",
       "    </tr>\n",
       "    <tr>\n",
       "      <th>4716164342</th>\n",
       "      <td>10004</td>\n",
       "      <td>Garbo, Greta</td>\n",
       "      <td>F</td>\n",
       "      <td>6</td>\n",
       "      <td>White</td>\n",
       "      <td>No IEP</td>\n",
       "      <td>At-Risk</td>\n",
       "      <td>Garbo</td>\n",
       "      <td>Greta</td>\n",
       "    </tr>\n",
       "    <tr>\n",
       "      <th>3506382949</th>\n",
       "      <td>10005</td>\n",
       "      <td>Baker, Josephine</td>\n",
       "      <td>F</td>\n",
       "      <td>6</td>\n",
       "      <td>White</td>\n",
       "      <td>No IEP</td>\n",
       "      <td>Not At-Risk</td>\n",
       "      <td>Baker</td>\n",
       "      <td>Josephine</td>\n",
       "    </tr>\n",
       "    <tr>\n",
       "      <th>...</th>\n",
       "      <td>...</td>\n",
       "      <td>...</td>\n",
       "      <td>...</td>\n",
       "      <td>...</td>\n",
       "      <td>...</td>\n",
       "      <td>...</td>\n",
       "      <td>...</td>\n",
       "      <td>...</td>\n",
       "      <td>...</td>\n",
       "    </tr>\n",
       "    <tr>\n",
       "      <th>4750973818</th>\n",
       "      <td>10464</td>\n",
       "      <td>Watson, Emma</td>\n",
       "      <td>F</td>\n",
       "      <td>7</td>\n",
       "      <td>White</td>\n",
       "      <td>No IEP</td>\n",
       "      <td>At-Risk</td>\n",
       "      <td>Watson</td>\n",
       "      <td>Emma</td>\n",
       "    </tr>\n",
       "    <tr>\n",
       "      <th>1447613002</th>\n",
       "      <td>10465</td>\n",
       "      <td>Robbie, Margot</td>\n",
       "      <td>F</td>\n",
       "      <td>8</td>\n",
       "      <td>White</td>\n",
       "      <td>No IEP</td>\n",
       "      <td>Not At-Risk</td>\n",
       "      <td>Robbie</td>\n",
       "      <td>Margot</td>\n",
       "    </tr>\n",
       "    <tr>\n",
       "      <th>8930493455</th>\n",
       "      <td>10466</td>\n",
       "      <td>Woodley, Shailene</td>\n",
       "      <td>F</td>\n",
       "      <td>8</td>\n",
       "      <td>Black or African American</td>\n",
       "      <td>No IEP</td>\n",
       "      <td>At-Risk</td>\n",
       "      <td>Woodley</td>\n",
       "      <td>Shailene</td>\n",
       "    </tr>\n",
       "    <tr>\n",
       "      <th>4292757544</th>\n",
       "      <td>10467</td>\n",
       "      <td>Morgan, Vanessa</td>\n",
       "      <td>F</td>\n",
       "      <td>10</td>\n",
       "      <td>Black or African American</td>\n",
       "      <td>No IEP</td>\n",
       "      <td>Not At-Risk</td>\n",
       "      <td>Morgan</td>\n",
       "      <td>Vanessa</td>\n",
       "    </tr>\n",
       "    <tr>\n",
       "      <th>2768189192</th>\n",
       "      <td>10468</td>\n",
       "      <td>Lovato, Demi</td>\n",
       "      <td>F</td>\n",
       "      <td>8</td>\n",
       "      <td>Black or African American</td>\n",
       "      <td>No IEP</td>\n",
       "      <td>At-Risk</td>\n",
       "      <td>Lovato</td>\n",
       "      <td>Demi</td>\n",
       "    </tr>\n",
       "  </tbody>\n",
       "</table>\n",
       "<p>426 rows × 9 columns</p>\n",
       "</div>"
      ],
      "text/plain": [
       "            LocalStudentID               Name Sex  CurrentGradeLevel  \\\n",
       "USI                                                                    \n",
       "2239664225           10001       Palmer, Keke   F                  6   \n",
       "2650023531           10002      Garson, Greer   F                  6   \n",
       "3441934847           10003       Fonda, Henry   M                  6   \n",
       "4716164342           10004       Garbo, Greta   F                  6   \n",
       "3506382949           10005   Baker, Josephine   F                  6   \n",
       "...                    ...                ...  ..                ...   \n",
       "4750973818           10464       Watson, Emma   F                  7   \n",
       "1447613002           10465     Robbie, Margot   F                  8   \n",
       "8930493455           10466  Woodley, Shailene   F                  8   \n",
       "4292757544           10467    Morgan, Vanessa   F                 10   \n",
       "2768189192           10468       Lovato, Demi   F                  8   \n",
       "\n",
       "                        RaceEthnicity     IEP       AtRisk LastName  FirstName  \n",
       "USI                                                                             \n",
       "2239664225            Hispanic/Latino  No IEP  Not At-Risk   Palmer       Keke  \n",
       "2650023531                      White  No IEP      At-Risk   Garson      Greer  \n",
       "3441934847                      White     IEP      At-Risk    Fonda      Henry  \n",
       "4716164342                      White  No IEP      At-Risk    Garbo      Greta  \n",
       "3506382949                      White  No IEP  Not At-Risk    Baker  Josephine  \n",
       "...                               ...     ...          ...      ...        ...  \n",
       "4750973818                      White  No IEP      At-Risk   Watson       Emma  \n",
       "1447613002                      White  No IEP  Not At-Risk   Robbie     Margot  \n",
       "8930493455  Black or African American  No IEP      At-Risk  Woodley   Shailene  \n",
       "4292757544  Black or African American  No IEP  Not At-Risk   Morgan    Vanessa  \n",
       "2768189192  Black or African American  No IEP      At-Risk   Lovato       Demi  \n",
       "\n",
       "[426 rows x 9 columns]"
      ]
     },
     "execution_count": 345,
     "metadata": {},
     "output_type": "execute_result"
    }
   ],
   "source": [
    "#demo.reset_index(inplace = True)\n",
    "demo.set_index('USI')"
   ]
  },
  {
   "cell_type": "code",
   "execution_count": 371,
   "id": "5e49a018",
   "metadata": {},
   "outputs": [
    {
     "ename": "TypeError",
     "evalue": "first argument must be string or compiled pattern",
     "output_type": "error",
     "traceback": [
      "\u001b[1;31m---------------------------------------------------------------------------\u001b[0m",
      "\u001b[1;31mTypeError\u001b[0m                                 Traceback (most recent call last)",
      "\u001b[1;32m<ipython-input-371-11fc56b54c91>\u001b[0m in \u001b[0;36m<module>\u001b[1;34m\u001b[0m\n\u001b[1;32m----> 1\u001b[1;33m \u001b[0mdemo\u001b[0m\u001b[1;33m.\u001b[0m\u001b[0mUSI\u001b[0m\u001b[1;33m.\u001b[0m\u001b[0mastype\u001b[0m\u001b[1;33m(\u001b[0m\u001b[1;34m'str'\u001b[0m\u001b[1;33m)\u001b[0m\u001b[1;33m.\u001b[0m\u001b[0mstr\u001b[0m\u001b[1;33m.\u001b[0m\u001b[0mcontains\u001b[0m\u001b[1;33m(\u001b[0m\u001b[0musi_vals\u001b[0m\u001b[1;33m[\u001b[0m\u001b[1;36m0\u001b[0m\u001b[1;33m]\u001b[0m\u001b[1;33m)\u001b[0m\u001b[1;33m\u001b[0m\u001b[1;33m\u001b[0m\u001b[0m\n\u001b[0m",
      "\u001b[1;32m~\\anaconda3\\lib\\site-packages\\pandas\\core\\strings\\accessor.py\u001b[0m in \u001b[0;36mwrapper\u001b[1;34m(self, *args, **kwargs)\u001b[0m\n\u001b[0;32m     99\u001b[0m                 )\n\u001b[0;32m    100\u001b[0m                 \u001b[1;32mraise\u001b[0m \u001b[0mTypeError\u001b[0m\u001b[1;33m(\u001b[0m\u001b[0mmsg\u001b[0m\u001b[1;33m)\u001b[0m\u001b[1;33m\u001b[0m\u001b[1;33m\u001b[0m\u001b[0m\n\u001b[1;32m--> 101\u001b[1;33m             \u001b[1;32mreturn\u001b[0m \u001b[0mfunc\u001b[0m\u001b[1;33m(\u001b[0m\u001b[0mself\u001b[0m\u001b[1;33m,\u001b[0m \u001b[1;33m*\u001b[0m\u001b[0margs\u001b[0m\u001b[1;33m,\u001b[0m \u001b[1;33m**\u001b[0m\u001b[0mkwargs\u001b[0m\u001b[1;33m)\u001b[0m\u001b[1;33m\u001b[0m\u001b[1;33m\u001b[0m\u001b[0m\n\u001b[0m\u001b[0;32m    102\u001b[0m \u001b[1;33m\u001b[0m\u001b[0m\n\u001b[0;32m    103\u001b[0m         \u001b[0mwrapper\u001b[0m\u001b[1;33m.\u001b[0m\u001b[0m__name__\u001b[0m \u001b[1;33m=\u001b[0m \u001b[0mfunc_name\u001b[0m\u001b[1;33m\u001b[0m\u001b[1;33m\u001b[0m\u001b[0m\n",
      "\u001b[1;32m~\\anaconda3\\lib\\site-packages\\pandas\\core\\strings\\accessor.py\u001b[0m in \u001b[0;36mcontains\u001b[1;34m(self, pat, case, flags, na, regex)\u001b[0m\n\u001b[0;32m   1108\u001b[0m         \u001b[0mdtype\u001b[0m\u001b[1;33m:\u001b[0m \u001b[0mbool\u001b[0m\u001b[1;33m\u001b[0m\u001b[1;33m\u001b[0m\u001b[0m\n\u001b[0;32m   1109\u001b[0m         \"\"\"\n\u001b[1;32m-> 1110\u001b[1;33m         \u001b[0mresult\u001b[0m \u001b[1;33m=\u001b[0m \u001b[0mself\u001b[0m\u001b[1;33m.\u001b[0m\u001b[0m_data\u001b[0m\u001b[1;33m.\u001b[0m\u001b[0marray\u001b[0m\u001b[1;33m.\u001b[0m\u001b[0m_str_contains\u001b[0m\u001b[1;33m(\u001b[0m\u001b[0mpat\u001b[0m\u001b[1;33m,\u001b[0m \u001b[0mcase\u001b[0m\u001b[1;33m,\u001b[0m \u001b[0mflags\u001b[0m\u001b[1;33m,\u001b[0m \u001b[0mna\u001b[0m\u001b[1;33m,\u001b[0m \u001b[0mregex\u001b[0m\u001b[1;33m)\u001b[0m\u001b[1;33m\u001b[0m\u001b[1;33m\u001b[0m\u001b[0m\n\u001b[0m\u001b[0;32m   1111\u001b[0m         \u001b[1;32mreturn\u001b[0m \u001b[0mself\u001b[0m\u001b[1;33m.\u001b[0m\u001b[0m_wrap_result\u001b[0m\u001b[1;33m(\u001b[0m\u001b[0mresult\u001b[0m\u001b[1;33m,\u001b[0m \u001b[0mfill_value\u001b[0m\u001b[1;33m=\u001b[0m\u001b[0mna\u001b[0m\u001b[1;33m,\u001b[0m \u001b[0mreturns_string\u001b[0m\u001b[1;33m=\u001b[0m\u001b[1;32mFalse\u001b[0m\u001b[1;33m)\u001b[0m\u001b[1;33m\u001b[0m\u001b[1;33m\u001b[0m\u001b[0m\n\u001b[0;32m   1112\u001b[0m \u001b[1;33m\u001b[0m\u001b[0m\n",
      "\u001b[1;32m~\\anaconda3\\lib\\site-packages\\pandas\\core\\strings\\object_array.py\u001b[0m in \u001b[0;36m_str_contains\u001b[1;34m(self, pat, case, flags, na, regex)\u001b[0m\n\u001b[0;32m    108\u001b[0m                 \u001b[0mflags\u001b[0m \u001b[1;33m|=\u001b[0m \u001b[0mre\u001b[0m\u001b[1;33m.\u001b[0m\u001b[0mIGNORECASE\u001b[0m\u001b[1;33m\u001b[0m\u001b[1;33m\u001b[0m\u001b[0m\n\u001b[0;32m    109\u001b[0m \u001b[1;33m\u001b[0m\u001b[0m\n\u001b[1;32m--> 110\u001b[1;33m             \u001b[0mregex\u001b[0m \u001b[1;33m=\u001b[0m \u001b[0mre\u001b[0m\u001b[1;33m.\u001b[0m\u001b[0mcompile\u001b[0m\u001b[1;33m(\u001b[0m\u001b[0mpat\u001b[0m\u001b[1;33m,\u001b[0m \u001b[0mflags\u001b[0m\u001b[1;33m=\u001b[0m\u001b[0mflags\u001b[0m\u001b[1;33m)\u001b[0m\u001b[1;33m\u001b[0m\u001b[1;33m\u001b[0m\u001b[0m\n\u001b[0m\u001b[0;32m    111\u001b[0m \u001b[1;33m\u001b[0m\u001b[0m\n\u001b[0;32m    112\u001b[0m             \u001b[1;32mif\u001b[0m \u001b[0mregex\u001b[0m\u001b[1;33m.\u001b[0m\u001b[0mgroups\u001b[0m \u001b[1;33m>\u001b[0m \u001b[1;36m0\u001b[0m\u001b[1;33m:\u001b[0m\u001b[1;33m\u001b[0m\u001b[1;33m\u001b[0m\u001b[0m\n",
      "\u001b[1;32m~\\anaconda3\\lib\\re.py\u001b[0m in \u001b[0;36mcompile\u001b[1;34m(pattern, flags)\u001b[0m\n\u001b[0;32m    250\u001b[0m \u001b[1;32mdef\u001b[0m \u001b[0mcompile\u001b[0m\u001b[1;33m(\u001b[0m\u001b[0mpattern\u001b[0m\u001b[1;33m,\u001b[0m \u001b[0mflags\u001b[0m\u001b[1;33m=\u001b[0m\u001b[1;36m0\u001b[0m\u001b[1;33m)\u001b[0m\u001b[1;33m:\u001b[0m\u001b[1;33m\u001b[0m\u001b[1;33m\u001b[0m\u001b[0m\n\u001b[0;32m    251\u001b[0m     \u001b[1;34m\"Compile a regular expression pattern, returning a Pattern object.\"\u001b[0m\u001b[1;33m\u001b[0m\u001b[1;33m\u001b[0m\u001b[0m\n\u001b[1;32m--> 252\u001b[1;33m     \u001b[1;32mreturn\u001b[0m \u001b[0m_compile\u001b[0m\u001b[1;33m(\u001b[0m\u001b[0mpattern\u001b[0m\u001b[1;33m,\u001b[0m \u001b[0mflags\u001b[0m\u001b[1;33m)\u001b[0m\u001b[1;33m\u001b[0m\u001b[1;33m\u001b[0m\u001b[0m\n\u001b[0m\u001b[0;32m    253\u001b[0m \u001b[1;33m\u001b[0m\u001b[0m\n\u001b[0;32m    254\u001b[0m \u001b[1;32mdef\u001b[0m \u001b[0mpurge\u001b[0m\u001b[1;33m(\u001b[0m\u001b[1;33m)\u001b[0m\u001b[1;33m:\u001b[0m\u001b[1;33m\u001b[0m\u001b[1;33m\u001b[0m\u001b[0m\n",
      "\u001b[1;32m~\\anaconda3\\lib\\re.py\u001b[0m in \u001b[0;36m_compile\u001b[1;34m(pattern, flags)\u001b[0m\n\u001b[0;32m    301\u001b[0m         \u001b[1;32mreturn\u001b[0m \u001b[0mpattern\u001b[0m\u001b[1;33m\u001b[0m\u001b[1;33m\u001b[0m\u001b[0m\n\u001b[0;32m    302\u001b[0m     \u001b[1;32mif\u001b[0m \u001b[1;32mnot\u001b[0m \u001b[0msre_compile\u001b[0m\u001b[1;33m.\u001b[0m\u001b[0misstring\u001b[0m\u001b[1;33m(\u001b[0m\u001b[0mpattern\u001b[0m\u001b[1;33m)\u001b[0m\u001b[1;33m:\u001b[0m\u001b[1;33m\u001b[0m\u001b[1;33m\u001b[0m\u001b[0m\n\u001b[1;32m--> 303\u001b[1;33m         \u001b[1;32mraise\u001b[0m \u001b[0mTypeError\u001b[0m\u001b[1;33m(\u001b[0m\u001b[1;34m\"first argument must be string or compiled pattern\"\u001b[0m\u001b[1;33m)\u001b[0m\u001b[1;33m\u001b[0m\u001b[1;33m\u001b[0m\u001b[0m\n\u001b[0m\u001b[0;32m    304\u001b[0m     \u001b[0mp\u001b[0m \u001b[1;33m=\u001b[0m \u001b[0msre_compile\u001b[0m\u001b[1;33m.\u001b[0m\u001b[0mcompile\u001b[0m\u001b[1;33m(\u001b[0m\u001b[0mpattern\u001b[0m\u001b[1;33m,\u001b[0m \u001b[0mflags\u001b[0m\u001b[1;33m)\u001b[0m\u001b[1;33m\u001b[0m\u001b[1;33m\u001b[0m\u001b[0m\n\u001b[0;32m    305\u001b[0m     \u001b[1;32mif\u001b[0m \u001b[1;32mnot\u001b[0m \u001b[1;33m(\u001b[0m\u001b[0mflags\u001b[0m \u001b[1;33m&\u001b[0m \u001b[0mDEBUG\u001b[0m\u001b[1;33m)\u001b[0m\u001b[1;33m:\u001b[0m\u001b[1;33m\u001b[0m\u001b[1;33m\u001b[0m\u001b[0m\n",
      "\u001b[1;31mTypeError\u001b[0m: first argument must be string or compiled pattern"
     ]
    }
   ],
   "source": [
    "demo.USI.astype('str').str.contains(usi_vals[0])"
   ]
  },
  {
   "cell_type": "code",
   "execution_count": 359,
   "id": "f2b3b7d0",
   "metadata": {},
   "outputs": [
    {
     "ename": "TypeError",
     "evalue": "'StringMethods' object is not callable",
     "output_type": "error",
     "traceback": [
      "\u001b[1;31m---------------------------------------------------------------------------\u001b[0m",
      "\u001b[1;31mTypeError\u001b[0m                                 Traceback (most recent call last)",
      "\u001b[1;32m<ipython-input-359-f5640a6c1ab0>\u001b[0m in \u001b[0;36m<module>\u001b[1;34m\u001b[0m\n\u001b[1;32m----> 1\u001b[1;33m \u001b[0mscores\u001b[0m\u001b[1;33m[\u001b[0m\u001b[1;34m'Season Year'\u001b[0m\u001b[1;33m]\u001b[0m\u001b[1;33m.\u001b[0m\u001b[0mstr\u001b[0m\u001b[1;33m(\u001b[0m\u001b[1;33m)\u001b[0m\u001b[1;33m\u001b[0m\u001b[1;33m\u001b[0m\u001b[0m\n\u001b[0m",
      "\u001b[1;31mTypeError\u001b[0m: 'StringMethods' object is not callable"
     ]
    }
   ],
   "source": [
    "scores['Season Year'].str."
   ]
  },
  {
   "cell_type": "code",
   "execution_count": 278,
   "id": "84deb2bd",
   "metadata": {},
   "outputs": [
    {
     "data": {
      "text/plain": [
       "array(['2020-09-15T00:00:00.000000000'], dtype='datetime64[ns]')"
      ]
     },
     "execution_count": 278,
     "metadata": {},
     "output_type": "execute_result"
    }
   ],
   "source": [
    "scores['Test Date'].unique()"
   ]
  },
  {
   "cell_type": "code",
   "execution_count": 284,
   "id": "f1fc8238",
   "metadata": {},
   "outputs": [
    {
     "data": {
      "image/png": "[encoded data removed]",
      "text/plain": [
       "<Figure size 432x288 with 1 Axes>"
      ]
     },
     "metadata": {
      "needs_background": "light"
     },
     "output_type": "display_data"
    }
   ],
   "source": [
    "scores['Mathematics Score'].plot(kind = 'hist');"
   ]
  },
  {
   "cell_type": "code",
   "execution_count": 287,
   "id": "7248de7d",
   "metadata": {},
   "outputs": [
    {
     "data": {
      "text/html": [
       "<div>\n",
       "<style scoped>\n",
       "    .dataframe tbody tr th:only-of-type {\n",
       "        vertical-align: middle;\n",
       "    }\n",
       "\n",
       "    .dataframe tbody tr th {\n",
       "        vertical-align: top;\n",
       "    }\n",
       "\n",
       "    .dataframe thead th {\n",
       "        text-align: right;\n",
       "    }\n",
       "</style>\n",
       "<table border=\"1\" class=\"dataframe\">\n",
       "  <thead>\n",
       "    <tr style=\"text-align: right;\">\n",
       "      <th></th>\n",
       "      <th>Season Year</th>\n",
       "      <th>Test Date</th>\n",
       "      <th>Mathematics Score</th>\n",
       "      <th>Mathematics Met Growth Target</th>\n",
       "      <th>Reading Score</th>\n",
       "      <th>Reading Met Growth Target</th>\n",
       "      <th>USI</th>\n",
       "    </tr>\n",
       "    <tr>\n",
       "      <th>StudentID</th>\n",
       "      <th></th>\n",
       "      <th></th>\n",
       "      <th></th>\n",
       "      <th></th>\n",
       "      <th></th>\n",
       "      <th></th>\n",
       "      <th></th>\n",
       "    </tr>\n",
       "  </thead>\n",
       "  <tbody>\n",
       "    <tr>\n",
       "      <th>10407</th>\n",
       "      <td>Fall 2020-2021</td>\n",
       "      <td>2020-09-15</td>\n",
       "      <td>272</td>\n",
       "      <td>NaN</td>\n",
       "      <td>445.0</td>\n",
       "      <td>NaN</td>\n",
       "      <td>9.030074e+09</td>\n",
       "    </tr>\n",
       "    <tr>\n",
       "      <th>3506382949</th>\n",
       "      <td>Fall 2020-2021</td>\n",
       "      <td>2020-09-15</td>\n",
       "      <td>223</td>\n",
       "      <td>NaN</td>\n",
       "      <td>248.0</td>\n",
       "      <td>NaN</td>\n",
       "      <td>3.506383e+09</td>\n",
       "    </tr>\n",
       "    <tr>\n",
       "      <th>6679990758</th>\n",
       "      <td>Fall 2020-2021</td>\n",
       "      <td>2020-09-15</td>\n",
       "      <td>357</td>\n",
       "      <td>NaN</td>\n",
       "      <td>200.0</td>\n",
       "      <td>NaN</td>\n",
       "      <td>6.679991e+09</td>\n",
       "    </tr>\n",
       "    <tr>\n",
       "      <th>6142174436</th>\n",
       "      <td>Fall 2020-2021</td>\n",
       "      <td>2020-09-15</td>\n",
       "      <td>315</td>\n",
       "      <td>NaN</td>\n",
       "      <td>500.0</td>\n",
       "      <td>NaN</td>\n",
       "      <td>6.142174e+09</td>\n",
       "    </tr>\n",
       "    <tr>\n",
       "      <th>6085272817</th>\n",
       "      <td>Fall 2020-2021</td>\n",
       "      <td>2020-09-15</td>\n",
       "      <td>425</td>\n",
       "      <td>NaN</td>\n",
       "      <td>468.0</td>\n",
       "      <td>NaN</td>\n",
       "      <td>6.085273e+09</td>\n",
       "    </tr>\n",
       "    <tr>\n",
       "      <th>7829932197</th>\n",
       "      <td>Fall 2020-2021</td>\n",
       "      <td>2020-09-15</td>\n",
       "      <td>498</td>\n",
       "      <td>NaN</td>\n",
       "      <td>344.0</td>\n",
       "      <td>NaN</td>\n",
       "      <td>7.829932e+09</td>\n",
       "    </tr>\n",
       "    <tr>\n",
       "      <th>4248438018</th>\n",
       "      <td>Fall 2020-2021</td>\n",
       "      <td>2020-09-15</td>\n",
       "      <td>337</td>\n",
       "      <td>NaN</td>\n",
       "      <td>394.0</td>\n",
       "      <td>NaN</td>\n",
       "      <td>4.248438e+09</td>\n",
       "    </tr>\n",
       "    <tr>\n",
       "      <th>4099542503</th>\n",
       "      <td>Fall 2020-2021</td>\n",
       "      <td>2020-09-15</td>\n",
       "      <td>417</td>\n",
       "      <td>NaN</td>\n",
       "      <td>448.0</td>\n",
       "      <td>NaN</td>\n",
       "      <td>4.099543e+09</td>\n",
       "    </tr>\n",
       "    <tr>\n",
       "      <th>8526377642</th>\n",
       "      <td>Fall 2020-2021</td>\n",
       "      <td>2020-09-15</td>\n",
       "      <td>492</td>\n",
       "      <td>NaN</td>\n",
       "      <td>277.0</td>\n",
       "      <td>NaN</td>\n",
       "      <td>8.526378e+09</td>\n",
       "    </tr>\n",
       "    <tr>\n",
       "      <th>9842926123</th>\n",
       "      <td>Fall 2020-2021</td>\n",
       "      <td>2020-09-15</td>\n",
       "      <td>280</td>\n",
       "      <td>NaN</td>\n",
       "      <td>266.0</td>\n",
       "      <td>NaN</td>\n",
       "      <td>9.842926e+09</td>\n",
       "    </tr>\n",
       "  </tbody>\n",
       "</table>\n",
       "</div>"
      ],
      "text/plain": [
       "               Season Year  Test Date  Mathematics Score  \\\n",
       "StudentID                                                  \n",
       "10407       Fall 2020-2021 2020-09-15                272   \n",
       "3506382949  Fall 2020-2021 2020-09-15                223   \n",
       "6679990758  Fall 2020-2021 2020-09-15                357   \n",
       "6142174436  Fall 2020-2021 2020-09-15                315   \n",
       "6085272817  Fall 2020-2021 2020-09-15                425   \n",
       "7829932197  Fall 2020-2021 2020-09-15                498   \n",
       "4248438018  Fall 2020-2021 2020-09-15                337   \n",
       "4099542503  Fall 2020-2021 2020-09-15                417   \n",
       "8526377642  Fall 2020-2021 2020-09-15                492   \n",
       "9842926123  Fall 2020-2021 2020-09-15                280   \n",
       "\n",
       "           Mathematics Met Growth Target  Reading Score  \\\n",
       "StudentID                                                 \n",
       "10407                                NaN          445.0   \n",
       "3506382949                           NaN          248.0   \n",
       "6679990758                           NaN          200.0   \n",
       "6142174436                           NaN          500.0   \n",
       "6085272817                           NaN          468.0   \n",
       "7829932197                           NaN          344.0   \n",
       "4248438018                           NaN          394.0   \n",
       "4099542503                           NaN          448.0   \n",
       "8526377642                           NaN          277.0   \n",
       "9842926123                           NaN          266.0   \n",
       "\n",
       "           Reading Met Growth Target           USI  \n",
       "StudentID                                           \n",
       "10407                            NaN  9.030074e+09  \n",
       "3506382949                       NaN  3.506383e+09  \n",
       "6679990758                       NaN  6.679991e+09  \n",
       "6142174436                       NaN  6.142174e+09  \n",
       "6085272817                       NaN  6.085273e+09  \n",
       "7829932197                       NaN  7.829932e+09  \n",
       "4248438018                       NaN  4.248438e+09  \n",
       "4099542503                       NaN  4.099543e+09  \n",
       "8526377642                       NaN  8.526378e+09  \n",
       "9842926123                       NaN  9.842926e+09  "
      ]
     },
     "execution_count": 287,
     "metadata": {},
     "output_type": "execute_result"
    }
   ],
   "source": [
    "#let's take a look at the null values in this value\n",
    "scores[scores['Mathematics Met Growth Target'].isna()]"
   ]
  },
  {
   "cell_type": "code",
   "execution_count": 257,
   "id": "ab721deb",
   "metadata": {},
   "outputs": [],
   "source": [
    "scores.reset_index(inplace = True)"
   ]
  },
  {
   "cell_type": "code",
   "execution_count": 258,
   "id": "c164a150",
   "metadata": {},
   "outputs": [],
   "source": [
    "#scores.reset_index(inplace = True)\n",
    "scores.drop_duplicates(subset = ['StudentID'], inplace = True)"
   ]
  },
  {
   "cell_type": "code",
   "execution_count": 259,
   "id": "aa43a787",
   "metadata": {},
   "outputs": [],
   "source": [
    "scores.set_index('StudentID', inplace = True)"
   ]
  },
  {
   "cell_type": "code",
   "execution_count": 224,
   "id": "cd41003d",
   "metadata": {},
   "outputs": [],
   "source": [
    "scores.loc[indexes_to_correct_id,'USI'] = scores.loc[indexes_to_correct_id, 'StudentID']"
   ]
  },
  {
   "cell_type": "code",
   "execution_count": 222,
   "id": "44f8421c",
   "metadata": {},
   "outputs": [
    {
     "data": {
      "text/plain": [
       "RangeIndex(start=0, stop=426, step=1)"
      ]
     },
     "execution_count": 222,
     "metadata": {},
     "output_type": "execute_result"
    }
   ],
   "source": [
    "scores.index()"
   ]
  },
  {
   "cell_type": "code",
   "execution_count": 229,
   "id": "bdb9f2b6",
   "metadata": {},
   "outputs": [
    {
     "ename": "KeyError",
     "evalue": "\"None of ['LocalStudentID'] are in the columns\"",
     "output_type": "error",
     "traceback": [
      "\u001b[1;31m---------------------------------------------------------------------------\u001b[0m",
      "\u001b[1;31mKeyError\u001b[0m                                  Traceback (most recent call last)",
      "\u001b[1;32m<ipython-input-229-82967c432f4c>\u001b[0m in \u001b[0;36m<module>\u001b[1;34m\u001b[0m\n\u001b[1;32m----> 1\u001b[1;33m \u001b[0mdemo\u001b[0m\u001b[1;33m.\u001b[0m\u001b[0mset_index\u001b[0m\u001b[1;33m(\u001b[0m\u001b[1;34m'LocalStudentID'\u001b[0m\u001b[1;33m,\u001b[0m \u001b[0minplace\u001b[0m \u001b[1;33m=\u001b[0m\u001b[1;32mTrue\u001b[0m\u001b[1;33m)\u001b[0m\u001b[1;33m\u001b[0m\u001b[1;33m\u001b[0m\u001b[0m\n\u001b[0m",
      "\u001b[1;32m~\\anaconda3\\lib\\site-packages\\pandas\\core\\frame.py\u001b[0m in \u001b[0;36mset_index\u001b[1;34m(self, keys, drop, append, inplace, verify_integrity)\u001b[0m\n\u001b[0;32m   4725\u001b[0m \u001b[1;33m\u001b[0m\u001b[0m\n\u001b[0;32m   4726\u001b[0m         \u001b[1;32mif\u001b[0m \u001b[0mmissing\u001b[0m\u001b[1;33m:\u001b[0m\u001b[1;33m\u001b[0m\u001b[1;33m\u001b[0m\u001b[0m\n\u001b[1;32m-> 4727\u001b[1;33m             \u001b[1;32mraise\u001b[0m \u001b[0mKeyError\u001b[0m\u001b[1;33m(\u001b[0m\u001b[1;34mf\"None of {missing} are in the columns\"\u001b[0m\u001b[1;33m)\u001b[0m\u001b[1;33m\u001b[0m\u001b[1;33m\u001b[0m\u001b[0m\n\u001b[0m\u001b[0;32m   4728\u001b[0m \u001b[1;33m\u001b[0m\u001b[0m\n\u001b[0;32m   4729\u001b[0m         \u001b[1;32mif\u001b[0m \u001b[0minplace\u001b[0m\u001b[1;33m:\u001b[0m\u001b[1;33m\u001b[0m\u001b[1;33m\u001b[0m\u001b[0m\n",
      "\u001b[1;31mKeyError\u001b[0m: \"None of ['LocalStudentID'] are in the columns\""
     ]
    }
   ],
   "source": [
    "demo.set_index('LocalStudentID', inplace =True)"
   ]
  },
  {
   "cell_type": "code",
   "execution_count": 160,
   "id": "90cd0f1c",
   "metadata": {},
   "outputs": [],
   "source": [
    "index = scores['USI'].index[scores['USI'].apply(np.isnan)]"
   ]
  },
  {
   "cell_type": "code",
   "execution_count": 191,
   "id": "43c52b89",
   "metadata": {},
   "outputs": [
    {
     "data": {
      "text/plain": [
       "StudentID\n",
       "10313    4813781799\n",
       "10314    2382127099\n",
       "10315    5307030222\n",
       "10316    1047809469\n",
       "10317    6287524177\n",
       "            ...    \n",
       "10464    4750973818\n",
       "10464    4750973818\n",
       "10466    8930493455\n",
       "10467    4292757544\n",
       "10468    2768189192\n",
       "Name: USI, Length: 144, dtype: int64"
      ]
     },
     "execution_count": 191,
     "metadata": {},
     "output_type": "execute_result"
    }
   ],
   "source": [
    "demo.loc[index, 'USI']"
   ]
  },
  {
   "cell_type": "code",
   "execution_count": 250,
   "id": "2aec9539",
   "metadata": {},
   "outputs": [],
   "source": [
    "fill_usi = demo.loc[index, 'USI']"
   ]
  },
  {
   "cell_type": "code",
   "execution_count": 260,
   "id": "f3220255",
   "metadata": {},
   "outputs": [],
   "source": [
    "scores.loc[fill_usi.index, 'USI'] = fill_usi"
   ]
  },
  {
   "cell_type": "code",
   "execution_count": 262,
   "id": "4b2e8674",
   "metadata": {},
   "outputs": [
    {
     "data": {
      "text/plain": [
       "Season Year                       0\n",
       "Test Date                         0\n",
       "Mathematics Score                 0\n",
       "Mathematics Met Growth Target    10\n",
       "Reading Score                     1\n",
       "Reading Met Growth Target        10\n",
       "USI                               0\n",
       "dtype: int64"
      ]
     },
     "execution_count": 262,
     "metadata": {},
     "output_type": "execute_result"
    }
   ],
   "source": [
    "scores.isna().sum()"
   ]
  },
  {
   "cell_type": "code",
   "execution_count": 184,
   "id": "644e7749",
   "metadata": {},
   "outputs": [
    {
     "data": {
      "text/plain": [
       "Int64Index([10313, 10314, 10315, 10316, 10317, 10318, 10319, 10320, 10321,\n",
       "            10323,\n",
       "            ...\n",
       "            10461, 10462, 10463, 10464, 10464, 10464, 10464, 10466, 10467,\n",
       "            10468],\n",
       "           dtype='int64', name='StudentID', length=146)"
      ]
     },
     "execution_count": 184,
     "metadata": {},
     "output_type": "execute_result"
    }
   ],
   "source": [
    "scores.loc[index,'USI'].index"
   ]
  },
  {
   "cell_type": "code",
   "execution_count": 134,
   "id": "75e17b67",
   "metadata": {},
   "outputs": [
    {
     "data": {
      "text/plain": [
       "StudentID\n",
       "10313          True\n",
       "10314          True\n",
       "10315          True\n",
       "10316          True\n",
       "10317          True\n",
       "              ...  \n",
       "4927244715    False\n",
       "3569491602    False\n",
       "6808742534    False\n",
       "5759461002    False\n",
       "1303857013    False\n",
       "Name: USI, Length: 426, dtype: bool"
      ]
     },
     "execution_count": 134,
     "metadata": {},
     "output_type": "execute_result"
    }
   ],
   "source": [
    "scores['USI'].isna()"
   ]
  },
  {
   "cell_type": "code",
   "execution_count": 185,
   "id": "1c354a33",
   "metadata": {},
   "outputs": [
    {
     "data": {
      "text/plain": [
       "Season Year                        0\n",
       "Test Date                          0\n",
       "Mathematics Score                  0\n",
       "Mathematics Met Growth Target     10\n",
       "Reading Score                      1\n",
       "Reading Met Growth Target         10\n",
       "USI                              144\n",
       "dtype: int64"
      ]
     },
     "execution_count": 185,
     "metadata": {},
     "output_type": "execute_result"
    }
   ],
   "source": [
    "scores.isna().sum()"
   ]
  },
  {
   "cell_type": "code",
   "execution_count": 77,
   "id": "52620f83",
   "metadata": {},
   "outputs": [
    {
     "data": {
      "text/plain": [
       "0           [10313]\n",
       "1           [10314]\n",
       "2           [10315]\n",
       "3           [10316]\n",
       "4           [10317]\n",
       "           ...     \n",
       "421    [4927244715]\n",
       "422    [3569491602]\n",
       "423    [6808742534]\n",
       "424    [5759461002]\n",
       "425    [1303857013]\n",
       "Name: StudentID, Length: 426, dtype: object"
      ]
     },
     "execution_count": 77,
     "metadata": {},
     "output_type": "execute_result"
    }
   ],
   "source": [
    "scores['StudentID'].astype('str').str.split('')"
   ]
  },
  {
   "cell_type": "code",
   "execution_count": 96,
   "id": "9672a361",
   "metadata": {},
   "outputs": [],
   "source": [
    "#def correctStudentId(df):\n",
    "    \n",
    "indexes_to_correct_id = scores[scores['StudentID'].astype('str').map(len) > 6].index"
   ]
  },
  {
   "cell_type": "code",
   "execution_count": 106,
   "id": "267711c3",
   "metadata": {},
   "outputs": [
    {
     "data": {
      "text/html": [
       "<div>\n",
       "<style scoped>\n",
       "    .dataframe tbody tr th:only-of-type {\n",
       "        vertical-align: middle;\n",
       "    }\n",
       "\n",
       "    .dataframe tbody tr th {\n",
       "        vertical-align: top;\n",
       "    }\n",
       "\n",
       "    .dataframe thead th {\n",
       "        text-align: right;\n",
       "    }\n",
       "</style>\n",
       "<table border=\"1\" class=\"dataframe\">\n",
       "  <thead>\n",
       "    <tr style=\"text-align: right;\">\n",
       "      <th></th>\n",
       "      <th>LocalStudentID</th>\n",
       "      <th>USI</th>\n",
       "      <th>Name</th>\n",
       "      <th>Sex</th>\n",
       "      <th>CurrentGradeLevel</th>\n",
       "      <th>RaceEthnicity</th>\n",
       "      <th>IEP</th>\n",
       "      <th>AtRisk</th>\n",
       "      <th>LastName</th>\n",
       "      <th>FirstName</th>\n",
       "    </tr>\n",
       "  </thead>\n",
       "  <tbody>\n",
       "    <tr>\n",
       "      <th>0</th>\n",
       "      <td>10001</td>\n",
       "      <td>2239664225</td>\n",
       "      <td>Palmer, Keke</td>\n",
       "      <td>F</td>\n",
       "      <td>6</td>\n",
       "      <td>Hispanic/Latino</td>\n",
       "      <td>No IEP</td>\n",
       "      <td>Not At-Risk</td>\n",
       "      <td>Palmer</td>\n",
       "      <td>Keke</td>\n",
       "    </tr>\n",
       "    <tr>\n",
       "      <th>1</th>\n",
       "      <td>10002</td>\n",
       "      <td>2650023531</td>\n",
       "      <td>Garson, Greer</td>\n",
       "      <td>F</td>\n",
       "      <td>6</td>\n",
       "      <td>White</td>\n",
       "      <td>No IEP</td>\n",
       "      <td>At-Risk</td>\n",
       "      <td>Garson</td>\n",
       "      <td>Greer</td>\n",
       "    </tr>\n",
       "    <tr>\n",
       "      <th>2</th>\n",
       "      <td>10003</td>\n",
       "      <td>3441934847</td>\n",
       "      <td>Fonda, Henry</td>\n",
       "      <td>M</td>\n",
       "      <td>6</td>\n",
       "      <td>White</td>\n",
       "      <td>IEP</td>\n",
       "      <td>At-Risk</td>\n",
       "      <td>Fonda</td>\n",
       "      <td>Henry</td>\n",
       "    </tr>\n",
       "    <tr>\n",
       "      <th>3</th>\n",
       "      <td>10004</td>\n",
       "      <td>4716164342</td>\n",
       "      <td>Garbo, Greta</td>\n",
       "      <td>F</td>\n",
       "      <td>6</td>\n",
       "      <td>White</td>\n",
       "      <td>No IEP</td>\n",
       "      <td>At-Risk</td>\n",
       "      <td>Garbo</td>\n",
       "      <td>Greta</td>\n",
       "    </tr>\n",
       "    <tr>\n",
       "      <th>4</th>\n",
       "      <td>10005</td>\n",
       "      <td>3506382949</td>\n",
       "      <td>Baker, Josephine</td>\n",
       "      <td>F</td>\n",
       "      <td>6</td>\n",
       "      <td>White</td>\n",
       "      <td>No IEP</td>\n",
       "      <td>Not At-Risk</td>\n",
       "      <td>Baker</td>\n",
       "      <td>Josephine</td>\n",
       "    </tr>\n",
       "    <tr>\n",
       "      <th>...</th>\n",
       "      <td>...</td>\n",
       "      <td>...</td>\n",
       "      <td>...</td>\n",
       "      <td>...</td>\n",
       "      <td>...</td>\n",
       "      <td>...</td>\n",
       "      <td>...</td>\n",
       "      <td>...</td>\n",
       "      <td>...</td>\n",
       "      <td>...</td>\n",
       "    </tr>\n",
       "    <tr>\n",
       "      <th>421</th>\n",
       "      <td>10464</td>\n",
       "      <td>4750973818</td>\n",
       "      <td>Watson, Emma</td>\n",
       "      <td>F</td>\n",
       "      <td>7</td>\n",
       "      <td>White</td>\n",
       "      <td>No IEP</td>\n",
       "      <td>At-Risk</td>\n",
       "      <td>Watson</td>\n",
       "      <td>Emma</td>\n",
       "    </tr>\n",
       "    <tr>\n",
       "      <th>422</th>\n",
       "      <td>10465</td>\n",
       "      <td>1447613002</td>\n",
       "      <td>Robbie, Margot</td>\n",
       "      <td>F</td>\n",
       "      <td>8</td>\n",
       "      <td>White</td>\n",
       "      <td>No IEP</td>\n",
       "      <td>Not At-Risk</td>\n",
       "      <td>Robbie</td>\n",
       "      <td>Margot</td>\n",
       "    </tr>\n",
       "    <tr>\n",
       "      <th>423</th>\n",
       "      <td>10466</td>\n",
       "      <td>8930493455</td>\n",
       "      <td>Woodley, Shailene</td>\n",
       "      <td>F</td>\n",
       "      <td>8</td>\n",
       "      <td>Black or African American</td>\n",
       "      <td>No IEP</td>\n",
       "      <td>At-Risk</td>\n",
       "      <td>Woodley</td>\n",
       "      <td>Shailene</td>\n",
       "    </tr>\n",
       "    <tr>\n",
       "      <th>424</th>\n",
       "      <td>10467</td>\n",
       "      <td>4292757544</td>\n",
       "      <td>Morgan, Vanessa</td>\n",
       "      <td>F</td>\n",
       "      <td>10</td>\n",
       "      <td>Black or African American</td>\n",
       "      <td>No IEP</td>\n",
       "      <td>Not At-Risk</td>\n",
       "      <td>Morgan</td>\n",
       "      <td>Vanessa</td>\n",
       "    </tr>\n",
       "    <tr>\n",
       "      <th>425</th>\n",
       "      <td>10468</td>\n",
       "      <td>2768189192</td>\n",
       "      <td>Lovato, Demi</td>\n",
       "      <td>F</td>\n",
       "      <td>8</td>\n",
       "      <td>Black or African American</td>\n",
       "      <td>No IEP</td>\n",
       "      <td>At-Risk</td>\n",
       "      <td>Lovato</td>\n",
       "      <td>Demi</td>\n",
       "    </tr>\n",
       "  </tbody>\n",
       "</table>\n",
       "<p>426 rows × 10 columns</p>\n",
       "</div>"
      ],
      "text/plain": [
       "     LocalStudentID         USI               Name Sex  CurrentGradeLevel  \\\n",
       "0             10001  2239664225       Palmer, Keke   F                  6   \n",
       "1             10002  2650023531      Garson, Greer   F                  6   \n",
       "2             10003  3441934847       Fonda, Henry   M                  6   \n",
       "3             10004  4716164342       Garbo, Greta   F                  6   \n",
       "4             10005  3506382949   Baker, Josephine   F                  6   \n",
       "..              ...         ...                ...  ..                ...   \n",
       "421           10464  4750973818       Watson, Emma   F                  7   \n",
       "422           10465  1447613002     Robbie, Margot   F                  8   \n",
       "423           10466  8930493455  Woodley, Shailene   F                  8   \n",
       "424           10467  4292757544    Morgan, Vanessa   F                 10   \n",
       "425           10468  2768189192       Lovato, Demi   F                  8   \n",
       "\n",
       "                 RaceEthnicity     IEP       AtRisk LastName  FirstName  \n",
       "0              Hispanic/Latino  No IEP  Not At-Risk   Palmer       Keke  \n",
       "1                        White  No IEP      At-Risk   Garson      Greer  \n",
       "2                        White     IEP      At-Risk    Fonda      Henry  \n",
       "3                        White  No IEP      At-Risk    Garbo      Greta  \n",
       "4                        White  No IEP  Not At-Risk    Baker  Josephine  \n",
       "..                         ...     ...          ...      ...        ...  \n",
       "421                      White  No IEP      At-Risk   Watson       Emma  \n",
       "422                      White  No IEP  Not At-Risk   Robbie     Margot  \n",
       "423  Black or African American  No IEP      At-Risk  Woodley   Shailene  \n",
       "424  Black or African American  No IEP  Not At-Risk   Morgan    Vanessa  \n",
       "425  Black or African American  No IEP      At-Risk   Lovato       Demi  \n",
       "\n",
       "[426 rows x 10 columns]"
      ]
     },
     "execution_count": 106,
     "metadata": {},
     "output_type": "execute_result"
    }
   ],
   "source": [
    "demo[]"
   ]
  },
  {
   "cell_type": "code",
   "execution_count": 104,
   "id": "7dd4c2fe",
   "metadata": {},
   "outputs": [
    {
     "data": {
      "text/plain": [
       "0               NaN\n",
       "1               NaN\n",
       "2               NaN\n",
       "3               NaN\n",
       "4               NaN\n",
       "           ...     \n",
       "421    4.927245e+09\n",
       "422    3.569492e+09\n",
       "423    6.808743e+09\n",
       "424    5.759461e+09\n",
       "425    1.303857e+09\n",
       "Name: USI, Length: 426, dtype: float64"
      ]
     },
     "execution_count": 104,
     "metadata": {},
     "output_type": "execute_result"
    }
   ],
   "source": [
    "scores['USI'].astype('int', errors = 'ignore')"
   ]
  },
  {
   "cell_type": "code",
   "execution_count": 78,
   "id": "4e30d7f3",
   "metadata": {},
   "outputs": [
    {
     "data": {
      "text/html": [
       "<div>\n",
       "<style scoped>\n",
       "    .dataframe tbody tr th:only-of-type {\n",
       "        vertical-align: middle;\n",
       "    }\n",
       "\n",
       "    .dataframe tbody tr th {\n",
       "        vertical-align: top;\n",
       "    }\n",
       "\n",
       "    .dataframe thead th {\n",
       "        text-align: right;\n",
       "    }\n",
       "</style>\n",
       "<table border=\"1\" class=\"dataframe\">\n",
       "  <thead>\n",
       "    <tr style=\"text-align: right;\">\n",
       "      <th></th>\n",
       "      <th>StudentID</th>\n",
       "      <th>Season Year</th>\n",
       "      <th>Test Date</th>\n",
       "      <th>Mathematics Score</th>\n",
       "      <th>Mathematics Met Growth Target</th>\n",
       "      <th>Reading Score</th>\n",
       "      <th>Reading Met Growth Target</th>\n",
       "    </tr>\n",
       "  </thead>\n",
       "  <tbody>\n",
       "    <tr>\n",
       "      <th>0</th>\n",
       "      <td>10313</td>\n",
       "      <td>Fall 2020-2021</td>\n",
       "      <td>2020-09-15</td>\n",
       "      <td>215</td>\n",
       "      <td>Yes</td>\n",
       "      <td>467.0</td>\n",
       "      <td>Yes</td>\n",
       "    </tr>\n",
       "    <tr>\n",
       "      <th>1</th>\n",
       "      <td>10314</td>\n",
       "      <td>Fall 2020-2021</td>\n",
       "      <td>2020-09-15</td>\n",
       "      <td>223</td>\n",
       "      <td>No</td>\n",
       "      <td>203.0</td>\n",
       "      <td>No</td>\n",
       "    </tr>\n",
       "    <tr>\n",
       "      <th>2</th>\n",
       "      <td>10315</td>\n",
       "      <td>Fall 2020-2021</td>\n",
       "      <td>2020-09-15</td>\n",
       "      <td>332</td>\n",
       "      <td>Yes*</td>\n",
       "      <td>280.0</td>\n",
       "      <td>Yes*</td>\n",
       "    </tr>\n",
       "    <tr>\n",
       "      <th>3</th>\n",
       "      <td>10316</td>\n",
       "      <td>Fall 2020-2021</td>\n",
       "      <td>2020-09-15</td>\n",
       "      <td>493</td>\n",
       "      <td>No*</td>\n",
       "      <td>339.0</td>\n",
       "      <td>No*</td>\n",
       "    </tr>\n",
       "    <tr>\n",
       "      <th>4</th>\n",
       "      <td>10317</td>\n",
       "      <td>Fall 2020-2021</td>\n",
       "      <td>2020-09-15</td>\n",
       "      <td>500</td>\n",
       "      <td>No*</td>\n",
       "      <td>208.0</td>\n",
       "      <td>No*</td>\n",
       "    </tr>\n",
       "    <tr>\n",
       "      <th>...</th>\n",
       "      <td>...</td>\n",
       "      <td>...</td>\n",
       "      <td>...</td>\n",
       "      <td>...</td>\n",
       "      <td>...</td>\n",
       "      <td>...</td>\n",
       "      <td>...</td>\n",
       "    </tr>\n",
       "    <tr>\n",
       "      <th>421</th>\n",
       "      <td>4927244715</td>\n",
       "      <td>Fall 2020-2021</td>\n",
       "      <td>2020-09-15</td>\n",
       "      <td>452</td>\n",
       "      <td>Yes*</td>\n",
       "      <td>343.0</td>\n",
       "      <td>Yes*</td>\n",
       "    </tr>\n",
       "    <tr>\n",
       "      <th>422</th>\n",
       "      <td>3569491602</td>\n",
       "      <td>Fall 2020-2021</td>\n",
       "      <td>2020-09-15</td>\n",
       "      <td>216</td>\n",
       "      <td>No*</td>\n",
       "      <td>459.0</td>\n",
       "      <td>No*</td>\n",
       "    </tr>\n",
       "    <tr>\n",
       "      <th>423</th>\n",
       "      <td>6808742534</td>\n",
       "      <td>Fall 2020-2021</td>\n",
       "      <td>2020-09-15</td>\n",
       "      <td>259</td>\n",
       "      <td>Yes</td>\n",
       "      <td>359.0</td>\n",
       "      <td>Yes</td>\n",
       "    </tr>\n",
       "    <tr>\n",
       "      <th>424</th>\n",
       "      <td>5759461002</td>\n",
       "      <td>Fall 2020-2021</td>\n",
       "      <td>2020-09-15</td>\n",
       "      <td>436</td>\n",
       "      <td>Yes</td>\n",
       "      <td>214.0</td>\n",
       "      <td>Yes</td>\n",
       "    </tr>\n",
       "    <tr>\n",
       "      <th>425</th>\n",
       "      <td>1303857013</td>\n",
       "      <td>Fall 2020-2021</td>\n",
       "      <td>2020-09-15</td>\n",
       "      <td>270</td>\n",
       "      <td>Yes</td>\n",
       "      <td>NaN</td>\n",
       "      <td>Yes</td>\n",
       "    </tr>\n",
       "  </tbody>\n",
       "</table>\n",
       "<p>426 rows × 7 columns</p>\n",
       "</div>"
      ],
      "text/plain": [
       "      StudentID     Season Year  Test Date  Mathematics Score  \\\n",
       "0         10313  Fall 2020-2021 2020-09-15                215   \n",
       "1         10314  Fall 2020-2021 2020-09-15                223   \n",
       "2         10315  Fall 2020-2021 2020-09-15                332   \n",
       "3         10316  Fall 2020-2021 2020-09-15                493   \n",
       "4         10317  Fall 2020-2021 2020-09-15                500   \n",
       "..          ...             ...        ...                ...   \n",
       "421  4927244715  Fall 2020-2021 2020-09-15                452   \n",
       "422  3569491602  Fall 2020-2021 2020-09-15                216   \n",
       "423  6808742534  Fall 2020-2021 2020-09-15                259   \n",
       "424  5759461002  Fall 2020-2021 2020-09-15                436   \n",
       "425  1303857013  Fall 2020-2021 2020-09-15                270   \n",
       "\n",
       "    Mathematics Met Growth Target  Reading Score Reading Met Growth Target  \n",
       "0                             Yes          467.0                       Yes  \n",
       "1                              No          203.0                        No  \n",
       "2                            Yes*          280.0                      Yes*  \n",
       "3                             No*          339.0                       No*  \n",
       "4                             No*          208.0                       No*  \n",
       "..                            ...            ...                       ...  \n",
       "421                          Yes*          343.0                      Yes*  \n",
       "422                           No*          459.0                       No*  \n",
       "423                           Yes          359.0                       Yes  \n",
       "424                           Yes          214.0                       Yes  \n",
       "425                           Yes            NaN                       Yes  \n",
       "\n",
       "[426 rows x 7 columns]"
      ]
     },
     "execution_count": 78,
     "metadata": {},
     "output_type": "execute_result"
    }
   ],
   "source": [
    "scores[scores['StudentID'] > 5]"
   ]
  },
  {
   "cell_type": "code",
   "execution_count": 50,
   "id": "d9b4018b",
   "metadata": {},
   "outputs": [
    {
     "data": {
      "text/plain": [
       "array(['Fall 2020-2021'], dtype=object)"
      ]
     },
     "execution_count": 50,
     "metadata": {},
     "output_type": "execute_result"
    }
   ],
   "source": [
    "#seems clean\n",
    "scores['Season Year'].unique()"
   ]
  },
  {
   "cell_type": "code",
   "execution_count": 52,
   "id": "180d5495",
   "metadata": {},
   "outputs": [
    {
     "data": {
      "text/plain": [
       "array(['2020-09-15T00:00:00.000000000', '2020-09-21T00:00:00.000000000'],\n",
       "      dtype='datetime64[ns]')"
      ]
     },
     "execution_count": 52,
     "metadata": {},
     "output_type": "execute_result"
    }
   ],
   "source": [
    "# two seperate dates\n",
    "scores['Test Date'].unique() "
   ]
  },
  {
   "cell_type": "code",
   "execution_count": 53,
   "id": "f5b478a0",
   "metadata": {},
   "outputs": [
    {
     "data": {
      "text/plain": [
       "0      215\n",
       "1      223\n",
       "2      332\n",
       "3      493\n",
       "4      500\n",
       "      ... \n",
       "421    452\n",
       "422    216\n",
       "423    259\n",
       "424    436\n",
       "425    270\n",
       "Name: Mathematics Score, Length: 426, dtype: int64"
      ]
     },
     "execution_count": 53,
     "metadata": {},
     "output_type": "execute_result"
    }
   ],
   "source": [
    "scores['Mathematics Score']."
   ]
  },
  {
   "cell_type": "markdown",
   "id": "e97683c8",
   "metadata": {},
   "source": [
    "StudentID includes USI. Need to fix that\n"
   ]
  },
  {
   "cell_type": "code",
   "execution_count": 4,
   "id": "48316463",
   "metadata": {
    "scrolled": true
   },
   "outputs": [
    {
     "name": "stdout",
     "output_type": "stream",
     "text": [
      "<class 'pandas.core.frame.DataFrame'>\n",
      "RangeIndex: 426 entries, 0 to 425\n",
      "Data columns (total 7 columns):\n",
      " #   Column                         Non-Null Count  Dtype         \n",
      "---  ------                         --------------  -----         \n",
      " 0   StudentID                      426 non-null    int64         \n",
      " 1   Season Year                    426 non-null    object        \n",
      " 2   Test Date                      426 non-null    datetime64[ns]\n",
      " 3   Mathematics Score              426 non-null    int64         \n",
      " 4   Mathematics Met Growth Target  416 non-null    object        \n",
      " 5   Reading Score                  425 non-null    float64       \n",
      " 6   Reading Met Growth Target      416 non-null    object        \n",
      "dtypes: datetime64[ns](1), float64(1), int64(2), object(3)\n",
      "memory usage: 23.4+ KB\n"
     ]
    }
   ],
   "source": [
    "scores.info()"
   ]
  },
  {
   "cell_type": "code",
   "execution_count": 105,
   "id": "0f93cd98",
   "metadata": {},
   "outputs": [
    {
     "data": {
      "text/plain": [
       "0           10313\n",
       "1           10314\n",
       "2           10315\n",
       "3           10316\n",
       "4           10317\n",
       "          ...    \n",
       "421    4927244715\n",
       "422    3569491602\n",
       "423    6808742534\n",
       "424    5759461002\n",
       "425    1303857013\n",
       "Name: StudentID, Length: 426, dtype: int64"
      ]
     },
     "execution_count": 105,
     "metadata": {},
     "output_type": "execute_result"
    }
   ],
   "source": [
    "scores['StudentID']"
   ]
  },
  {
   "cell_type": "code",
   "execution_count": 106,
   "id": "5f61398a",
   "metadata": {},
   "outputs": [
    {
     "data": {
      "text/plain": [
       "array(['Fall 2020-2021'], dtype=object)"
      ]
     },
     "execution_count": 106,
     "metadata": {},
     "output_type": "execute_result"
    }
   ],
   "source": [
    "scores['Season Year'].unique()"
   ]
  },
  {
   "cell_type": "code",
   "execution_count": 107,
   "id": "833538fc",
   "metadata": {},
   "outputs": [
    {
     "data": {
      "text/plain": [
       "array(['2020-09-15T00:00:00.000000000', '2020-09-21T00:00:00.000000000'],\n",
       "      dtype='datetime64[ns]')"
      ]
     },
     "execution_count": 107,
     "metadata": {},
     "output_type": "execute_result"
    }
   ],
   "source": [
    "scores['Test Date'].unique()"
   ]
  },
  {
   "cell_type": "code",
   "execution_count": 114,
   "id": "7a188164",
   "metadata": {},
   "outputs": [
    {
     "data": {
      "text/plain": [
       "0      215\n",
       "1      223\n",
       "2      332\n",
       "3      493\n",
       "4      500\n",
       "      ... \n",
       "421    452\n",
       "422    216\n",
       "423    259\n",
       "424    436\n",
       "425    270\n",
       "Name: Mathematics Score, Length: 426, dtype: int64"
      ]
     },
     "execution_count": 114,
     "metadata": {},
     "output_type": "execute_result"
    }
   ],
   "source": [
    "scores['Mathematics Score']"
   ]
  },
  {
   "cell_type": "code",
   "execution_count": 116,
   "id": "d967cf75",
   "metadata": {},
   "outputs": [
    {
     "data": {
      "text/plain": [
       "array(['Yes', 'No', 'Yes*', 'No*', nan], dtype=object)"
      ]
     },
     "execution_count": 116,
     "metadata": {},
     "output_type": "execute_result"
    }
   ],
   "source": [
    "scores['Mathematics Met Growth Target'].unique()"
   ]
  },
  {
   "cell_type": "code",
   "execution_count": 123,
   "id": "96fdeb00",
   "metadata": {},
   "outputs": [],
   "source": [
    "from sklearn.linear_model import LogisticRegression as logreg"
   ]
  },
  {
   "cell_type": "code",
   "execution_count": null,
   "id": "e8e4bbeb",
   "metadata": {},
   "outputs": [],
   "source": [
    "X_train, y_train, X_test, y_test = (scores[''])\n",
    "\n",
    "growth_target_model = logreg()\n",
    "\n"
   ]
  }
 ],
 "metadata": {
  "kernelspec": {
   "display_name": "Python 3",
   "language": "python",
   "name": "python3"
  },
  "language_info": {
   "codemirror_mode": {
    "name": "ipython",
    "version": 3
   },
   "file_extension": ".py",
   "mimetype": "text/x-python",
   "name": "python",
   "nbconvert_exporter": "python",
   "pygments_lexer": "ipython3",
   "version": "3.8.8"
  }
 },
 "nbformat": 4,
 "nbformat_minor": 5
}
